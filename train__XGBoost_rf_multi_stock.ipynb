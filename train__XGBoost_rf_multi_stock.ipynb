{
  "nbformat": 4,
  "nbformat_minor": 0,
  "metadata": {
    "colab": {
      "provenance": [],
      "gpuType": "T4",
      "include_colab_link": true
    },
    "kernelspec": {
      "name": "python3",
      "display_name": "Python 3"
    },
    "language_info": {
      "name": "python"
    },
    "accelerator": "GPU"
  },
  "cells": [
    {
      "cell_type": "markdown",
      "metadata": {
        "id": "view-in-github",
        "colab_type": "text"
      },
      "source": [
        "<a href=\"https://colab.research.google.com/github/racoope70/daytrading-with-ml/blob/main/train__XGBoost_rf_multi_stock.ipynb\" target=\"_parent\"><img src=\"https://colab.research.google.com/assets/colab-badge.svg\" alt=\"Open In Colab\"/></a>"
      ]
    },
    {
      "cell_type": "code",
      "source": [
        "!pip install stable-baselines3[extra] gymnasium gym-anytrading yfinance xgboost joblib tensorflow"
      ],
      "metadata": {
        "colab": {
          "base_uri": "https://localhost:8080/"
        },
        "id": "4P3KXXKYsmib",
        "outputId": "f2020247-c4fb-4c6a-cc76-5d7287893a38"
      },
      "execution_count": 2,
      "outputs": [
        {
          "output_type": "stream",
          "name": "stdout",
          "text": [
            "Requirement already satisfied: gymnasium in /usr/local/lib/python3.11/dist-packages (1.1.1)\n",
            "Collecting gym-anytrading\n",
            "  Downloading gym_anytrading-2.0.0-py3-none-any.whl.metadata (292 bytes)\n",
            "Requirement already satisfied: yfinance in /usr/local/lib/python3.11/dist-packages (0.2.55)\n",
            "Requirement already satisfied: xgboost in /usr/local/lib/python3.11/dist-packages (2.1.4)\n",
            "Requirement already satisfied: joblib in /usr/local/lib/python3.11/dist-packages (1.4.2)\n",
            "Requirement already satisfied: tensorflow in /usr/local/lib/python3.11/dist-packages (2.18.0)\n",
            "Collecting stable-baselines3[extra]\n",
            "  Downloading stable_baselines3-2.6.0-py3-none-any.whl.metadata (4.8 kB)\n",
            "Requirement already satisfied: numpy<3.0,>=1.20 in /usr/local/lib/python3.11/dist-packages (from stable-baselines3[extra]) (2.0.2)\n",
            "Requirement already satisfied: torch<3.0,>=2.3 in /usr/local/lib/python3.11/dist-packages (from stable-baselines3[extra]) (2.6.0+cu124)\n",
            "Requirement already satisfied: cloudpickle in /usr/local/lib/python3.11/dist-packages (from stable-baselines3[extra]) (3.1.1)\n",
            "Requirement already satisfied: pandas in /usr/local/lib/python3.11/dist-packages (from stable-baselines3[extra]) (2.2.2)\n",
            "Requirement already satisfied: matplotlib in /usr/local/lib/python3.11/dist-packages (from stable-baselines3[extra]) (3.10.0)\n",
            "Requirement already satisfied: opencv-python in /usr/local/lib/python3.11/dist-packages (from stable-baselines3[extra]) (4.11.0.86)\n",
            "Requirement already satisfied: pygame in /usr/local/lib/python3.11/dist-packages (from stable-baselines3[extra]) (2.6.1)\n",
            "Requirement already satisfied: tensorboard>=2.9.1 in /usr/local/lib/python3.11/dist-packages (from stable-baselines3[extra]) (2.18.0)\n",
            "Requirement already satisfied: psutil in /usr/local/lib/python3.11/dist-packages (from stable-baselines3[extra]) (5.9.5)\n",
            "Requirement already satisfied: tqdm in /usr/local/lib/python3.11/dist-packages (from stable-baselines3[extra]) (4.67.1)\n",
            "Requirement already satisfied: rich in /usr/local/lib/python3.11/dist-packages (from stable-baselines3[extra]) (13.9.4)\n",
            "Requirement already satisfied: ale-py>=0.9.0 in /usr/local/lib/python3.11/dist-packages (from stable-baselines3[extra]) (0.10.2)\n",
            "Requirement already satisfied: pillow in /usr/local/lib/python3.11/dist-packages (from stable-baselines3[extra]) (11.1.0)\n",
            "Requirement already satisfied: typing-extensions>=4.3.0 in /usr/local/lib/python3.11/dist-packages (from gymnasium) (4.13.1)\n",
            "Requirement already satisfied: farama-notifications>=0.0.1 in /usr/local/lib/python3.11/dist-packages (from gymnasium) (0.0.4)\n",
            "Requirement already satisfied: requests>=2.31 in /usr/local/lib/python3.11/dist-packages (from yfinance) (2.32.3)\n",
            "Requirement already satisfied: multitasking>=0.0.7 in /usr/local/lib/python3.11/dist-packages (from yfinance) (0.0.11)\n",
            "Requirement already satisfied: platformdirs>=2.0.0 in /usr/local/lib/python3.11/dist-packages (from yfinance) (4.3.7)\n",
            "Requirement already satisfied: pytz>=2022.5 in /usr/local/lib/python3.11/dist-packages (from yfinance) (2025.2)\n",
            "Requirement already satisfied: frozendict>=2.3.4 in /usr/local/lib/python3.11/dist-packages (from yfinance) (2.4.6)\n",
            "Requirement already satisfied: peewee>=3.16.2 in /usr/local/lib/python3.11/dist-packages (from yfinance) (3.17.9)\n",
            "Requirement already satisfied: beautifulsoup4>=4.11.1 in /usr/local/lib/python3.11/dist-packages (from yfinance) (4.13.3)\n",
            "Requirement already satisfied: nvidia-nccl-cu12 in /usr/local/lib/python3.11/dist-packages (from xgboost) (2.21.5)\n",
            "Requirement already satisfied: scipy in /usr/local/lib/python3.11/dist-packages (from xgboost) (1.14.1)\n",
            "Requirement already satisfied: absl-py>=1.0.0 in /usr/local/lib/python3.11/dist-packages (from tensorflow) (1.4.0)\n",
            "Requirement already satisfied: astunparse>=1.6.0 in /usr/local/lib/python3.11/dist-packages (from tensorflow) (1.6.3)\n",
            "Requirement already satisfied: flatbuffers>=24.3.25 in /usr/local/lib/python3.11/dist-packages (from tensorflow) (25.2.10)\n",
            "Requirement already satisfied: gast!=0.5.0,!=0.5.1,!=0.5.2,>=0.2.1 in /usr/local/lib/python3.11/dist-packages (from tensorflow) (0.6.0)\n",
            "Requirement already satisfied: google-pasta>=0.1.1 in /usr/local/lib/python3.11/dist-packages (from tensorflow) (0.2.0)\n",
            "Requirement already satisfied: libclang>=13.0.0 in /usr/local/lib/python3.11/dist-packages (from tensorflow) (18.1.1)\n",
            "Requirement already satisfied: opt-einsum>=2.3.2 in /usr/local/lib/python3.11/dist-packages (from tensorflow) (3.4.0)\n",
            "Requirement already satisfied: packaging in /usr/local/lib/python3.11/dist-packages (from tensorflow) (24.2)\n",
            "Requirement already satisfied: protobuf!=4.21.0,!=4.21.1,!=4.21.2,!=4.21.3,!=4.21.4,!=4.21.5,<6.0.0dev,>=3.20.3 in /usr/local/lib/python3.11/dist-packages (from tensorflow) (5.29.4)\n",
            "Requirement already satisfied: setuptools in /usr/local/lib/python3.11/dist-packages (from tensorflow) (75.2.0)\n",
            "Requirement already satisfied: six>=1.12.0 in /usr/local/lib/python3.11/dist-packages (from tensorflow) (1.17.0)\n",
            "Requirement already satisfied: termcolor>=1.1.0 in /usr/local/lib/python3.11/dist-packages (from tensorflow) (3.0.1)\n",
            "Requirement already satisfied: wrapt>=1.11.0 in /usr/local/lib/python3.11/dist-packages (from tensorflow) (1.17.2)\n",
            "Requirement already satisfied: grpcio<2.0,>=1.24.3 in /usr/local/lib/python3.11/dist-packages (from tensorflow) (1.71.0)\n",
            "Requirement already satisfied: keras>=3.5.0 in /usr/local/lib/python3.11/dist-packages (from tensorflow) (3.8.0)\n",
            "Requirement already satisfied: h5py>=3.11.0 in /usr/local/lib/python3.11/dist-packages (from tensorflow) (3.13.0)\n",
            "Requirement already satisfied: ml-dtypes<0.5.0,>=0.4.0 in /usr/local/lib/python3.11/dist-packages (from tensorflow) (0.4.1)\n",
            "Requirement already satisfied: tensorflow-io-gcs-filesystem>=0.23.1 in /usr/local/lib/python3.11/dist-packages (from tensorflow) (0.37.1)\n",
            "Requirement already satisfied: wheel<1.0,>=0.23.0 in /usr/local/lib/python3.11/dist-packages (from astunparse>=1.6.0->tensorflow) (0.45.1)\n",
            "Requirement already satisfied: soupsieve>1.2 in /usr/local/lib/python3.11/dist-packages (from beautifulsoup4>=4.11.1->yfinance) (2.6)\n",
            "Requirement already satisfied: namex in /usr/local/lib/python3.11/dist-packages (from keras>=3.5.0->tensorflow) (0.0.8)\n",
            "Requirement already satisfied: optree in /usr/local/lib/python3.11/dist-packages (from keras>=3.5.0->tensorflow) (0.14.1)\n",
            "Requirement already satisfied: contourpy>=1.0.1 in /usr/local/lib/python3.11/dist-packages (from matplotlib->stable-baselines3[extra]) (1.3.1)\n",
            "Requirement already satisfied: cycler>=0.10 in /usr/local/lib/python3.11/dist-packages (from matplotlib->stable-baselines3[extra]) (0.12.1)\n",
            "Requirement already satisfied: fonttools>=4.22.0 in /usr/local/lib/python3.11/dist-packages (from matplotlib->stable-baselines3[extra]) (4.57.0)\n",
            "Requirement already satisfied: kiwisolver>=1.3.1 in /usr/local/lib/python3.11/dist-packages (from matplotlib->stable-baselines3[extra]) (1.4.8)\n",
            "Requirement already satisfied: pyparsing>=2.3.1 in /usr/local/lib/python3.11/dist-packages (from matplotlib->stable-baselines3[extra]) (3.2.3)\n",
            "Requirement already satisfied: python-dateutil>=2.7 in /usr/local/lib/python3.11/dist-packages (from matplotlib->stable-baselines3[extra]) (2.8.2)\n",
            "Requirement already satisfied: tzdata>=2022.7 in /usr/local/lib/python3.11/dist-packages (from pandas->stable-baselines3[extra]) (2025.2)\n",
            "Requirement already satisfied: charset-normalizer<4,>=2 in /usr/local/lib/python3.11/dist-packages (from requests>=2.31->yfinance) (3.4.1)\n",
            "Requirement already satisfied: idna<4,>=2.5 in /usr/local/lib/python3.11/dist-packages (from requests>=2.31->yfinance) (3.10)\n",
            "Requirement already satisfied: urllib3<3,>=1.21.1 in /usr/local/lib/python3.11/dist-packages (from requests>=2.31->yfinance) (2.3.0)\n",
            "Requirement already satisfied: certifi>=2017.4.17 in /usr/local/lib/python3.11/dist-packages (from requests>=2.31->yfinance) (2025.1.31)\n",
            "Requirement already satisfied: markdown>=2.6.8 in /usr/local/lib/python3.11/dist-packages (from tensorboard>=2.9.1->stable-baselines3[extra]) (3.7)\n",
            "Requirement already satisfied: tensorboard-data-server<0.8.0,>=0.7.0 in /usr/local/lib/python3.11/dist-packages (from tensorboard>=2.9.1->stable-baselines3[extra]) (0.7.2)\n",
            "Requirement already satisfied: werkzeug>=1.0.1 in /usr/local/lib/python3.11/dist-packages (from tensorboard>=2.9.1->stable-baselines3[extra]) (3.1.3)\n",
            "Requirement already satisfied: filelock in /usr/local/lib/python3.11/dist-packages (from torch<3.0,>=2.3->stable-baselines3[extra]) (3.18.0)\n",
            "Requirement already satisfied: networkx in /usr/local/lib/python3.11/dist-packages (from torch<3.0,>=2.3->stable-baselines3[extra]) (3.4.2)\n",
            "Requirement already satisfied: jinja2 in /usr/local/lib/python3.11/dist-packages (from torch<3.0,>=2.3->stable-baselines3[extra]) (3.1.6)\n",
            "Requirement already satisfied: fsspec in /usr/local/lib/python3.11/dist-packages (from torch<3.0,>=2.3->stable-baselines3[extra]) (2025.3.2)\n",
            "Collecting nvidia-cuda-nvrtc-cu12==12.4.127 (from torch<3.0,>=2.3->stable-baselines3[extra])\n",
            "  Downloading nvidia_cuda_nvrtc_cu12-12.4.127-py3-none-manylinux2014_x86_64.whl.metadata (1.5 kB)\n",
            "Collecting nvidia-cuda-runtime-cu12==12.4.127 (from torch<3.0,>=2.3->stable-baselines3[extra])\n",
            "  Downloading nvidia_cuda_runtime_cu12-12.4.127-py3-none-manylinux2014_x86_64.whl.metadata (1.5 kB)\n",
            "Collecting nvidia-cuda-cupti-cu12==12.4.127 (from torch<3.0,>=2.3->stable-baselines3[extra])\n",
            "  Downloading nvidia_cuda_cupti_cu12-12.4.127-py3-none-manylinux2014_x86_64.whl.metadata (1.6 kB)\n",
            "Collecting nvidia-cudnn-cu12==9.1.0.70 (from torch<3.0,>=2.3->stable-baselines3[extra])\n",
            "  Downloading nvidia_cudnn_cu12-9.1.0.70-py3-none-manylinux2014_x86_64.whl.metadata (1.6 kB)\n",
            "Collecting nvidia-cublas-cu12==12.4.5.8 (from torch<3.0,>=2.3->stable-baselines3[extra])\n",
            "  Downloading nvidia_cublas_cu12-12.4.5.8-py3-none-manylinux2014_x86_64.whl.metadata (1.5 kB)\n",
            "Collecting nvidia-cufft-cu12==11.2.1.3 (from torch<3.0,>=2.3->stable-baselines3[extra])\n",
            "  Downloading nvidia_cufft_cu12-11.2.1.3-py3-none-manylinux2014_x86_64.whl.metadata (1.5 kB)\n",
            "Collecting nvidia-curand-cu12==10.3.5.147 (from torch<3.0,>=2.3->stable-baselines3[extra])\n",
            "  Downloading nvidia_curand_cu12-10.3.5.147-py3-none-manylinux2014_x86_64.whl.metadata (1.5 kB)\n",
            "Collecting nvidia-cusolver-cu12==11.6.1.9 (from torch<3.0,>=2.3->stable-baselines3[extra])\n",
            "  Downloading nvidia_cusolver_cu12-11.6.1.9-py3-none-manylinux2014_x86_64.whl.metadata (1.6 kB)\n",
            "Collecting nvidia-cusparse-cu12==12.3.1.170 (from torch<3.0,>=2.3->stable-baselines3[extra])\n",
            "  Downloading nvidia_cusparse_cu12-12.3.1.170-py3-none-manylinux2014_x86_64.whl.metadata (1.6 kB)\n",
            "Requirement already satisfied: nvidia-cusparselt-cu12==0.6.2 in /usr/local/lib/python3.11/dist-packages (from torch<3.0,>=2.3->stable-baselines3[extra]) (0.6.2)\n",
            "Requirement already satisfied: nvidia-nvtx-cu12==12.4.127 in /usr/local/lib/python3.11/dist-packages (from torch<3.0,>=2.3->stable-baselines3[extra]) (12.4.127)\n",
            "Collecting nvidia-nvjitlink-cu12==12.4.127 (from torch<3.0,>=2.3->stable-baselines3[extra])\n",
            "  Downloading nvidia_nvjitlink_cu12-12.4.127-py3-none-manylinux2014_x86_64.whl.metadata (1.5 kB)\n",
            "Requirement already satisfied: triton==3.2.0 in /usr/local/lib/python3.11/dist-packages (from torch<3.0,>=2.3->stable-baselines3[extra]) (3.2.0)\n",
            "Requirement already satisfied: sympy==1.13.1 in /usr/local/lib/python3.11/dist-packages (from torch<3.0,>=2.3->stable-baselines3[extra]) (1.13.1)\n",
            "Requirement already satisfied: mpmath<1.4,>=1.1.0 in /usr/local/lib/python3.11/dist-packages (from sympy==1.13.1->torch<3.0,>=2.3->stable-baselines3[extra]) (1.3.0)\n",
            "Requirement already satisfied: markdown-it-py>=2.2.0 in /usr/local/lib/python3.11/dist-packages (from rich->stable-baselines3[extra]) (3.0.0)\n",
            "Requirement already satisfied: pygments<3.0.0,>=2.13.0 in /usr/local/lib/python3.11/dist-packages (from rich->stable-baselines3[extra]) (2.18.0)\n",
            "Requirement already satisfied: mdurl~=0.1 in /usr/local/lib/python3.11/dist-packages (from markdown-it-py>=2.2.0->rich->stable-baselines3[extra]) (0.1.2)\n",
            "Requirement already satisfied: MarkupSafe>=2.1.1 in /usr/local/lib/python3.11/dist-packages (from werkzeug>=1.0.1->tensorboard>=2.9.1->stable-baselines3[extra]) (3.0.2)\n",
            "Downloading gym_anytrading-2.0.0-py3-none-any.whl (172 kB)\n",
            "\u001b[2K   \u001b[90m━━━━━━━━━━━━━━━━━━━━━━━━━━━━━━━━━━━━━━━━\u001b[0m \u001b[32m172.2/172.2 kB\u001b[0m \u001b[31m10.4 MB/s\u001b[0m eta \u001b[36m0:00:00\u001b[0m\n",
            "\u001b[?25hDownloading nvidia_cublas_cu12-12.4.5.8-py3-none-manylinux2014_x86_64.whl (363.4 MB)\n",
            "\u001b[2K   \u001b[90m━━━━━━━━━━━━━━━━━━━━━━━━━━━━━━━━━━━━━━━━\u001b[0m \u001b[32m363.4/363.4 MB\u001b[0m \u001b[31m1.6 MB/s\u001b[0m eta \u001b[36m0:00:00\u001b[0m\n",
            "\u001b[?25hDownloading nvidia_cuda_cupti_cu12-12.4.127-py3-none-manylinux2014_x86_64.whl (13.8 MB)\n",
            "\u001b[2K   \u001b[90m━━━━━━━━━━━━━━━━━━━━━━━━━━━━━━━━━━━━━━━━\u001b[0m \u001b[32m13.8/13.8 MB\u001b[0m \u001b[31m22.0 MB/s\u001b[0m eta \u001b[36m0:00:00\u001b[0m\n",
            "\u001b[?25hDownloading nvidia_cuda_nvrtc_cu12-12.4.127-py3-none-manylinux2014_x86_64.whl (24.6 MB)\n",
            "\u001b[2K   \u001b[90m━━━━━━━━━━━━━━━━━━━━━━━━━━━━━━━━━━━━━━━━\u001b[0m \u001b[32m24.6/24.6 MB\u001b[0m \u001b[31m15.4 MB/s\u001b[0m eta \u001b[36m0:00:00\u001b[0m\n",
            "\u001b[?25hDownloading nvidia_cuda_runtime_cu12-12.4.127-py3-none-manylinux2014_x86_64.whl (883 kB)\n",
            "\u001b[2K   \u001b[90m━━━━━━━━━━━━━━━━━━━━━━━━━━━━━━━━━━━━━━━━\u001b[0m \u001b[32m883.7/883.7 kB\u001b[0m \u001b[31m11.7 MB/s\u001b[0m eta \u001b[36m0:00:00\u001b[0m\n",
            "\u001b[?25hDownloading nvidia_cudnn_cu12-9.1.0.70-py3-none-manylinux2014_x86_64.whl (664.8 MB)\n",
            "\u001b[2K   \u001b[90m━━━━━━━━━━━━━━━━━━━━━━━━━━━━━━━━━━━━━━━━\u001b[0m \u001b[32m664.8/664.8 MB\u001b[0m \u001b[31m833.3 kB/s\u001b[0m eta \u001b[36m0:00:00\u001b[0m\n",
            "\u001b[?25hDownloading nvidia_cufft_cu12-11.2.1.3-py3-none-manylinux2014_x86_64.whl (211.5 MB)\n",
            "\u001b[2K   \u001b[90m━━━━━━━━━━━━━━━━━━━━━━━━━━━━━━━━━━━━━━━━\u001b[0m \u001b[32m211.5/211.5 MB\u001b[0m \u001b[31m2.1 MB/s\u001b[0m eta \u001b[36m0:00:00\u001b[0m\n",
            "\u001b[?25hDownloading nvidia_curand_cu12-10.3.5.147-py3-none-manylinux2014_x86_64.whl (56.3 MB)\n",
            "\u001b[2K   \u001b[90m━━━━━━━━━━━━━━━━━━━━━━━━━━━━━━━━━━━━━━━━\u001b[0m \u001b[32m56.3/56.3 MB\u001b[0m \u001b[31m12.4 MB/s\u001b[0m eta \u001b[36m0:00:00\u001b[0m\n",
            "\u001b[?25hDownloading nvidia_cusolver_cu12-11.6.1.9-py3-none-manylinux2014_x86_64.whl (127.9 MB)\n",
            "\u001b[2K   \u001b[90m━━━━━━━━━━━━━━━━━━━━━━━━━━━━━━━━━━━━━━━━\u001b[0m \u001b[32m127.9/127.9 MB\u001b[0m \u001b[31m6.7 MB/s\u001b[0m eta \u001b[36m0:00:00\u001b[0m\n",
            "\u001b[?25hDownloading nvidia_cusparse_cu12-12.3.1.170-py3-none-manylinux2014_x86_64.whl (207.5 MB)\n",
            "\u001b[2K   \u001b[90m━━━━━━━━━━━━━━━━━━━━━━━━━━━━━━━━━━━━━━━━\u001b[0m \u001b[32m207.5/207.5 MB\u001b[0m \u001b[31m2.7 MB/s\u001b[0m eta \u001b[36m0:00:00\u001b[0m\n",
            "\u001b[?25hDownloading nvidia_nvjitlink_cu12-12.4.127-py3-none-manylinux2014_x86_64.whl (21.1 MB)\n",
            "\u001b[2K   \u001b[90m━━━━━━━━━━━━━━━━━━━━━━━━━━━━━━━━━━━━━━━━\u001b[0m \u001b[32m21.1/21.1 MB\u001b[0m \u001b[31m49.4 MB/s\u001b[0m eta \u001b[36m0:00:00\u001b[0m\n",
            "\u001b[?25hDownloading stable_baselines3-2.6.0-py3-none-any.whl (184 kB)\n",
            "\u001b[2K   \u001b[90m━━━━━━━━━━━━━━━━━━━━━━━━━━━━━━━━━━━━━━━━\u001b[0m \u001b[32m184.5/184.5 kB\u001b[0m \u001b[31m13.3 MB/s\u001b[0m eta \u001b[36m0:00:00\u001b[0m\n",
            "\u001b[?25hInstalling collected packages: nvidia-nvjitlink-cu12, nvidia-curand-cu12, nvidia-cufft-cu12, nvidia-cuda-runtime-cu12, nvidia-cuda-nvrtc-cu12, nvidia-cuda-cupti-cu12, nvidia-cublas-cu12, nvidia-cusparse-cu12, nvidia-cudnn-cu12, nvidia-cusolver-cu12, gym-anytrading, stable-baselines3\n",
            "  Attempting uninstall: nvidia-nvjitlink-cu12\n",
            "    Found existing installation: nvidia-nvjitlink-cu12 12.5.82\n",
            "    Uninstalling nvidia-nvjitlink-cu12-12.5.82:\n",
            "      Successfully uninstalled nvidia-nvjitlink-cu12-12.5.82\n",
            "  Attempting uninstall: nvidia-curand-cu12\n",
            "    Found existing installation: nvidia-curand-cu12 10.3.6.82\n",
            "    Uninstalling nvidia-curand-cu12-10.3.6.82:\n",
            "      Successfully uninstalled nvidia-curand-cu12-10.3.6.82\n",
            "  Attempting uninstall: nvidia-cufft-cu12\n",
            "    Found existing installation: nvidia-cufft-cu12 11.2.3.61\n",
            "    Uninstalling nvidia-cufft-cu12-11.2.3.61:\n",
            "      Successfully uninstalled nvidia-cufft-cu12-11.2.3.61\n",
            "  Attempting uninstall: nvidia-cuda-runtime-cu12\n",
            "    Found existing installation: nvidia-cuda-runtime-cu12 12.5.82\n",
            "    Uninstalling nvidia-cuda-runtime-cu12-12.5.82:\n",
            "      Successfully uninstalled nvidia-cuda-runtime-cu12-12.5.82\n",
            "  Attempting uninstall: nvidia-cuda-nvrtc-cu12\n",
            "    Found existing installation: nvidia-cuda-nvrtc-cu12 12.5.82\n",
            "    Uninstalling nvidia-cuda-nvrtc-cu12-12.5.82:\n",
            "      Successfully uninstalled nvidia-cuda-nvrtc-cu12-12.5.82\n",
            "  Attempting uninstall: nvidia-cuda-cupti-cu12\n",
            "    Found existing installation: nvidia-cuda-cupti-cu12 12.5.82\n",
            "    Uninstalling nvidia-cuda-cupti-cu12-12.5.82:\n",
            "      Successfully uninstalled nvidia-cuda-cupti-cu12-12.5.82\n",
            "  Attempting uninstall: nvidia-cublas-cu12\n",
            "    Found existing installation: nvidia-cublas-cu12 12.5.3.2\n",
            "    Uninstalling nvidia-cublas-cu12-12.5.3.2:\n",
            "      Successfully uninstalled nvidia-cublas-cu12-12.5.3.2\n",
            "  Attempting uninstall: nvidia-cusparse-cu12\n",
            "    Found existing installation: nvidia-cusparse-cu12 12.5.1.3\n",
            "    Uninstalling nvidia-cusparse-cu12-12.5.1.3:\n",
            "      Successfully uninstalled nvidia-cusparse-cu12-12.5.1.3\n",
            "  Attempting uninstall: nvidia-cudnn-cu12\n",
            "    Found existing installation: nvidia-cudnn-cu12 9.3.0.75\n",
            "    Uninstalling nvidia-cudnn-cu12-9.3.0.75:\n",
            "      Successfully uninstalled nvidia-cudnn-cu12-9.3.0.75\n",
            "  Attempting uninstall: nvidia-cusolver-cu12\n",
            "    Found existing installation: nvidia-cusolver-cu12 11.6.3.83\n",
            "    Uninstalling nvidia-cusolver-cu12-11.6.3.83:\n",
            "      Successfully uninstalled nvidia-cusolver-cu12-11.6.3.83\n",
            "Successfully installed gym-anytrading-2.0.0 nvidia-cublas-cu12-12.4.5.8 nvidia-cuda-cupti-cu12-12.4.127 nvidia-cuda-nvrtc-cu12-12.4.127 nvidia-cuda-runtime-cu12-12.4.127 nvidia-cudnn-cu12-9.1.0.70 nvidia-cufft-cu12-11.2.1.3 nvidia-curand-cu12-10.3.5.147 nvidia-cusolver-cu12-11.6.1.9 nvidia-cusparse-cu12-12.3.1.170 nvidia-nvjitlink-cu12-12.4.127 stable-baselines3-2.6.0\n"
          ]
        }
      ]
    },
    {
      "cell_type": "code",
      "source": [
        "!pip uninstall -y dask cudf-cu12 cuml-cu12 rapids-dask-dependency pylibraft-cu12 pylibcudf-cu12 numba stable-baselines3 gymnasium gym-anytrading"
      ],
      "metadata": {
        "colab": {
          "base_uri": "https://localhost:8080/"
        },
        "id": "BIw-8ZUbkcWG",
        "outputId": "b534b9c7-ba03-4686-8485-00c4ecc6923c"
      },
      "execution_count": 3,
      "outputs": [
        {
          "output_type": "stream",
          "name": "stdout",
          "text": [
            "Found existing installation: dask 2024.12.1\n",
            "Uninstalling dask-2024.12.1:\n",
            "  Successfully uninstalled dask-2024.12.1\n",
            "Found existing installation: cudf-cu12 25.2.1\n",
            "Uninstalling cudf-cu12-25.2.1:\n",
            "  Successfully uninstalled cudf-cu12-25.2.1\n",
            "Found existing installation: cuml-cu12 25.2.1\n",
            "Uninstalling cuml-cu12-25.2.1:\n",
            "  Successfully uninstalled cuml-cu12-25.2.1\n",
            "Found existing installation: rapids-dask-dependency 25.2.0\n",
            "Uninstalling rapids-dask-dependency-25.2.0:\n",
            "  Successfully uninstalled rapids-dask-dependency-25.2.0\n",
            "Found existing installation: pylibraft-cu12 25.2.0\n",
            "Uninstalling pylibraft-cu12-25.2.0:\n",
            "  Successfully uninstalled pylibraft-cu12-25.2.0\n",
            "Found existing installation: pylibcudf-cu12 25.2.1\n",
            "Uninstalling pylibcudf-cu12-25.2.1:\n",
            "  Successfully uninstalled pylibcudf-cu12-25.2.1\n",
            "Found existing installation: numba 0.60.0\n",
            "Uninstalling numba-0.60.0:\n",
            "  Successfully uninstalled numba-0.60.0\n",
            "Found existing installation: stable_baselines3 2.6.0\n",
            "Uninstalling stable_baselines3-2.6.0:\n",
            "  Successfully uninstalled stable_baselines3-2.6.0\n",
            "Found existing installation: gymnasium 1.1.1\n",
            "Uninstalling gymnasium-1.1.1:\n",
            "  Successfully uninstalled gymnasium-1.1.1\n",
            "Found existing installation: gym-anytrading 2.0.0\n",
            "Uninstalling gym-anytrading-2.0.0:\n",
            "  Successfully uninstalled gym-anytrading-2.0.0\n"
          ]
        }
      ]
    },
    {
      "cell_type": "code",
      "source": [
        "!pip install --upgrade --force-reinstall \\\n",
        "    dask==2024.11.2 \\\n",
        "    rapids-dask-dependency==24.12.0 \\\n",
        "    cudf-cu12==24.12.0 \\\n",
        "    cuml-cu12==24.12.0 \\\n",
        "    pylibraft-cu12==24.12.0 \\\n",
        "    pylibcudf-cu12==24.12.0 \\\n",
        "    numba==0.61.0 \\\n",
        "    stable-baselines3[extra] \\\n",
        "    gymnasium==0.29.1 \\\n",
        "    gym-anytrading==2.0.0\n"
      ],
      "metadata": {
        "colab": {
          "base_uri": "https://localhost:8080/",
          "height": 1000
        },
        "id": "GLEB9M8WvZmC",
        "outputId": "5ccc7880-d86b-43e3-d222-f0de785cd052"
      },
      "execution_count": 4,
      "outputs": [
        {
          "output_type": "stream",
          "name": "stdout",
          "text": [
            "Collecting dask==2024.11.2\n",
            "  Downloading dask-2024.11.2-py3-none-any.whl.metadata (3.7 kB)\n",
            "Collecting rapids-dask-dependency==24.12.0\n",
            "  Downloading rapids_dask_dependency-24.12.0-py3-none-any.whl.metadata (3.7 kB)\n",
            "Collecting cudf-cu12==24.12.0\n",
            "  Downloading cudf_cu12-24.12.0-cp311-cp311-manylinux_2_24_x86_64.manylinux_2_28_x86_64.whl.metadata (6.2 kB)\n",
            "Collecting cuml-cu12==24.12.0\n",
            "  Downloading cuml_cu12-24.12.0.tar.gz (2.5 kB)\n",
            "  Installing build dependencies ... \u001b[?25l\u001b[?25hdone\n",
            "  Getting requirements to build wheel ... \u001b[?25l\u001b[?25hdone\n",
            "  Preparing metadata (pyproject.toml) ... \u001b[?25l\u001b[?25hdone\n",
            "Collecting pylibraft-cu12==24.12.0\n",
            "  Downloading pylibraft_cu12-24.12.0.tar.gz (5.6 kB)\n",
            "  Installing build dependencies ... \u001b[?25l\u001b[?25hdone\n",
            "  Getting requirements to build wheel ... \u001b[?25l\u001b[?25hdone\n",
            "  Preparing metadata (pyproject.toml) ... \u001b[?25l\u001b[?25hdone\n",
            "Collecting pylibcudf-cu12==24.12.0\n",
            "  Downloading pylibcudf_cu12-24.12.0-cp311-cp311-manylinux_2_24_x86_64.manylinux_2_28_x86_64.whl.metadata (4.9 kB)\n",
            "Collecting numba==0.61.0\n",
            "  Downloading numba-0.61.0-cp311-cp311-manylinux2014_x86_64.manylinux_2_17_x86_64.whl.metadata (2.8 kB)\n",
            "Collecting gymnasium==0.29.1\n",
            "  Downloading gymnasium-0.29.1-py3-none-any.whl.metadata (10 kB)\n",
            "Collecting gym-anytrading==2.0.0\n",
            "  Using cached gym_anytrading-2.0.0-py3-none-any.whl.metadata (292 bytes)\n",
            "Collecting stable-baselines3[extra]\n",
            "  Using cached stable_baselines3-2.6.0-py3-none-any.whl.metadata (4.8 kB)\n",
            "Collecting click>=8.1 (from dask==2024.11.2)\n",
            "  Downloading click-8.1.8-py3-none-any.whl.metadata (2.3 kB)\n",
            "Collecting cloudpickle>=3.0.0 (from dask==2024.11.2)\n",
            "  Downloading cloudpickle-3.1.1-py3-none-any.whl.metadata (7.1 kB)\n",
            "Collecting fsspec>=2021.09.0 (from dask==2024.11.2)\n",
            "  Downloading fsspec-2025.3.2-py3-none-any.whl.metadata (11 kB)\n",
            "Collecting packaging>=20.0 (from dask==2024.11.2)\n",
            "  Downloading packaging-24.2-py3-none-any.whl.metadata (3.2 kB)\n",
            "Collecting partd>=1.4.0 (from dask==2024.11.2)\n",
            "  Downloading partd-1.4.2-py3-none-any.whl.metadata (4.6 kB)\n",
            "Collecting pyyaml>=5.3.1 (from dask==2024.11.2)\n",
            "  Downloading PyYAML-6.0.2-cp311-cp311-manylinux_2_17_x86_64.manylinux2014_x86_64.whl.metadata (2.1 kB)\n",
            "Collecting toolz>=0.10.0 (from dask==2024.11.2)\n",
            "  Downloading toolz-1.0.0-py3-none-any.whl.metadata (5.1 kB)\n",
            "Collecting importlib-metadata>=4.13.0 (from dask==2024.11.2)\n",
            "  Downloading importlib_metadata-8.6.1-py3-none-any.whl.metadata (4.7 kB)\n",
            "Collecting distributed==2024.11.2 (from rapids-dask-dependency==24.12.0)\n",
            "  Downloading distributed-2024.11.2-py3-none-any.whl.metadata (3.3 kB)\n",
            "Collecting dask-expr==1.1.19 (from rapids-dask-dependency==24.12.0)\n",
            "  Downloading dask_expr-1.1.19-py3-none-any.whl.metadata (2.6 kB)\n",
            "Collecting pynvml<11.5.0a0,>=11.0.0 (from rapids-dask-dependency==24.12.0)\n",
            "  Downloading pynvml-11.4.1-py3-none-any.whl.metadata (7.7 kB)\n",
            "Collecting cachetools (from cudf-cu12==24.12.0)\n",
            "  Downloading cachetools-5.5.2-py3-none-any.whl.metadata (5.4 kB)\n",
            "Collecting cuda-python<13.0a0,<=12.6.0,>=12.0 (from cudf-cu12==24.12.0)\n",
            "  Downloading cuda_python-12.6.0-cp311-cp311-manylinux_2_17_x86_64.manylinux2014_x86_64.whl.metadata (12 kB)\n",
            "Collecting cupy-cuda12x>=12.0.0 (from cudf-cu12==24.12.0)\n",
            "  Downloading cupy_cuda12x-13.4.1-cp311-cp311-manylinux2014_x86_64.whl.metadata (2.6 kB)\n",
            "Collecting libcudf-cu12==24.12.* (from cudf-cu12==24.12.0)\n",
            "  Downloading libcudf_cu12-24.12.0-py3-none-manylinux_2_28_x86_64.whl.metadata (4.1 kB)\n",
            "Collecting numba-cuda<0.0.18,>=0.0.13 (from cudf-cu12==24.12.0)\n",
            "  Downloading numba_cuda-0.0.17.1-py3-none-any.whl.metadata (1.4 kB)\n",
            "Collecting numpy<3.0a0,>=1.23 (from cudf-cu12==24.12.0)\n",
            "  Downloading numpy-2.2.4-cp311-cp311-manylinux_2_17_x86_64.manylinux2014_x86_64.whl.metadata (62 kB)\n",
            "\u001b[2K     \u001b[90m━━━━━━━━━━━━━━━━━━━━━━━━━━━━━━━━━━━━━━━━\u001b[0m \u001b[32m62.0/62.0 kB\u001b[0m \u001b[31m4.9 MB/s\u001b[0m eta \u001b[36m0:00:00\u001b[0m\n",
            "\u001b[?25hCollecting nvtx>=0.2.1 (from cudf-cu12==24.12.0)\n",
            "  Downloading nvtx-0.2.11-cp311-cp311-manylinux_2_17_x86_64.manylinux2014_x86_64.whl.metadata (2.2 kB)\n",
            "Collecting pandas<2.2.4dev0,>=2.0 (from cudf-cu12==24.12.0)\n",
            "  Downloading pandas-2.2.3-cp311-cp311-manylinux_2_17_x86_64.manylinux2014_x86_64.whl.metadata (89 kB)\n",
            "\u001b[2K     \u001b[90m━━━━━━━━━━━━━━━━━━━━━━━━━━━━━━━━━━━━━━━━\u001b[0m \u001b[32m89.9/89.9 kB\u001b[0m \u001b[31m7.3 MB/s\u001b[0m eta \u001b[36m0:00:00\u001b[0m\n",
            "\u001b[?25hCollecting pyarrow<19.0.0a0,>=14.0.0 (from cudf-cu12==24.12.0)\n",
            "  Downloading pyarrow-18.1.0-cp311-cp311-manylinux_2_28_x86_64.whl.metadata (3.3 kB)\n",
            "Collecting pynvjitlink-cu12 (from cudf-cu12==24.12.0)\n",
            "  Downloading pynvjitlink_cu12-0.5.2-cp311-cp311-manylinux_2_27_x86_64.manylinux_2_28_x86_64.whl.metadata (1.5 kB)\n",
            "Collecting rich (from cudf-cu12==24.12.0)\n",
            "  Downloading rich-14.0.0-py3-none-any.whl.metadata (18 kB)\n",
            "Collecting rmm-cu12==24.12.* (from cudf-cu12==24.12.0)\n",
            "  Downloading rmm_cu12-24.12.1-cp311-cp311-manylinux_2_24_x86_64.manylinux_2_28_x86_64.whl.metadata (42 kB)\n",
            "\u001b[2K     \u001b[90m━━━━━━━━━━━━━━━━━━━━━━━━━━━━━━━━━━━━━━━━\u001b[0m \u001b[32m42.2/42.2 kB\u001b[0m \u001b[31m3.4 MB/s\u001b[0m eta \u001b[36m0:00:00\u001b[0m\n",
            "\u001b[?25hCollecting typing_extensions>=4.0.0 (from cudf-cu12==24.12.0)\n",
            "  Downloading typing_extensions-4.13.1-py3-none-any.whl.metadata (3.0 kB)\n",
            "Collecting cuvs-cu12==24.12.* (from cuml-cu12==24.12.0)\n",
            "  Downloading cuvs_cu12-24.12.0.tar.gz (1.0 kB)\n",
            "  Installing build dependencies ... \u001b[?25l\u001b[?25hdone\n",
            "  Getting requirements to build wheel ... \u001b[?25l\u001b[?25hdone\n",
            "  Preparing metadata (pyproject.toml) ... \u001b[?25l\u001b[?25hdone\n",
            "Collecting dask-cuda==24.12.* (from cuml-cu12==24.12.0)\n",
            "  Downloading dask_cuda-24.12.0-py3-none-any.whl.metadata (2.6 kB)\n",
            "Collecting dask-cudf-cu12==24.12.* (from cuml-cu12==24.12.0)\n",
            "  Downloading dask_cudf_cu12-24.12.0-py3-none-any.whl.metadata (4.5 kB)\n",
            "Collecting joblib>=0.11 (from cuml-cu12==24.12.0)\n",
            "  Downloading joblib-1.4.2-py3-none-any.whl.metadata (5.4 kB)\n",
            "Collecting nvidia-cublas-cu12 (from cuml-cu12==24.12.0)\n",
            "  Downloading nvidia_cublas_cu12-12.8.4.1-py3-none-manylinux_2_27_x86_64.whl.metadata (1.7 kB)\n",
            "Collecting nvidia-cufft-cu12 (from cuml-cu12==24.12.0)\n",
            "  Downloading nvidia_cufft_cu12-11.3.3.83-py3-none-manylinux2014_x86_64.manylinux_2_17_x86_64.whl.metadata (1.7 kB)\n",
            "Collecting nvidia-curand-cu12 (from cuml-cu12==24.12.0)\n",
            "  Downloading nvidia_curand_cu12-10.3.9.90-py3-none-manylinux_2_27_x86_64.whl.metadata (1.7 kB)\n",
            "Collecting nvidia-cusolver-cu12 (from cuml-cu12==24.12.0)\n",
            "  Downloading nvidia_cusolver_cu12-11.7.3.90-py3-none-manylinux_2_27_x86_64.whl.metadata (1.8 kB)\n",
            "Collecting nvidia-cusparse-cu12 (from cuml-cu12==24.12.0)\n",
            "  Downloading nvidia_cusparse_cu12-12.5.8.93-py3-none-manylinux2014_x86_64.manylinux_2_17_x86_64.whl.metadata (1.8 kB)\n",
            "Collecting raft-dask-cu12==24.12.* (from cuml-cu12==24.12.0)\n",
            "  Downloading raft_dask_cu12-24.12.0.tar.gz (5.6 kB)\n",
            "  Installing build dependencies ... \u001b[?25l\u001b[?25hdone\n",
            "  Getting requirements to build wheel ... \u001b[?25l\u001b[?25hdone\n",
            "  Preparing metadata (pyproject.toml) ... \u001b[?25l\u001b[?25hdone\n",
            "Collecting scipy>=1.8.0 (from cuml-cu12==24.12.0)\n",
            "  Downloading scipy-1.15.2-cp311-cp311-manylinux_2_17_x86_64.manylinux2014_x86_64.whl.metadata (61 kB)\n",
            "\u001b[2K     \u001b[90m━━━━━━━━━━━━━━━━━━━━━━━━━━━━━━━━━━━━━━━━\u001b[0m \u001b[32m62.0/62.0 kB\u001b[0m \u001b[31m4.7 MB/s\u001b[0m eta \u001b[36m0:00:00\u001b[0m\n",
            "\u001b[?25hCollecting treelite==4.3.0 (from cuml-cu12==24.12.0)\n",
            "  Downloading treelite-4.3.0-py3-none-manylinux2014_x86_64.whl.metadata (1.5 kB)\n",
            "Collecting llvmlite<0.45,>=0.44.0dev0 (from numba==0.61.0)\n",
            "  Downloading llvmlite-0.44.0-cp311-cp311-manylinux_2_17_x86_64.manylinux2014_x86_64.whl.metadata (4.8 kB)\n",
            "Collecting numpy<3.0a0,>=1.23 (from cudf-cu12==24.12.0)\n",
            "  Downloading numpy-2.1.3-cp311-cp311-manylinux_2_17_x86_64.manylinux2014_x86_64.whl.metadata (62 kB)\n",
            "\u001b[2K     \u001b[90m━━━━━━━━━━━━━━━━━━━━━━━━━━━━━━━━━━━━━━━━\u001b[0m \u001b[32m62.0/62.0 kB\u001b[0m \u001b[31m5.1 MB/s\u001b[0m eta \u001b[36m0:00:00\u001b[0m\n",
            "\u001b[?25hCollecting farama-notifications>=0.0.1 (from gymnasium==0.29.1)\n",
            "  Downloading Farama_Notifications-0.0.4-py3-none-any.whl.metadata (558 bytes)\n",
            "Collecting matplotlib>=3.1.1 (from gym-anytrading==2.0.0)\n",
            "  Downloading matplotlib-3.10.1-cp311-cp311-manylinux_2_17_x86_64.manylinux2014_x86_64.whl.metadata (11 kB)\n",
            "Collecting zict>=2.0.0 (from dask-cuda==24.12.*->cuml-cu12==24.12.0)\n",
            "  Downloading zict-3.0.0-py2.py3-none-any.whl.metadata (899 bytes)\n",
            "Collecting jinja2>=2.10.3 (from distributed==2024.11.2->rapids-dask-dependency==24.12.0)\n",
            "  Downloading jinja2-3.1.6-py3-none-any.whl.metadata (2.9 kB)\n",
            "Collecting locket>=1.0.0 (from distributed==2024.11.2->rapids-dask-dependency==24.12.0)\n",
            "  Downloading locket-1.0.0-py2.py3-none-any.whl.metadata (2.8 kB)\n",
            "Collecting msgpack>=1.0.2 (from distributed==2024.11.2->rapids-dask-dependency==24.12.0)\n",
            "  Downloading msgpack-1.1.0-cp311-cp311-manylinux_2_17_x86_64.manylinux2014_x86_64.whl.metadata (8.4 kB)\n",
            "Collecting psutil>=5.8.0 (from distributed==2024.11.2->rapids-dask-dependency==24.12.0)\n",
            "  Downloading psutil-7.0.0-cp36-abi3-manylinux_2_12_x86_64.manylinux2010_x86_64.manylinux_2_17_x86_64.manylinux2014_x86_64.whl.metadata (22 kB)\n",
            "Collecting sortedcontainers>=2.0.5 (from distributed==2024.11.2->rapids-dask-dependency==24.12.0)\n",
            "  Downloading sortedcontainers-2.4.0-py2.py3-none-any.whl.metadata (10 kB)\n",
            "Collecting tblib>=1.6.0 (from distributed==2024.11.2->rapids-dask-dependency==24.12.0)\n",
            "  Downloading tblib-3.1.0-py3-none-any.whl.metadata (25 kB)\n",
            "Collecting tornado>=6.2.0 (from distributed==2024.11.2->rapids-dask-dependency==24.12.0)\n",
            "  Downloading tornado-6.4.2-cp38-abi3-manylinux_2_5_x86_64.manylinux1_x86_64.manylinux_2_17_x86_64.manylinux2014_x86_64.whl.metadata (2.5 kB)\n",
            "Collecting urllib3>=1.26.5 (from distributed==2024.11.2->rapids-dask-dependency==24.12.0)\n",
            "  Downloading urllib3-2.3.0-py3-none-any.whl.metadata (6.5 kB)\n",
            "Collecting libkvikio-cu12==24.12.* (from libcudf-cu12==24.12.*->cudf-cu12==24.12.0)\n",
            "  Downloading libkvikio_cu12-24.12.1-py3-none-manylinux_2_28_x86_64.whl.metadata (3.7 kB)\n",
            "Collecting nvidia-nvcomp-cu12==4.1.0.6 (from libcudf-cu12==24.12.*->cudf-cu12==24.12.0)\n",
            "  Downloading nvidia_nvcomp_cu12-4.1.0.6-py3-none-manylinux_2_28_x86_64.whl.metadata (862 bytes)\n",
            "Collecting distributed-ucxx-cu12==0.41.* (from raft-dask-cu12==24.12.*->cuml-cu12==24.12.0)\n",
            "  Downloading distributed_ucxx_cu12-0.41.0.tar.gz (991 bytes)\n",
            "  Installing build dependencies ... \u001b[?25l\u001b[?25hdone\n",
            "  Getting requirements to build wheel ... \u001b[?25l\u001b[?25hdone\n",
            "  Preparing metadata (pyproject.toml) ... \u001b[?25l\u001b[?25hdone\n",
            "Collecting ucx-py-cu12==0.41.* (from raft-dask-cu12==24.12.*->cuml-cu12==24.12.0)\n",
            "  Downloading ucx_py_cu12-0.41.0.tar.gz (1.4 kB)\n",
            "  Installing build dependencies ... \u001b[?25l\u001b[?25hdone\n",
            "  Getting requirements to build wheel ... \u001b[?25l\u001b[?25hdone\n",
            "  Preparing metadata (pyproject.toml) ... \u001b[?25l\u001b[?25hdone\n",
            "Collecting ucxx-cu12==0.41.* (from distributed-ucxx-cu12==0.41.*->raft-dask-cu12==24.12.*->cuml-cu12==24.12.0)\n",
            "  Downloading ucxx_cu12-0.41.0.tar.gz (3.2 kB)\n",
            "  Installing build dependencies ... \u001b[?25l\u001b[?25hdone\n",
            "  Getting requirements to build wheel ... \u001b[?25l\u001b[?25hdone\n",
            "  Preparing metadata (pyproject.toml) ... \u001b[?25l\u001b[?25hdone\n",
            "Collecting libucx-cu12<1.18,>=1.15.0 (from ucx-py-cu12==0.41.*->raft-dask-cu12==24.12.*->cuml-cu12==24.12.0)\n",
            "  Downloading libucx_cu12-1.17.0.post1-py3-none-manylinux_2_28_x86_64.whl.metadata (2.9 kB)\n",
            "Collecting libucxx-cu12==0.41.* (from ucxx-cu12==0.41.*->distributed-ucxx-cu12==0.41.*->raft-dask-cu12==24.12.*->cuml-cu12==24.12.0)\n",
            "  Downloading libucxx_cu12-0.41.0.tar.gz (3.0 kB)\n",
            "  Installing build dependencies ... \u001b[?25l\u001b[?25hdone\n",
            "  Getting requirements to build wheel ... \u001b[?25l\u001b[?25hdone\n",
            "  Preparing metadata (pyproject.toml) ... \u001b[?25l\u001b[?25hdone\n",
            "Collecting torch<3.0,>=2.3 (from stable-baselines3[extra])\n",
            "  Downloading torch-2.6.0-cp311-cp311-manylinux1_x86_64.whl.metadata (28 kB)\n",
            "Collecting opencv-python (from stable-baselines3[extra])\n",
            "  Downloading opencv_python-4.11.0.86-cp37-abi3-manylinux_2_17_x86_64.manylinux2014_x86_64.whl.metadata (20 kB)\n",
            "Collecting pygame (from stable-baselines3[extra])\n",
            "  Downloading pygame-2.6.1-cp311-cp311-manylinux_2_17_x86_64.manylinux2014_x86_64.whl.metadata (12 kB)\n",
            "Collecting tensorboard>=2.9.1 (from stable-baselines3[extra])\n",
            "  Downloading tensorboard-2.19.0-py3-none-any.whl.metadata (1.8 kB)\n",
            "Collecting tqdm (from stable-baselines3[extra])\n",
            "  Downloading tqdm-4.67.1-py3-none-any.whl.metadata (57 kB)\n",
            "\u001b[2K     \u001b[90m━━━━━━━━━━━━━━━━━━━━━━━━━━━━━━━━━━━━━━━━\u001b[0m \u001b[32m57.7/57.7 kB\u001b[0m \u001b[31m4.5 MB/s\u001b[0m eta \u001b[36m0:00:00\u001b[0m\n",
            "\u001b[?25hCollecting ale-py>=0.9.0 (from stable-baselines3[extra])\n",
            "  Downloading ale_py-0.10.2-cp311-cp311-manylinux_2_17_x86_64.manylinux2014_x86_64.whl.metadata (8.2 kB)\n",
            "Collecting pillow (from stable-baselines3[extra])\n",
            "  Downloading pillow-11.1.0-cp311-cp311-manylinux_2_28_x86_64.whl.metadata (9.1 kB)\n",
            "Collecting fastrlock>=0.5 (from cupy-cuda12x>=12.0.0->cudf-cu12==24.12.0)\n",
            "  Downloading fastrlock-0.8.3-cp311-cp311-manylinux_2_5_x86_64.manylinux1_x86_64.manylinux_2_28_x86_64.whl.metadata (7.7 kB)\n",
            "Collecting zipp>=3.20 (from importlib-metadata>=4.13.0->dask==2024.11.2)\n",
            "  Downloading zipp-3.21.0-py3-none-any.whl.metadata (3.7 kB)\n",
            "Collecting contourpy>=1.0.1 (from matplotlib>=3.1.1->gym-anytrading==2.0.0)\n",
            "  Downloading contourpy-1.3.1-cp311-cp311-manylinux_2_17_x86_64.manylinux2014_x86_64.whl.metadata (5.4 kB)\n",
            "Collecting cycler>=0.10 (from matplotlib>=3.1.1->gym-anytrading==2.0.0)\n",
            "  Downloading cycler-0.12.1-py3-none-any.whl.metadata (3.8 kB)\n",
            "Collecting fonttools>=4.22.0 (from matplotlib>=3.1.1->gym-anytrading==2.0.0)\n",
            "  Downloading fonttools-4.57.0-cp311-cp311-manylinux_2_17_x86_64.manylinux2014_x86_64.whl.metadata (102 kB)\n",
            "\u001b[2K     \u001b[90m━━━━━━━━━━━━━━━━━━━━━━━━━━━━━━━━━━━━━━━━\u001b[0m \u001b[32m102.5/102.5 kB\u001b[0m \u001b[31m5.1 MB/s\u001b[0m eta \u001b[36m0:00:00\u001b[0m\n",
            "\u001b[?25hCollecting kiwisolver>=1.3.1 (from matplotlib>=3.1.1->gym-anytrading==2.0.0)\n",
            "  Downloading kiwisolver-1.4.8-cp311-cp311-manylinux_2_17_x86_64.manylinux2014_x86_64.whl.metadata (6.2 kB)\n",
            "Collecting pyparsing>=2.3.1 (from matplotlib>=3.1.1->gym-anytrading==2.0.0)\n",
            "  Downloading pyparsing-3.2.3-py3-none-any.whl.metadata (5.0 kB)\n",
            "Collecting python-dateutil>=2.7 (from matplotlib>=3.1.1->gym-anytrading==2.0.0)\n",
            "  Downloading python_dateutil-2.9.0.post0-py2.py3-none-any.whl.metadata (8.4 kB)\n",
            "Collecting pytz>=2020.1 (from pandas<2.2.4dev0,>=2.0->cudf-cu12==24.12.0)\n",
            "  Downloading pytz-2025.2-py2.py3-none-any.whl.metadata (22 kB)\n",
            "Collecting tzdata>=2022.7 (from pandas<2.2.4dev0,>=2.0->cudf-cu12==24.12.0)\n",
            "  Downloading tzdata-2025.2-py2.py3-none-any.whl.metadata (1.4 kB)\n",
            "Collecting absl-py>=0.4 (from tensorboard>=2.9.1->stable-baselines3[extra])\n",
            "  Downloading absl_py-2.2.2-py3-none-any.whl.metadata (2.6 kB)\n",
            "Collecting grpcio>=1.48.2 (from tensorboard>=2.9.1->stable-baselines3[extra])\n",
            "  Downloading grpcio-1.71.0-cp311-cp311-manylinux_2_17_x86_64.manylinux2014_x86_64.whl.metadata (3.8 kB)\n",
            "Collecting markdown>=2.6.8 (from tensorboard>=2.9.1->stable-baselines3[extra])\n",
            "  Downloading Markdown-3.7-py3-none-any.whl.metadata (7.0 kB)\n",
            "Collecting protobuf!=4.24.0,>=3.19.6 (from tensorboard>=2.9.1->stable-baselines3[extra])\n",
            "  Downloading protobuf-6.30.2-cp39-abi3-manylinux2014_x86_64.whl.metadata (593 bytes)\n",
            "Collecting setuptools>=41.0.0 (from tensorboard>=2.9.1->stable-baselines3[extra])\n",
            "  Downloading setuptools-78.1.0-py3-none-any.whl.metadata (6.6 kB)\n",
            "Collecting six>1.9 (from tensorboard>=2.9.1->stable-baselines3[extra])\n",
            "  Downloading six-1.17.0-py2.py3-none-any.whl.metadata (1.7 kB)\n",
            "Collecting tensorboard-data-server<0.8.0,>=0.7.0 (from tensorboard>=2.9.1->stable-baselines3[extra])\n",
            "  Downloading tensorboard_data_server-0.7.2-py3-none-manylinux_2_31_x86_64.whl.metadata (1.1 kB)\n",
            "Collecting werkzeug>=1.0.1 (from tensorboard>=2.9.1->stable-baselines3[extra])\n",
            "  Downloading werkzeug-3.1.3-py3-none-any.whl.metadata (3.7 kB)\n",
            "Collecting filelock (from torch<3.0,>=2.3->stable-baselines3[extra])\n",
            "  Downloading filelock-3.18.0-py3-none-any.whl.metadata (2.9 kB)\n",
            "Collecting networkx (from torch<3.0,>=2.3->stable-baselines3[extra])\n",
            "  Downloading networkx-3.4.2-py3-none-any.whl.metadata (6.3 kB)\n",
            "Collecting nvidia-cuda-nvrtc-cu12==12.4.127 (from torch<3.0,>=2.3->stable-baselines3[extra])\n",
            "  Using cached nvidia_cuda_nvrtc_cu12-12.4.127-py3-none-manylinux2014_x86_64.whl.metadata (1.5 kB)\n",
            "Collecting nvidia-cuda-runtime-cu12==12.4.127 (from torch<3.0,>=2.3->stable-baselines3[extra])\n",
            "  Using cached nvidia_cuda_runtime_cu12-12.4.127-py3-none-manylinux2014_x86_64.whl.metadata (1.5 kB)\n",
            "Collecting nvidia-cuda-cupti-cu12==12.4.127 (from torch<3.0,>=2.3->stable-baselines3[extra])\n",
            "  Using cached nvidia_cuda_cupti_cu12-12.4.127-py3-none-manylinux2014_x86_64.whl.metadata (1.6 kB)\n",
            "Collecting nvidia-cudnn-cu12==9.1.0.70 (from torch<3.0,>=2.3->stable-baselines3[extra])\n",
            "  Using cached nvidia_cudnn_cu12-9.1.0.70-py3-none-manylinux2014_x86_64.whl.metadata (1.6 kB)\n",
            "Collecting nvidia-cublas-cu12 (from cuml-cu12==24.12.0)\n",
            "  Using cached nvidia_cublas_cu12-12.4.5.8-py3-none-manylinux2014_x86_64.whl.metadata (1.5 kB)\n",
            "Collecting nvidia-cufft-cu12 (from cuml-cu12==24.12.0)\n",
            "  Using cached nvidia_cufft_cu12-11.2.1.3-py3-none-manylinux2014_x86_64.whl.metadata (1.5 kB)\n",
            "Collecting nvidia-curand-cu12 (from cuml-cu12==24.12.0)\n",
            "  Using cached nvidia_curand_cu12-10.3.5.147-py3-none-manylinux2014_x86_64.whl.metadata (1.5 kB)\n",
            "Collecting nvidia-cusolver-cu12 (from cuml-cu12==24.12.0)\n",
            "  Using cached nvidia_cusolver_cu12-11.6.1.9-py3-none-manylinux2014_x86_64.whl.metadata (1.6 kB)\n",
            "Collecting nvidia-cusparse-cu12 (from cuml-cu12==24.12.0)\n",
            "  Using cached nvidia_cusparse_cu12-12.3.1.170-py3-none-manylinux2014_x86_64.whl.metadata (1.6 kB)\n",
            "Collecting nvidia-cusparselt-cu12==0.6.2 (from torch<3.0,>=2.3->stable-baselines3[extra])\n",
            "  Downloading nvidia_cusparselt_cu12-0.6.2-py3-none-manylinux2014_x86_64.whl.metadata (6.8 kB)\n",
            "Collecting nvidia-nccl-cu12==2.21.5 (from torch<3.0,>=2.3->stable-baselines3[extra])\n",
            "  Downloading nvidia_nccl_cu12-2.21.5-py3-none-manylinux2014_x86_64.whl.metadata (1.8 kB)\n",
            "Collecting nvidia-nvtx-cu12==12.4.127 (from torch<3.0,>=2.3->stable-baselines3[extra])\n",
            "  Downloading nvidia_nvtx_cu12-12.4.127-py3-none-manylinux2014_x86_64.whl.metadata (1.7 kB)\n",
            "Collecting nvidia-nvjitlink-cu12==12.4.127 (from torch<3.0,>=2.3->stable-baselines3[extra])\n",
            "  Using cached nvidia_nvjitlink_cu12-12.4.127-py3-none-manylinux2014_x86_64.whl.metadata (1.5 kB)\n",
            "Collecting triton==3.2.0 (from torch<3.0,>=2.3->stable-baselines3[extra])\n",
            "  Downloading triton-3.2.0-cp311-cp311-manylinux_2_17_x86_64.manylinux2014_x86_64.whl.metadata (1.4 kB)\n",
            "Collecting sympy==1.13.1 (from torch<3.0,>=2.3->stable-baselines3[extra])\n",
            "  Downloading sympy-1.13.1-py3-none-any.whl.metadata (12 kB)\n",
            "Collecting mpmath<1.4,>=1.1.0 (from sympy==1.13.1->torch<3.0,>=2.3->stable-baselines3[extra])\n",
            "  Downloading mpmath-1.3.0-py3-none-any.whl.metadata (8.6 kB)\n",
            "Collecting markdown-it-py>=2.2.0 (from rich->cudf-cu12==24.12.0)\n",
            "  Downloading markdown_it_py-3.0.0-py3-none-any.whl.metadata (6.9 kB)\n",
            "Collecting pygments<3.0.0,>=2.13.0 (from rich->cudf-cu12==24.12.0)\n",
            "  Downloading pygments-2.19.1-py3-none-any.whl.metadata (2.5 kB)\n",
            "Collecting MarkupSafe>=2.0 (from jinja2>=2.10.3->distributed==2024.11.2->rapids-dask-dependency==24.12.0)\n",
            "  Downloading MarkupSafe-3.0.2-cp311-cp311-manylinux_2_17_x86_64.manylinux2014_x86_64.whl.metadata (4.0 kB)\n",
            "Collecting mdurl~=0.1 (from markdown-it-py>=2.2.0->rich->cudf-cu12==24.12.0)\n",
            "  Downloading mdurl-0.1.2-py3-none-any.whl.metadata (1.6 kB)\n",
            "Downloading dask-2024.11.2-py3-none-any.whl (1.3 MB)\n",
            "\u001b[2K   \u001b[90m━━━━━━━━━━━━━━━━━━━━━━━━━━━━━━━━━━━━━━━━\u001b[0m \u001b[32m1.3/1.3 MB\u001b[0m \u001b[31m38.6 MB/s\u001b[0m eta \u001b[36m0:00:00\u001b[0m\n",
            "\u001b[?25hDownloading rapids_dask_dependency-24.12.0-py3-none-any.whl (15 kB)\n",
            "Downloading cudf_cu12-24.12.0-cp311-cp311-manylinux_2_24_x86_64.manylinux_2_28_x86_64.whl (26.9 MB)\n",
            "\u001b[2K   \u001b[90m━━━━━━━━━━━━━━━━━━━━━━━━━━━━━━━━━━━━━━━━\u001b[0m \u001b[32m26.9/26.9 MB\u001b[0m \u001b[31m46.5 MB/s\u001b[0m eta \u001b[36m0:00:00\u001b[0m\n",
            "\u001b[?25hDownloading pylibcudf_cu12-24.12.0-cp311-cp311-manylinux_2_24_x86_64.manylinux_2_28_x86_64.whl (37.3 MB)\n",
            "\u001b[2K   \u001b[90m━━━━━━━━━━━━━━━━━━━━━━━━━━━━━━━━━━━━━━━━\u001b[0m \u001b[32m37.3/37.3 MB\u001b[0m \u001b[31m20.3 MB/s\u001b[0m eta \u001b[36m0:00:00\u001b[0m\n",
            "\u001b[?25hDownloading numba-0.61.0-cp311-cp311-manylinux2014_x86_64.manylinux_2_17_x86_64.whl (3.8 MB)\n",
            "\u001b[2K   \u001b[90m━━━━━━━━━━━━━━━━━━━━━━━━━━━━━━━━━━━━━━━━\u001b[0m \u001b[32m3.8/3.8 MB\u001b[0m \u001b[31m89.7 MB/s\u001b[0m eta \u001b[36m0:00:00\u001b[0m\n",
            "\u001b[?25hDownloading gymnasium-0.29.1-py3-none-any.whl (953 kB)\n",
            "\u001b[2K   \u001b[90m━━━━━━━━━━━━━━━━━━━━━━━━━━━━━━━━━━━━━━━━\u001b[0m \u001b[32m953.9/953.9 kB\u001b[0m \u001b[31m42.1 MB/s\u001b[0m eta \u001b[36m0:00:00\u001b[0m\n",
            "\u001b[?25hUsing cached gym_anytrading-2.0.0-py3-none-any.whl (172 kB)\n",
            "Downloading dask_cuda-24.12.0-py3-none-any.whl (134 kB)\n",
            "\u001b[2K   \u001b[90m━━━━━━━━━━━━━━━━━━━━━━━━━━━━━━━━━━━━━━━━\u001b[0m \u001b[32m134.4/134.4 kB\u001b[0m \u001b[31m9.7 MB/s\u001b[0m eta \u001b[36m0:00:00\u001b[0m\n",
            "\u001b[?25hDownloading dask_cudf_cu12-24.12.0-py3-none-any.whl (67 kB)\n",
            "\u001b[2K   \u001b[90m━━━━━━━━━━━━━━━━━━━━━━━━━━━━━━━━━━━━━━━━\u001b[0m \u001b[32m67.2/67.2 kB\u001b[0m \u001b[31m5.3 MB/s\u001b[0m eta \u001b[36m0:00:00\u001b[0m\n",
            "\u001b[?25hDownloading dask_expr-1.1.19-py3-none-any.whl (244 kB)\n",
            "\u001b[2K   \u001b[90m━━━━━━━━━━━━━━━━━━━━━━━━━━━━━━━━━━━━━━━━\u001b[0m \u001b[32m244.5/244.5 kB\u001b[0m \u001b[31m16.7 MB/s\u001b[0m eta \u001b[36m0:00:00\u001b[0m\n",
            "\u001b[?25hDownloading distributed-2024.11.2-py3-none-any.whl (1.0 MB)\n",
            "\u001b[2K   \u001b[90m━━━━━━━━━━━━━━━━━━━━━━━━━━━━━━━━━━━━━━━━\u001b[0m \u001b[32m1.0/1.0 MB\u001b[0m \u001b[31m51.4 MB/s\u001b[0m eta \u001b[36m0:00:00\u001b[0m\n",
            "\u001b[?25hDownloading libcudf_cu12-24.12.0-py3-none-manylinux_2_28_x86_64.whl (457.8 MB)\n",
            "\u001b[2K   \u001b[90m━━━━━━━━━━━━━━━━━━━━━━━━━━━━━━━━━━━━━━━━\u001b[0m \u001b[32m457.8/457.8 MB\u001b[0m \u001b[31m3.9 MB/s\u001b[0m eta \u001b[36m0:00:00\u001b[0m\n",
            "\u001b[?25hDownloading rmm_cu12-24.12.1-cp311-cp311-manylinux_2_24_x86_64.manylinux_2_28_x86_64.whl (2.0 MB)\n",
            "\u001b[2K   \u001b[90m━━━━━━━━━━━━━━━━━━━━━━━━━━━━━━━━━━━━━━━━\u001b[0m \u001b[32m2.0/2.0 MB\u001b[0m \u001b[31m53.4 MB/s\u001b[0m eta \u001b[36m0:00:00\u001b[0m\n",
            "\u001b[?25hDownloading treelite-4.3.0-py3-none-manylinux2014_x86_64.whl (915 kB)\n",
            "\u001b[2K   \u001b[90m━━━━━━━━━━━━━━━━━━━━━━━━━━━━━━━━━━━━━━━━\u001b[0m \u001b[32m916.0/916.0 kB\u001b[0m \u001b[31m39.8 MB/s\u001b[0m eta \u001b[36m0:00:00\u001b[0m\n",
            "\u001b[?25hDownloading libkvikio_cu12-24.12.1-py3-none-manylinux_2_28_x86_64.whl (2.0 MB)\n",
            "\u001b[2K   \u001b[90m━━━━━━━━━━━━━━━━━━━━━━━━━━━━━━━━━━━━━━━━\u001b[0m \u001b[32m2.0/2.0 MB\u001b[0m \u001b[31m53.1 MB/s\u001b[0m eta \u001b[36m0:00:00\u001b[0m\n",
            "\u001b[?25hDownloading nvidia_nvcomp_cu12-4.1.0.6-py3-none-manylinux_2_28_x86_64.whl (28.9 MB)\n",
            "\u001b[2K   \u001b[90m━━━━━━━━━━━━━━━━━━━━━━━━━━━━━━━━━━━━━━━━\u001b[0m \u001b[32m28.9/28.9 MB\u001b[0m \u001b[31m47.7 MB/s\u001b[0m eta \u001b[36m0:00:00\u001b[0m\n",
            "\u001b[?25hDownloading ale_py-0.10.2-cp311-cp311-manylinux_2_17_x86_64.manylinux2014_x86_64.whl (2.2 MB)\n",
            "\u001b[2K   \u001b[90m━━━━━━━━━━━━━━━━━━━━━━━━━━━━━━━━━━━━━━━━\u001b[0m \u001b[32m2.2/2.2 MB\u001b[0m \u001b[31m18.7 MB/s\u001b[0m eta \u001b[36m0:00:00\u001b[0m\n",
            "\u001b[?25hDownloading click-8.1.8-py3-none-any.whl (98 kB)\n",
            "\u001b[2K   \u001b[90m━━━━━━━━━━━━━━━━━━━━━━━━━━━━━━━━━━━━━━━━\u001b[0m \u001b[32m98.2/98.2 kB\u001b[0m \u001b[31m8.7 MB/s\u001b[0m eta \u001b[36m0:00:00\u001b[0m\n",
            "\u001b[?25hDownloading cloudpickle-3.1.1-py3-none-any.whl (20 kB)\n",
            "Downloading cuda_python-12.6.0-cp311-cp311-manylinux_2_17_x86_64.manylinux2014_x86_64.whl (25.0 MB)\n",
            "\u001b[2K   \u001b[90m━━━━━━━━━━━━━━━━━━━━━━━━━━━━━━━━━━━━━━━━\u001b[0m \u001b[32m25.0/25.0 MB\u001b[0m \u001b[31m74.0 MB/s\u001b[0m eta \u001b[36m0:00:00\u001b[0m\n",
            "\u001b[?25hDownloading cupy_cuda12x-13.4.1-cp311-cp311-manylinux2014_x86_64.whl (105.4 MB)\n",
            "\u001b[2K   \u001b[90m━━━━━━━━━━━━━━━━━━━━━━━━━━━━━━━━━━━━━━━━\u001b[0m \u001b[32m105.4/105.4 MB\u001b[0m \u001b[31m8.5 MB/s\u001b[0m eta \u001b[36m0:00:00\u001b[0m\n",
            "\u001b[?25hDownloading Farama_Notifications-0.0.4-py3-none-any.whl (2.5 kB)\n",
            "Downloading fsspec-2025.3.2-py3-none-any.whl (194 kB)\n",
            "\u001b[2K   \u001b[90m━━━━━━━━━━━━━━━━━━━━━━━━━━━━━━━━━━━━━━━━\u001b[0m \u001b[32m194.4/194.4 kB\u001b[0m \u001b[31m13.8 MB/s\u001b[0m eta \u001b[36m0:00:00\u001b[0m\n",
            "\u001b[?25hDownloading importlib_metadata-8.6.1-py3-none-any.whl (26 kB)\n",
            "Downloading joblib-1.4.2-py3-none-any.whl (301 kB)\n",
            "\u001b[2K   \u001b[90m━━━━━━━━━━━━━━━━━━━━━━━━━━━━━━━━━━━━━━━━\u001b[0m \u001b[32m301.8/301.8 kB\u001b[0m \u001b[31m20.7 MB/s\u001b[0m eta \u001b[36m0:00:00\u001b[0m\n",
            "\u001b[?25hDownloading llvmlite-0.44.0-cp311-cp311-manylinux_2_17_x86_64.manylinux2014_x86_64.whl (42.4 MB)\n",
            "\u001b[2K   \u001b[90m━━━━━━━━━━━━━━━━━━━━━━━━━━━━━━━━━━━━━━━━\u001b[0m \u001b[32m42.4/42.4 MB\u001b[0m \u001b[31m14.9 MB/s\u001b[0m eta \u001b[36m0:00:00\u001b[0m\n",
            "\u001b[?25hDownloading matplotlib-3.10.1-cp311-cp311-manylinux_2_17_x86_64.manylinux2014_x86_64.whl (8.6 MB)\n",
            "\u001b[2K   \u001b[90m━━━━━━━━━━━━━━━━━━━━━━━━━━━━━━━━━━━━━━━━\u001b[0m \u001b[32m8.6/8.6 MB\u001b[0m \u001b[31m99.0 MB/s\u001b[0m eta \u001b[36m0:00:00\u001b[0m\n",
            "\u001b[?25hDownloading numba_cuda-0.0.17.1-py3-none-any.whl (424 kB)\n",
            "\u001b[2K   \u001b[90m━━━━━━━━━━━━━━━━━━━━━━━━━━━━━━━━━━━━━━━━\u001b[0m \u001b[32m424.7/424.7 kB\u001b[0m \u001b[31m24.6 MB/s\u001b[0m eta \u001b[36m0:00:00\u001b[0m\n",
            "\u001b[?25hDownloading numpy-2.1.3-cp311-cp311-manylinux_2_17_x86_64.manylinux2014_x86_64.whl (16.3 MB)\n",
            "\u001b[2K   \u001b[90m━━━━━━━━━━━━━━━━━━━━━━━━━━━━━━━━━━━━━━━━\u001b[0m \u001b[32m16.3/16.3 MB\u001b[0m \u001b[31m82.5 MB/s\u001b[0m eta \u001b[36m0:00:00\u001b[0m\n",
            "\u001b[?25hDownloading nvtx-0.2.11-cp311-cp311-manylinux_2_17_x86_64.manylinux2014_x86_64.whl (527 kB)\n",
            "\u001b[2K   \u001b[90m━━━━━━━━━━━━━━━━━━━━━━━━━━━━━━━━━━━━━━━━\u001b[0m \u001b[32m527.9/527.9 kB\u001b[0m \u001b[31m31.0 MB/s\u001b[0m eta \u001b[36m0:00:00\u001b[0m\n",
            "\u001b[?25hDownloading packaging-24.2-py3-none-any.whl (65 kB)\n",
            "\u001b[2K   \u001b[90m━━━━━━━━━━━━━━━━━━━━━━━━━━━━━━━━━━━━━━━━\u001b[0m \u001b[32m65.5/65.5 kB\u001b[0m \u001b[31m4.8 MB/s\u001b[0m eta \u001b[36m0:00:00\u001b[0m\n",
            "\u001b[?25hDownloading pandas-2.2.3-cp311-cp311-manylinux_2_17_x86_64.manylinux2014_x86_64.whl (13.1 MB)\n",
            "\u001b[2K   \u001b[90m━━━━━━━━━━━━━━━━━━━━━━━━━━━━━━━━━━━━━━━━\u001b[0m \u001b[32m13.1/13.1 MB\u001b[0m \u001b[31m95.1 MB/s\u001b[0m eta \u001b[36m0:00:00\u001b[0m\n",
            "\u001b[?25hDownloading partd-1.4.2-py3-none-any.whl (18 kB)\n",
            "Downloading pillow-11.1.0-cp311-cp311-manylinux_2_28_x86_64.whl (4.5 MB)\n",
            "\u001b[2K   \u001b[90m━━━━━━━━━━━━━━━━━━━━━━━━━━━━━━━━━━━━━━━━\u001b[0m \u001b[32m4.5/4.5 MB\u001b[0m \u001b[31m85.5 MB/s\u001b[0m eta \u001b[36m0:00:00\u001b[0m\n",
            "\u001b[?25hDownloading psutil-7.0.0-cp36-abi3-manylinux_2_12_x86_64.manylinux2010_x86_64.manylinux_2_17_x86_64.manylinux2014_x86_64.whl (277 kB)\n",
            "\u001b[2K   \u001b[90m━━━━━━━━━━━━━━━━━━━━━━━━━━━━━━━━━━━━━━━━\u001b[0m \u001b[32m278.0/278.0 kB\u001b[0m \u001b[31m21.8 MB/s\u001b[0m eta \u001b[36m0:00:00\u001b[0m\n",
            "\u001b[?25hDownloading pyarrow-18.1.0-cp311-cp311-manylinux_2_28_x86_64.whl (40.1 MB)\n",
            "\u001b[2K   \u001b[90m━━━━━━━━━━━━━━━━━━━━━━━━━━━━━━━━━━━━━━━━\u001b[0m \u001b[32m40.1/40.1 MB\u001b[0m \u001b[31m16.6 MB/s\u001b[0m eta \u001b[36m0:00:00\u001b[0m\n",
            "\u001b[?25hDownloading pynvml-11.4.1-py3-none-any.whl (46 kB)\n",
            "\u001b[2K   \u001b[90m━━━━━━━━━━━━━━━━━━━━━━━━━━━━━━━━━━━━━━━━\u001b[0m \u001b[32m47.0/47.0 kB\u001b[0m \u001b[31m3.5 MB/s\u001b[0m eta \u001b[36m0:00:00\u001b[0m\n",
            "\u001b[?25hDownloading PyYAML-6.0.2-cp311-cp311-manylinux_2_17_x86_64.manylinux2014_x86_64.whl (762 kB)\n",
            "\u001b[2K   \u001b[90m━━━━━━━━━━━━━━━━━━━━━━━━━━━━━━━━━━━━━━━━\u001b[0m \u001b[32m763.0/763.0 kB\u001b[0m \u001b[31m43.2 MB/s\u001b[0m eta \u001b[36m0:00:00\u001b[0m\n",
            "\u001b[?25hDownloading scipy-1.15.2-cp311-cp311-manylinux_2_17_x86_64.manylinux2014_x86_64.whl (37.6 MB)\n",
            "\u001b[2K   \u001b[90m━━━━━━━━━━━━━━━━━━━━━━━━━━━━━━━━━━━━━━━━\u001b[0m \u001b[32m37.6/37.6 MB\u001b[0m \u001b[31m15.7 MB/s\u001b[0m eta \u001b[36m0:00:00\u001b[0m\n",
            "\u001b[?25hDownloading tensorboard-2.19.0-py3-none-any.whl (5.5 MB)\n",
            "\u001b[2K   \u001b[90m━━━━━━━━━━━━━━━━━━━━━━━━━━━━━━━━━━━━━━━━\u001b[0m \u001b[32m5.5/5.5 MB\u001b[0m \u001b[31m64.5 MB/s\u001b[0m eta \u001b[36m0:00:00\u001b[0m\n",
            "\u001b[?25hDownloading toolz-1.0.0-py3-none-any.whl (56 kB)\n",
            "\u001b[2K   \u001b[90m━━━━━━━━━━━━━━━━━━━━━━━━━━━━━━━━━━━━━━━━\u001b[0m \u001b[32m56.4/56.4 kB\u001b[0m \u001b[31m4.4 MB/s\u001b[0m eta \u001b[36m0:00:00\u001b[0m\n",
            "\u001b[?25hDownloading torch-2.6.0-cp311-cp311-manylinux1_x86_64.whl (766.7 MB)\n",
            "\u001b[2K   \u001b[90m━━━━━━━━━━━━━━━━━━━━━━━━━━━━━━━━━━━━━━━━\u001b[0m \u001b[32m766.7/766.7 MB\u001b[0m \u001b[31m686.6 kB/s\u001b[0m eta \u001b[36m0:00:00\u001b[0m\n",
            "\u001b[?25hUsing cached nvidia_cublas_cu12-12.4.5.8-py3-none-manylinux2014_x86_64.whl (363.4 MB)\n",
            "Using cached nvidia_cufft_cu12-11.2.1.3-py3-none-manylinux2014_x86_64.whl (211.5 MB)\n",
            "Using cached nvidia_curand_cu12-10.3.5.147-py3-none-manylinux2014_x86_64.whl (56.3 MB)\n",
            "Using cached nvidia_cusolver_cu12-11.6.1.9-py3-none-manylinux2014_x86_64.whl (127.9 MB)\n",
            "Using cached nvidia_cusparse_cu12-12.3.1.170-py3-none-manylinux2014_x86_64.whl (207.5 MB)\n",
            "Using cached nvidia_cuda_cupti_cu12-12.4.127-py3-none-manylinux2014_x86_64.whl (13.8 MB)\n",
            "Using cached nvidia_cuda_nvrtc_cu12-12.4.127-py3-none-manylinux2014_x86_64.whl (24.6 MB)\n",
            "Using cached nvidia_cuda_runtime_cu12-12.4.127-py3-none-manylinux2014_x86_64.whl (883 kB)\n",
            "Using cached nvidia_cudnn_cu12-9.1.0.70-py3-none-manylinux2014_x86_64.whl (664.8 MB)\n",
            "Downloading nvidia_cusparselt_cu12-0.6.2-py3-none-manylinux2014_x86_64.whl (150.1 MB)\n",
            "\u001b[2K   \u001b[90m━━━━━━━━━━━━━━━━━━━━━━━━━━━━━━━━━━━━━━━━\u001b[0m \u001b[32m150.1/150.1 MB\u001b[0m \u001b[31m7.2 MB/s\u001b[0m eta \u001b[36m0:00:00\u001b[0m\n",
            "\u001b[?25hDownloading nvidia_nccl_cu12-2.21.5-py3-none-manylinux2014_x86_64.whl (188.7 MB)\n",
            "\u001b[2K   \u001b[90m━━━━━━━━━━━━━━━━━━━━━━━━━━━━━━━━━━━━━━━━\u001b[0m \u001b[32m188.7/188.7 MB\u001b[0m \u001b[31m6.7 MB/s\u001b[0m eta \u001b[36m0:00:00\u001b[0m\n",
            "\u001b[?25hUsing cached nvidia_nvjitlink_cu12-12.4.127-py3-none-manylinux2014_x86_64.whl (21.1 MB)\n",
            "Downloading nvidia_nvtx_cu12-12.4.127-py3-none-manylinux2014_x86_64.whl (99 kB)\n",
            "\u001b[2K   \u001b[90m━━━━━━━━━━━━━━━━━━━━━━━━━━━━━━━━━━━━━━━━\u001b[0m \u001b[32m99.1/99.1 kB\u001b[0m \u001b[31m8.6 MB/s\u001b[0m eta \u001b[36m0:00:00\u001b[0m\n",
            "\u001b[?25hDownloading sympy-1.13.1-py3-none-any.whl (6.2 MB)\n",
            "\u001b[2K   \u001b[90m━━━━━━━━━━━━━━━━━━━━━━━━━━━━━━━━━━━━━━━━\u001b[0m \u001b[32m6.2/6.2 MB\u001b[0m \u001b[31m87.9 MB/s\u001b[0m eta \u001b[36m0:00:00\u001b[0m\n",
            "\u001b[?25hDownloading triton-3.2.0-cp311-cp311-manylinux_2_17_x86_64.manylinux2014_x86_64.whl (253.2 MB)\n",
            "\u001b[2K   \u001b[90m━━━━━━━━━━━━━━━━━━━━━━━━━━━━━━━━━━━━━━━━\u001b[0m \u001b[32m253.2/253.2 MB\u001b[0m \u001b[31m5.3 MB/s\u001b[0m eta \u001b[36m0:00:00\u001b[0m\n",
            "\u001b[?25hDownloading typing_extensions-4.13.1-py3-none-any.whl (45 kB)\n",
            "\u001b[2K   \u001b[90m━━━━━━━━━━━━━━━━━━━━━━━━━━━━━━━━━━━━━━━━\u001b[0m \u001b[32m45.7/45.7 kB\u001b[0m \u001b[31m3.3 MB/s\u001b[0m eta \u001b[36m0:00:00\u001b[0m\n",
            "\u001b[?25hDownloading cachetools-5.5.2-py3-none-any.whl (10 kB)\n",
            "Downloading opencv_python-4.11.0.86-cp37-abi3-manylinux_2_17_x86_64.manylinux2014_x86_64.whl (63.0 MB)\n",
            "\u001b[2K   \u001b[90m━━━━━━━━━━━━━━━━━━━━━━━━━━━━━━━━━━━━━━━━\u001b[0m \u001b[32m63.0/63.0 MB\u001b[0m \u001b[31m11.8 MB/s\u001b[0m eta \u001b[36m0:00:00\u001b[0m\n",
            "\u001b[?25hDownloading pygame-2.6.1-cp311-cp311-manylinux_2_17_x86_64.manylinux2014_x86_64.whl (14.0 MB)\n",
            "\u001b[2K   \u001b[90m━━━━━━━━━━━━━━━━━━━━━━━━━━━━━━━━━━━━━━━━\u001b[0m \u001b[32m14.0/14.0 MB\u001b[0m \u001b[31m97.9 MB/s\u001b[0m eta \u001b[36m0:00:00\u001b[0m\n",
            "\u001b[?25hDownloading pynvjitlink_cu12-0.5.2-cp311-cp311-manylinux_2_27_x86_64.manylinux_2_28_x86_64.whl (46.2 MB)\n",
            "\u001b[2K   \u001b[90m━━━━━━━━━━━━━━━━━━━━━━━━━━━━━━━━━━━━━━━━\u001b[0m \u001b[32m46.2/46.2 MB\u001b[0m \u001b[31m13.5 MB/s\u001b[0m eta \u001b[36m0:00:00\u001b[0m\n",
            "\u001b[?25hDownloading rich-14.0.0-py3-none-any.whl (243 kB)\n",
            "\u001b[2K   \u001b[90m━━━━━━━━━━━━━━━━━━━━━━━━━━━━━━━━━━━━━━━━\u001b[0m \u001b[32m243.2/243.2 kB\u001b[0m \u001b[31m15.1 MB/s\u001b[0m eta \u001b[36m0:00:00\u001b[0m\n",
            "\u001b[?25hUsing cached stable_baselines3-2.6.0-py3-none-any.whl (184 kB)\n",
            "Downloading tqdm-4.67.1-py3-none-any.whl (78 kB)\n",
            "\u001b[2K   \u001b[90m━━━━━━━━━━━━━━━━━━━━━━━━━━━━━━━━━━━━━━━━\u001b[0m \u001b[32m78.5/78.5 kB\u001b[0m \u001b[31m5.7 MB/s\u001b[0m eta \u001b[36m0:00:00\u001b[0m\n",
            "\u001b[?25hDownloading absl_py-2.2.2-py3-none-any.whl (135 kB)\n",
            "\u001b[2K   \u001b[90m━━━━━━━━━━━━━━━━━━━━━━━━━━━━━━━━━━━━━━━━\u001b[0m \u001b[32m135.6/135.6 kB\u001b[0m \u001b[31m9.4 MB/s\u001b[0m eta \u001b[36m0:00:00\u001b[0m\n",
            "\u001b[?25hDownloading contourpy-1.3.1-cp311-cp311-manylinux_2_17_x86_64.manylinux2014_x86_64.whl (326 kB)\n",
            "\u001b[2K   \u001b[90m━━━━━━━━━━━━━━━━━━━━━━━━━━━━━━━━━━━━━━━━\u001b[0m \u001b[32m326.2/326.2 kB\u001b[0m \u001b[31m21.7 MB/s\u001b[0m eta \u001b[36m0:00:00\u001b[0m\n",
            "\u001b[?25hDownloading cycler-0.12.1-py3-none-any.whl (8.3 kB)\n",
            "Downloading fastrlock-0.8.3-cp311-cp311-manylinux_2_5_x86_64.manylinux1_x86_64.manylinux_2_28_x86_64.whl (54 kB)\n",
            "\u001b[2K   \u001b[90m━━━━━━━━━━━━━━━━━━━━━━━━━━━━━━━━━━━━━━━━\u001b[0m \u001b[32m54.6/54.6 kB\u001b[0m \u001b[31m3.4 MB/s\u001b[0m eta \u001b[36m0:00:00\u001b[0m\n",
            "\u001b[?25hDownloading fonttools-4.57.0-cp311-cp311-manylinux_2_17_x86_64.manylinux2014_x86_64.whl (4.9 MB)\n",
            "\u001b[2K   \u001b[90m━━━━━━━━━━━━━━━━━━━━━━━━━━━━━━━━━━━━━━━━\u001b[0m \u001b[32m4.9/4.9 MB\u001b[0m \u001b[31m85.3 MB/s\u001b[0m eta \u001b[36m0:00:00\u001b[0m\n",
            "\u001b[?25hDownloading grpcio-1.71.0-cp311-cp311-manylinux_2_17_x86_64.manylinux2014_x86_64.whl (5.9 MB)\n",
            "\u001b[2K   \u001b[90m━━━━━━━━━━━━━━━━━━━━━━━━━━━━━━━━━━━━━━━━\u001b[0m \u001b[32m5.9/5.9 MB\u001b[0m \u001b[31m83.4 MB/s\u001b[0m eta \u001b[36m0:00:00\u001b[0m\n",
            "\u001b[?25hDownloading jinja2-3.1.6-py3-none-any.whl (134 kB)\n",
            "\u001b[2K   \u001b[90m━━━━━━━━━━━━━━━━━━━━━━━━━━━━━━━━━━━━━━━━\u001b[0m \u001b[32m134.9/134.9 kB\u001b[0m \u001b[31m9.6 MB/s\u001b[0m eta \u001b[36m0:00:00\u001b[0m\n",
            "\u001b[?25hDownloading kiwisolver-1.4.8-cp311-cp311-manylinux_2_17_x86_64.manylinux2014_x86_64.whl (1.4 MB)\n",
            "\u001b[2K   \u001b[90m━━━━━━━━━━━━━━━━━━━━━━━━━━━━━━━━━━━━━━━━\u001b[0m \u001b[32m1.4/1.4 MB\u001b[0m \u001b[31m64.8 MB/s\u001b[0m eta \u001b[36m0:00:00\u001b[0m\n",
            "\u001b[?25hDownloading locket-1.0.0-py2.py3-none-any.whl (4.4 kB)\n",
            "Downloading Markdown-3.7-py3-none-any.whl (106 kB)\n",
            "\u001b[2K   \u001b[90m━━━━━━━━━━━━━━━━━━━━━━━━━━━━━━━━━━━━━━━━\u001b[0m \u001b[32m106.3/106.3 kB\u001b[0m \u001b[31m8.0 MB/s\u001b[0m eta \u001b[36m0:00:00\u001b[0m\n",
            "\u001b[?25hDownloading markdown_it_py-3.0.0-py3-none-any.whl (87 kB)\n",
            "\u001b[2K   \u001b[90m━━━━━━━━━━━━━━━━━━━━━━━━━━━━━━━━━━━━━━━━\u001b[0m \u001b[32m87.5/87.5 kB\u001b[0m \u001b[31m7.5 MB/s\u001b[0m eta \u001b[36m0:00:00\u001b[0m\n",
            "\u001b[?25hDownloading msgpack-1.1.0-cp311-cp311-manylinux_2_17_x86_64.manylinux2014_x86_64.whl (403 kB)\n",
            "\u001b[2K   \u001b[90m━━━━━━━━━━━━━━━━━━━━━━━━━━━━━━━━━━━━━━━━\u001b[0m \u001b[32m403.7/403.7 kB\u001b[0m \u001b[31m28.8 MB/s\u001b[0m eta \u001b[36m0:00:00\u001b[0m\n",
            "\u001b[?25hDownloading protobuf-6.30.2-cp39-abi3-manylinux2014_x86_64.whl (316 kB)\n",
            "\u001b[2K   \u001b[90m━━━━━━━━━━━━━━━━━━━━━━━━━━━━━━━━━━━━━━━━\u001b[0m \u001b[32m316.2/316.2 kB\u001b[0m \u001b[31m19.6 MB/s\u001b[0m eta \u001b[36m0:00:00\u001b[0m\n",
            "\u001b[?25hDownloading pygments-2.19.1-py3-none-any.whl (1.2 MB)\n",
            "\u001b[2K   \u001b[90m━━━━━━━━━━━━━━━━━━━━━━━━━━━━━━━━━━━━━━━━\u001b[0m \u001b[32m1.2/1.2 MB\u001b[0m \u001b[31m52.4 MB/s\u001b[0m eta \u001b[36m0:00:00\u001b[0m\n",
            "\u001b[?25hDownloading pyparsing-3.2.3-py3-none-any.whl (111 kB)\n",
            "\u001b[2K   \u001b[90m━━━━━━━━━━━━━━━━━━━━━━━━━━━━━━━━━━━━━━━━\u001b[0m \u001b[32m111.1/111.1 kB\u001b[0m \u001b[31m9.1 MB/s\u001b[0m eta \u001b[36m0:00:00\u001b[0m\n",
            "\u001b[?25hDownloading python_dateutil-2.9.0.post0-py2.py3-none-any.whl (229 kB)\n",
            "\u001b[2K   \u001b[90m━━━━━━━━━━━━━━━━━━━━━━━━━━━━━━━━━━━━━━━━\u001b[0m \u001b[32m229.9/229.9 kB\u001b[0m \u001b[31m17.3 MB/s\u001b[0m eta \u001b[36m0:00:00\u001b[0m\n",
            "\u001b[?25hDownloading pytz-2025.2-py2.py3-none-any.whl (509 kB)\n",
            "\u001b[2K   \u001b[90m━━━━━━━━━━━━━━━━━━━━━━━━━━━━━━━━━━━━━━━━\u001b[0m \u001b[32m509.2/509.2 kB\u001b[0m \u001b[31m31.3 MB/s\u001b[0m eta \u001b[36m0:00:00\u001b[0m\n",
            "\u001b[?25hDownloading setuptools-78.1.0-py3-none-any.whl (1.3 MB)\n",
            "\u001b[2K   \u001b[90m━━━━━━━━━━━━━━━━━━━━━━━━━━━━━━━━━━━━━━━━\u001b[0m \u001b[32m1.3/1.3 MB\u001b[0m \u001b[31m56.7 MB/s\u001b[0m eta \u001b[36m0:00:00\u001b[0m\n",
            "\u001b[?25hDownloading six-1.17.0-py2.py3-none-any.whl (11 kB)\n",
            "Downloading sortedcontainers-2.4.0-py2.py3-none-any.whl (29 kB)\n",
            "Downloading tblib-3.1.0-py3-none-any.whl (12 kB)\n",
            "Downloading tensorboard_data_server-0.7.2-py3-none-manylinux_2_31_x86_64.whl (6.6 MB)\n",
            "\u001b[2K   \u001b[90m━━━━━━━━━━━━━━━━━━━━━━━━━━━━━━━━━━━━━━━━\u001b[0m \u001b[32m6.6/6.6 MB\u001b[0m \u001b[31m71.4 MB/s\u001b[0m eta \u001b[36m0:00:00\u001b[0m\n",
            "\u001b[?25hDownloading tornado-6.4.2-cp38-abi3-manylinux_2_5_x86_64.manylinux1_x86_64.manylinux_2_17_x86_64.manylinux2014_x86_64.whl (437 kB)\n",
            "\u001b[2K   \u001b[90m━━━━━━━━━━━━━━━━━━━━━━━━━━━━━━━━━━━━━━━━\u001b[0m \u001b[32m437.2/437.2 kB\u001b[0m \u001b[31m23.3 MB/s\u001b[0m eta \u001b[36m0:00:00\u001b[0m\n",
            "\u001b[?25hDownloading tzdata-2025.2-py2.py3-none-any.whl (347 kB)\n",
            "\u001b[2K   \u001b[90m━━━━━━━━━━━━━━━━━━━━━━━━━━━━━━━━━━━━━━━━\u001b[0m \u001b[32m347.8/347.8 kB\u001b[0m \u001b[31m23.3 MB/s\u001b[0m eta \u001b[36m0:00:00\u001b[0m\n",
            "\u001b[?25hDownloading urllib3-2.3.0-py3-none-any.whl (128 kB)\n",
            "\u001b[2K   \u001b[90m━━━━━━━━━━━━━━━━━━━━━━━━━━━━━━━━━━━━━━━━\u001b[0m \u001b[32m128.4/128.4 kB\u001b[0m \u001b[31m11.1 MB/s\u001b[0m eta \u001b[36m0:00:00\u001b[0m\n",
            "\u001b[?25hDownloading werkzeug-3.1.3-py3-none-any.whl (224 kB)\n",
            "\u001b[2K   \u001b[90m━━━━━━━━━━━━━━━━━━━━━━━━━━━━━━━━━━━━━━━━\u001b[0m \u001b[32m224.5/224.5 kB\u001b[0m \u001b[31m17.8 MB/s\u001b[0m eta \u001b[36m0:00:00\u001b[0m\n",
            "\u001b[?25hDownloading zict-3.0.0-py2.py3-none-any.whl (43 kB)\n",
            "\u001b[2K   \u001b[90m━━━━━━━━━━━━━━━━━━━━━━━━━━━━━━━━━━━━━━━━\u001b[0m \u001b[32m43.3/43.3 kB\u001b[0m \u001b[31m3.0 MB/s\u001b[0m eta \u001b[36m0:00:00\u001b[0m\n",
            "\u001b[?25hDownloading zipp-3.21.0-py3-none-any.whl (9.6 kB)\n",
            "Downloading filelock-3.18.0-py3-none-any.whl (16 kB)\n",
            "Downloading networkx-3.4.2-py3-none-any.whl (1.7 MB)\n",
            "\u001b[2K   \u001b[90m━━━━━━━━━━━━━━━━━━━━━━━━━━━━━━━━━━━━━━━━\u001b[0m \u001b[32m1.7/1.7 MB\u001b[0m \u001b[31m63.9 MB/s\u001b[0m eta \u001b[36m0:00:00\u001b[0m\n",
            "\u001b[?25hDownloading libucx_cu12-1.17.0.post1-py3-none-manylinux_2_28_x86_64.whl (26.9 MB)\n",
            "\u001b[2K   \u001b[90m━━━━━━━━━━━━━━━━━━━━━━━━━━━━━━━━━━━━━━━━\u001b[0m \u001b[32m26.9/26.9 MB\u001b[0m \u001b[31m25.3 MB/s\u001b[0m eta \u001b[36m0:00:00\u001b[0m\n",
            "\u001b[?25hDownloading MarkupSafe-3.0.2-cp311-cp311-manylinux_2_17_x86_64.manylinux2014_x86_64.whl (23 kB)\n",
            "Downloading mdurl-0.1.2-py3-none-any.whl (10.0 kB)\n",
            "Downloading mpmath-1.3.0-py3-none-any.whl (536 kB)\n",
            "\u001b[2K   \u001b[90m━━━━━━━━━━━━━━━━━━━━━━━━━━━━━━━━━━━━━━━━\u001b[0m \u001b[32m536.2/536.2 kB\u001b[0m \u001b[31m32.1 MB/s\u001b[0m eta \u001b[36m0:00:00\u001b[0m\n",
            "\u001b[?25hBuilding wheels for collected packages: cuml-cu12, pylibraft-cu12, cuvs-cu12, raft-dask-cu12, distributed-ucxx-cu12, ucx-py-cu12, ucxx-cu12, libucxx-cu12\n",
            "  Building wheel for cuml-cu12 (pyproject.toml) ... \u001b[?25l\u001b[?25hdone\n",
            "  Created wheel for cuml-cu12: filename=cuml_cu12-24.12.0-cp311-cp311-manylinux_2_28_x86_64.whl size=548018735 sha256=2418da8e8eb6e9e43ab4ef2a43b05eaec1b0e1c27f6eb93e9b390d625f87830d\n",
            "  Stored in directory: /root/.cache/pip/wheels/05/a8/b2/1b20fa5b8a53c9d3d5d0d9c5350683457c23d1f3e924beab41\n",
            "  Building wheel for pylibraft-cu12 (pyproject.toml) ... \u001b[?25l\u001b[?25hdone\n",
            "  Created wheel for pylibraft-cu12: filename=pylibraft_cu12-24.12.0-cp311-cp311-manylinux_2_28_x86_64.whl size=11802800 sha256=47d3915fd3cdf4022acbd0315f88b12155399ef0b0e77fcac050c459ab6b31b0\n",
            "  Stored in directory: /root/.cache/pip/wheels/2a/67/73/9252ad4b3876078a9bca569565977dd588cb54f66bd3bf2e0d\n",
            "  Building wheel for cuvs-cu12 (pyproject.toml) ... \u001b[?25l\u001b[?25hdone\n",
            "  Created wheel for cuvs-cu12: filename=cuvs_cu12-24.12.0-cp311-cp311-manylinux_2_28_x86_64.whl size=849668080 sha256=b19c011e0219334cf22fbb77768eec6798897afebdd4cbb48e6de156cfc3a1a6\n",
            "  Stored in directory: /root/.cache/pip/wheels/7a/c8/33/82e634a5179b7034208bca3b0a465bde16e40d6212b63171b9\n",
            "  Building wheel for raft-dask-cu12 (pyproject.toml) ... \u001b[?25l\u001b[?25hdone\n",
            "  Created wheel for raft-dask-cu12: filename=raft_dask_cu12-24.12.0-cp311-cp311-manylinux_2_28_x86_64.whl size=196890281 sha256=22907cfcaf561dfe366b129021300168737a3cbad25812fd61819e1a9aeff4f7\n",
            "  Stored in directory: /root/.cache/pip/wheels/f5/14/3e/c40661899a098c7c99ae981bff10c67930615f082c0c886634\n",
            "  Building wheel for distributed-ucxx-cu12 (pyproject.toml) ... \u001b[?25l\u001b[?25hdone\n",
            "  Created wheel for distributed-ucxx-cu12: filename=distributed_ucxx_cu12-0.41.0-py3-none-any.whl size=24803 sha256=73437e496b61b34a5f0f3d9e64c5873c1d176bf80379fa8318d1ebdd78fa560b\n",
            "  Stored in directory: /root/.cache/pip/wheels/a5/9f/30/fc294cabfead20c6cd33ad49842809c23eb8cb9db2c857dd11\n",
            "  Building wheel for ucx-py-cu12 (pyproject.toml) ... \u001b[?25l\u001b[?25hdone\n",
            "  Created wheel for ucx-py-cu12: filename=ucx_py_cu12-0.41.0-cp311-cp311-manylinux_2_17_x86_64.manylinux2014_x86_64.manylinux_2_28_x86_64.whl size=2287997 sha256=ada163c63d31e19ff65ee1218448cea2de52e80797dca6a519a20d39fd09e2cc\n",
            "  Stored in directory: /root/.cache/pip/wheels/51/e1/e6/87ca1ddc23cc8b9d857c9a0b1e8199b3ec60fe3f4efbbac3d5\n",
            "  Building wheel for ucxx-cu12 (pyproject.toml) ... \u001b[?25l\u001b[?25hdone\n",
            "  Created wheel for ucxx-cu12: filename=ucxx_cu12-0.41.0-cp311-cp311-manylinux_2_27_x86_64.manylinux_2_28_x86_64.whl size=841184 sha256=d498bf3c805f799d4a6f7f69269169dc3c544bd30f3410a0f4876a33d2e21723\n",
            "  Stored in directory: /root/.cache/pip/wheels/f1/6f/9b/dfcf3e4fa6df3069345e6a0560c94b6f2a3161ab38904da670\n",
            "  Building wheel for libucxx-cu12 (pyproject.toml) ... \u001b[?25l\u001b[?25hdone\n",
            "  Created wheel for libucxx-cu12: filename=libucxx_cu12-0.41.0-py3-none-manylinux_2_24_x86_64.manylinux_2_28_x86_64.whl size=513262 sha256=9bd816b322e55d19230b8dda392da532e6b333e1d504c6576024dfcd78dd3177\n",
            "  Stored in directory: /root/.cache/pip/wheels/e2/04/a6/de68207e0e498ea1367f31a6e523e238e2b7afa9e31290d0cc\n",
            "Successfully built cuml-cu12 pylibraft-cu12 cuvs-cu12 raft-dask-cu12 distributed-ucxx-cu12 ucx-py-cu12 ucxx-cu12 libucxx-cu12\n",
            "Installing collected packages: triton, sortedcontainers, pytz, nvtx, nvidia-cusparselt-cu12, mpmath, libkvikio-cu12, fastrlock, farama-notifications, cuda-python, zipp, zict, urllib3, tzdata, typing_extensions, tqdm, tornado, toolz, tensorboard-data-server, tblib, sympy, six, setuptools, pyyaml, pyparsing, pynvml, pynvjitlink-cu12, pygments, pygame, pyarrow, psutil, protobuf, pillow, packaging, nvidia-nvtx-cu12, nvidia-nvjitlink-cu12, nvidia-nvcomp-cu12, nvidia-nccl-cu12, nvidia-curand-cu12, nvidia-cufft-cu12, nvidia-cuda-runtime-cu12, nvidia-cuda-nvrtc-cu12, nvidia-cuda-cupti-cu12, nvidia-cublas-cu12, numpy, networkx, msgpack, mdurl, MarkupSafe, markdown, locket, llvmlite, libucx-cu12, kiwisolver, joblib, grpcio, fsspec, fonttools, filelock, cycler, cloudpickle, click, cachetools, absl-py, werkzeug, ucx-py-cu12, scipy, python-dateutil, partd, opencv-python, nvidia-cusparse-cu12, nvidia-cudnn-cu12, numba, markdown-it-py, libucxx-cu12, libcudf-cu12, jinja2, importlib-metadata, gymnasium, cupy-cuda12x, contourpy, ale-py, treelite, tensorboard, rmm-cu12, rich, pandas, nvidia-cusolver-cu12, numba-cuda, matplotlib, dask, ucxx-cu12, torch, pylibraft-cu12, pylibcudf-cu12, gym-anytrading, distributed, dask-expr, stable-baselines3, rapids-dask-dependency, cuvs-cu12, cudf-cu12, distributed-ucxx-cu12, dask-cudf-cu12, dask-cuda, raft-dask-cu12, cuml-cu12\n",
            "  Attempting uninstall: triton\n",
            "    Found existing installation: triton 3.2.0\n",
            "    Uninstalling triton-3.2.0:\n",
            "      Successfully uninstalled triton-3.2.0\n",
            "  Attempting uninstall: sortedcontainers\n",
            "    Found existing installation: sortedcontainers 2.4.0\n",
            "    Uninstalling sortedcontainers-2.4.0:\n",
            "      Successfully uninstalled sortedcontainers-2.4.0\n",
            "  Attempting uninstall: pytz\n",
            "    Found existing installation: pytz 2025.2\n",
            "    Uninstalling pytz-2025.2:\n",
            "      Successfully uninstalled pytz-2025.2\n",
            "  Attempting uninstall: nvtx\n",
            "    Found existing installation: nvtx 0.2.11\n",
            "    Uninstalling nvtx-0.2.11:\n",
            "      Successfully uninstalled nvtx-0.2.11\n",
            "  Attempting uninstall: nvidia-cusparselt-cu12\n",
            "    Found existing installation: nvidia-cusparselt-cu12 0.6.2\n",
            "    Uninstalling nvidia-cusparselt-cu12-0.6.2:\n",
            "      Successfully uninstalled nvidia-cusparselt-cu12-0.6.2\n",
            "  Attempting uninstall: mpmath\n",
            "    Found existing installation: mpmath 1.3.0\n",
            "    Uninstalling mpmath-1.3.0:\n",
            "      Successfully uninstalled mpmath-1.3.0\n",
            "  Attempting uninstall: libkvikio-cu12\n",
            "    Found existing installation: libkvikio-cu12 25.2.1\n",
            "    Uninstalling libkvikio-cu12-25.2.1:\n",
            "      Successfully uninstalled libkvikio-cu12-25.2.1\n",
            "  Attempting uninstall: fastrlock\n",
            "    Found existing installation: fastrlock 0.8.3\n",
            "    Uninstalling fastrlock-0.8.3:\n",
            "      Successfully uninstalled fastrlock-0.8.3\n",
            "  Attempting uninstall: farama-notifications\n",
            "    Found existing installation: Farama-Notifications 0.0.4\n",
            "    Uninstalling Farama-Notifications-0.0.4:\n",
            "      Successfully uninstalled Farama-Notifications-0.0.4\n",
            "  Attempting uninstall: cuda-python\n",
            "    Found existing installation: cuda-python 12.6.2.post1\n",
            "    Uninstalling cuda-python-12.6.2.post1:\n",
            "      Successfully uninstalled cuda-python-12.6.2.post1\n",
            "  Attempting uninstall: zipp\n",
            "    Found existing installation: zipp 3.21.0\n",
            "    Uninstalling zipp-3.21.0:\n",
            "      Successfully uninstalled zipp-3.21.0\n",
            "  Attempting uninstall: zict\n",
            "    Found existing installation: zict 3.0.0\n",
            "    Uninstalling zict-3.0.0:\n",
            "      Successfully uninstalled zict-3.0.0\n",
            "  Attempting uninstall: urllib3\n",
            "    Found existing installation: urllib3 2.3.0\n",
            "    Uninstalling urllib3-2.3.0:\n",
            "      Successfully uninstalled urllib3-2.3.0\n",
            "  Attempting uninstall: tzdata\n",
            "    Found existing installation: tzdata 2025.2\n",
            "    Uninstalling tzdata-2025.2:\n",
            "      Successfully uninstalled tzdata-2025.2\n",
            "  Attempting uninstall: typing_extensions\n",
            "    Found existing installation: typing_extensions 4.13.1\n",
            "    Uninstalling typing_extensions-4.13.1:\n",
            "      Successfully uninstalled typing_extensions-4.13.1\n",
            "  Attempting uninstall: tqdm\n",
            "    Found existing installation: tqdm 4.67.1\n",
            "    Uninstalling tqdm-4.67.1:\n",
            "      Successfully uninstalled tqdm-4.67.1\n",
            "  Attempting uninstall: tornado\n",
            "    Found existing installation: tornado 6.4.2\n",
            "    Uninstalling tornado-6.4.2:\n",
            "      Successfully uninstalled tornado-6.4.2\n",
            "  Attempting uninstall: toolz\n",
            "    Found existing installation: toolz 0.12.1\n",
            "    Uninstalling toolz-0.12.1:\n",
            "      Successfully uninstalled toolz-0.12.1\n",
            "  Attempting uninstall: tensorboard-data-server\n",
            "    Found existing installation: tensorboard-data-server 0.7.2\n",
            "    Uninstalling tensorboard-data-server-0.7.2:\n",
            "      Successfully uninstalled tensorboard-data-server-0.7.2\n",
            "  Attempting uninstall: tblib\n",
            "    Found existing installation: tblib 3.1.0\n",
            "    Uninstalling tblib-3.1.0:\n",
            "      Successfully uninstalled tblib-3.1.0\n",
            "  Attempting uninstall: sympy\n",
            "    Found existing installation: sympy 1.13.1\n",
            "    Uninstalling sympy-1.13.1:\n",
            "      Successfully uninstalled sympy-1.13.1\n",
            "  Attempting uninstall: six\n",
            "    Found existing installation: six 1.17.0\n",
            "    Uninstalling six-1.17.0:\n",
            "      Successfully uninstalled six-1.17.0\n",
            "  Attempting uninstall: setuptools\n",
            "    Found existing installation: setuptools 75.2.0\n",
            "    Uninstalling setuptools-75.2.0:\n",
            "      Successfully uninstalled setuptools-75.2.0\n",
            "  Attempting uninstall: pyyaml\n",
            "    Found existing installation: PyYAML 6.0.2\n",
            "    Uninstalling PyYAML-6.0.2:\n",
            "      Successfully uninstalled PyYAML-6.0.2\n",
            "  Attempting uninstall: pyparsing\n",
            "    Found existing installation: pyparsing 3.2.3\n",
            "    Uninstalling pyparsing-3.2.3:\n",
            "      Successfully uninstalled pyparsing-3.2.3\n",
            "  Attempting uninstall: pynvml\n",
            "    Found existing installation: pynvml 12.0.0\n",
            "    Uninstalling pynvml-12.0.0:\n",
            "      Successfully uninstalled pynvml-12.0.0\n",
            "  Attempting uninstall: pynvjitlink-cu12\n",
            "    Found existing installation: pynvjitlink-cu12 0.5.2\n",
            "    Uninstalling pynvjitlink-cu12-0.5.2:\n",
            "      Successfully uninstalled pynvjitlink-cu12-0.5.2\n",
            "  Attempting uninstall: pygments\n",
            "    Found existing installation: Pygments 2.18.0\n",
            "    Uninstalling Pygments-2.18.0:\n",
            "      Successfully uninstalled Pygments-2.18.0\n",
            "  Attempting uninstall: pygame\n",
            "    Found existing installation: pygame 2.6.1\n",
            "    Uninstalling pygame-2.6.1:\n",
            "      Successfully uninstalled pygame-2.6.1\n",
            "  Attempting uninstall: pyarrow\n",
            "    Found existing installation: pyarrow 18.1.0\n",
            "    Uninstalling pyarrow-18.1.0:\n",
            "      Successfully uninstalled pyarrow-18.1.0\n",
            "  Attempting uninstall: psutil\n",
            "    Found existing installation: psutil 5.9.5\n",
            "    Uninstalling psutil-5.9.5:\n",
            "      Successfully uninstalled psutil-5.9.5\n",
            "  Attempting uninstall: protobuf\n",
            "    Found existing installation: protobuf 5.29.4\n",
            "    Uninstalling protobuf-5.29.4:\n",
            "      Successfully uninstalled protobuf-5.29.4\n",
            "  Attempting uninstall: pillow\n",
            "    Found existing installation: pillow 11.1.0\n",
            "    Uninstalling pillow-11.1.0:\n",
            "      Successfully uninstalled pillow-11.1.0\n",
            "  Attempting uninstall: packaging\n",
            "    Found existing installation: packaging 24.2\n",
            "    Uninstalling packaging-24.2:\n",
            "      Successfully uninstalled packaging-24.2\n",
            "  Attempting uninstall: nvidia-nvtx-cu12\n",
            "    Found existing installation: nvidia-nvtx-cu12 12.4.127\n",
            "    Uninstalling nvidia-nvtx-cu12-12.4.127:\n",
            "      Successfully uninstalled nvidia-nvtx-cu12-12.4.127\n",
            "  Attempting uninstall: nvidia-nvjitlink-cu12\n",
            "    Found existing installation: nvidia-nvjitlink-cu12 12.4.127\n",
            "    Uninstalling nvidia-nvjitlink-cu12-12.4.127:\n",
            "      Successfully uninstalled nvidia-nvjitlink-cu12-12.4.127\n",
            "  Attempting uninstall: nvidia-nvcomp-cu12\n",
            "    Found existing installation: nvidia-nvcomp-cu12 4.2.0.11\n",
            "    Uninstalling nvidia-nvcomp-cu12-4.2.0.11:\n",
            "      Successfully uninstalled nvidia-nvcomp-cu12-4.2.0.11\n",
            "  Attempting uninstall: nvidia-nccl-cu12\n",
            "    Found existing installation: nvidia-nccl-cu12 2.21.5\n",
            "    Uninstalling nvidia-nccl-cu12-2.21.5:\n",
            "      Successfully uninstalled nvidia-nccl-cu12-2.21.5\n",
            "  Attempting uninstall: nvidia-curand-cu12\n",
            "    Found existing installation: nvidia-curand-cu12 10.3.5.147\n",
            "    Uninstalling nvidia-curand-cu12-10.3.5.147:\n",
            "      Successfully uninstalled nvidia-curand-cu12-10.3.5.147\n",
            "  Attempting uninstall: nvidia-cufft-cu12\n",
            "    Found existing installation: nvidia-cufft-cu12 11.2.1.3\n",
            "    Uninstalling nvidia-cufft-cu12-11.2.1.3:\n",
            "      Successfully uninstalled nvidia-cufft-cu12-11.2.1.3\n",
            "  Attempting uninstall: nvidia-cuda-runtime-cu12\n",
            "    Found existing installation: nvidia-cuda-runtime-cu12 12.4.127\n",
            "    Uninstalling nvidia-cuda-runtime-cu12-12.4.127:\n",
            "      Successfully uninstalled nvidia-cuda-runtime-cu12-12.4.127\n",
            "  Attempting uninstall: nvidia-cuda-nvrtc-cu12\n",
            "    Found existing installation: nvidia-cuda-nvrtc-cu12 12.4.127\n",
            "    Uninstalling nvidia-cuda-nvrtc-cu12-12.4.127:\n",
            "      Successfully uninstalled nvidia-cuda-nvrtc-cu12-12.4.127\n",
            "  Attempting uninstall: nvidia-cuda-cupti-cu12\n",
            "    Found existing installation: nvidia-cuda-cupti-cu12 12.4.127\n",
            "    Uninstalling nvidia-cuda-cupti-cu12-12.4.127:\n",
            "      Successfully uninstalled nvidia-cuda-cupti-cu12-12.4.127\n",
            "  Attempting uninstall: nvidia-cublas-cu12\n",
            "    Found existing installation: nvidia-cublas-cu12 12.4.5.8\n",
            "    Uninstalling nvidia-cublas-cu12-12.4.5.8:\n",
            "      Successfully uninstalled nvidia-cublas-cu12-12.4.5.8\n",
            "  Attempting uninstall: numpy\n",
            "    Found existing installation: numpy 2.0.2\n",
            "    Uninstalling numpy-2.0.2:\n",
            "      Successfully uninstalled numpy-2.0.2\n",
            "  Attempting uninstall: networkx\n",
            "    Found existing installation: networkx 3.4.2\n",
            "    Uninstalling networkx-3.4.2:\n",
            "      Successfully uninstalled networkx-3.4.2\n",
            "  Attempting uninstall: msgpack\n",
            "    Found existing installation: msgpack 1.1.0\n",
            "    Uninstalling msgpack-1.1.0:\n",
            "      Successfully uninstalled msgpack-1.1.0\n",
            "  Attempting uninstall: mdurl\n",
            "    Found existing installation: mdurl 0.1.2\n",
            "    Uninstalling mdurl-0.1.2:\n",
            "      Successfully uninstalled mdurl-0.1.2\n",
            "  Attempting uninstall: MarkupSafe\n",
            "    Found existing installation: MarkupSafe 3.0.2\n",
            "    Uninstalling MarkupSafe-3.0.2:\n",
            "      Successfully uninstalled MarkupSafe-3.0.2\n",
            "  Attempting uninstall: markdown\n",
            "    Found existing installation: Markdown 3.7\n",
            "    Uninstalling Markdown-3.7:\n",
            "      Successfully uninstalled Markdown-3.7\n",
            "  Attempting uninstall: locket\n",
            "    Found existing installation: locket 1.0.0\n",
            "    Uninstalling locket-1.0.0:\n",
            "      Successfully uninstalled locket-1.0.0\n",
            "  Attempting uninstall: llvmlite\n",
            "    Found existing installation: llvmlite 0.43.0\n",
            "    Uninstalling llvmlite-0.43.0:\n",
            "      Successfully uninstalled llvmlite-0.43.0\n",
            "  Attempting uninstall: libucx-cu12\n",
            "    Found existing installation: libucx-cu12 1.18.0\n",
            "    Uninstalling libucx-cu12-1.18.0:\n",
            "      Successfully uninstalled libucx-cu12-1.18.0\n",
            "  Attempting uninstall: kiwisolver\n",
            "    Found existing installation: kiwisolver 1.4.8\n",
            "    Uninstalling kiwisolver-1.4.8:\n",
            "      Successfully uninstalled kiwisolver-1.4.8\n",
            "  Attempting uninstall: joblib\n",
            "    Found existing installation: joblib 1.4.2\n",
            "    Uninstalling joblib-1.4.2:\n",
            "      Successfully uninstalled joblib-1.4.2\n",
            "  Attempting uninstall: grpcio\n",
            "    Found existing installation: grpcio 1.71.0\n",
            "    Uninstalling grpcio-1.71.0:\n",
            "      Successfully uninstalled grpcio-1.71.0\n",
            "  Attempting uninstall: fsspec\n",
            "    Found existing installation: fsspec 2025.3.2\n",
            "    Uninstalling fsspec-2025.3.2:\n",
            "      Successfully uninstalled fsspec-2025.3.2\n",
            "  Attempting uninstall: fonttools\n",
            "    Found existing installation: fonttools 4.57.0\n",
            "    Uninstalling fonttools-4.57.0:\n",
            "      Successfully uninstalled fonttools-4.57.0\n",
            "  Attempting uninstall: filelock\n",
            "    Found existing installation: filelock 3.18.0\n",
            "    Uninstalling filelock-3.18.0:\n",
            "      Successfully uninstalled filelock-3.18.0\n",
            "  Attempting uninstall: cycler\n",
            "    Found existing installation: cycler 0.12.1\n",
            "    Uninstalling cycler-0.12.1:\n",
            "      Successfully uninstalled cycler-0.12.1\n",
            "  Attempting uninstall: cloudpickle\n",
            "    Found existing installation: cloudpickle 3.1.1\n",
            "    Uninstalling cloudpickle-3.1.1:\n",
            "      Successfully uninstalled cloudpickle-3.1.1\n",
            "  Attempting uninstall: click\n",
            "    Found existing installation: click 8.1.8\n",
            "    Uninstalling click-8.1.8:\n",
            "      Successfully uninstalled click-8.1.8\n",
            "  Attempting uninstall: cachetools\n",
            "    Found existing installation: cachetools 5.5.2\n",
            "    Uninstalling cachetools-5.5.2:\n",
            "      Successfully uninstalled cachetools-5.5.2\n",
            "  Attempting uninstall: absl-py\n",
            "    Found existing installation: absl-py 1.4.0\n",
            "    Uninstalling absl-py-1.4.0:\n",
            "      Successfully uninstalled absl-py-1.4.0\n",
            "  Attempting uninstall: werkzeug\n",
            "    Found existing installation: Werkzeug 3.1.3\n",
            "    Uninstalling Werkzeug-3.1.3:\n",
            "      Successfully uninstalled Werkzeug-3.1.3\n",
            "  Attempting uninstall: ucx-py-cu12\n",
            "    Found existing installation: ucx-py-cu12 0.42.0\n",
            "    Uninstalling ucx-py-cu12-0.42.0:\n",
            "      Successfully uninstalled ucx-py-cu12-0.42.0\n",
            "  Attempting uninstall: scipy\n",
            "    Found existing installation: scipy 1.14.1\n",
            "    Uninstalling scipy-1.14.1:\n",
            "      Successfully uninstalled scipy-1.14.1\n",
            "  Attempting uninstall: python-dateutil\n",
            "    Found existing installation: python-dateutil 2.8.2\n",
            "    Uninstalling python-dateutil-2.8.2:\n",
            "      Successfully uninstalled python-dateutil-2.8.2\n",
            "  Attempting uninstall: partd\n",
            "    Found existing installation: partd 1.4.2\n",
            "    Uninstalling partd-1.4.2:\n",
            "      Successfully uninstalled partd-1.4.2\n",
            "  Attempting uninstall: opencv-python\n",
            "    Found existing installation: opencv-python 4.11.0.86\n",
            "    Uninstalling opencv-python-4.11.0.86:\n",
            "      Successfully uninstalled opencv-python-4.11.0.86\n",
            "  Attempting uninstall: nvidia-cusparse-cu12\n",
            "    Found existing installation: nvidia-cusparse-cu12 12.3.1.170\n",
            "    Uninstalling nvidia-cusparse-cu12-12.3.1.170:\n",
            "      Successfully uninstalled nvidia-cusparse-cu12-12.3.1.170\n",
            "  Attempting uninstall: nvidia-cudnn-cu12\n",
            "    Found existing installation: nvidia-cudnn-cu12 9.1.0.70\n",
            "    Uninstalling nvidia-cudnn-cu12-9.1.0.70:\n",
            "      Successfully uninstalled nvidia-cudnn-cu12-9.1.0.70\n",
            "  Attempting uninstall: markdown-it-py\n",
            "    Found existing installation: markdown-it-py 3.0.0\n",
            "    Uninstalling markdown-it-py-3.0.0:\n",
            "      Successfully uninstalled markdown-it-py-3.0.0\n",
            "  Attempting uninstall: libucxx-cu12\n",
            "    Found existing installation: libucxx-cu12 0.42.0\n",
            "    Uninstalling libucxx-cu12-0.42.0:\n",
            "      Successfully uninstalled libucxx-cu12-0.42.0\n",
            "  Attempting uninstall: libcudf-cu12\n",
            "    Found existing installation: libcudf-cu12 25.2.1\n",
            "    Uninstalling libcudf-cu12-25.2.1:\n",
            "      Successfully uninstalled libcudf-cu12-25.2.1\n",
            "  Attempting uninstall: jinja2\n",
            "    Found existing installation: Jinja2 3.1.6\n",
            "    Uninstalling Jinja2-3.1.6:\n",
            "      Successfully uninstalled Jinja2-3.1.6\n",
            "  Attempting uninstall: importlib-metadata\n",
            "    Found existing installation: importlib_metadata 8.6.1\n",
            "    Uninstalling importlib_metadata-8.6.1:\n",
            "      Successfully uninstalled importlib_metadata-8.6.1\n",
            "  Attempting uninstall: cupy-cuda12x\n",
            "    Found existing installation: cupy-cuda12x 13.3.0\n",
            "    Uninstalling cupy-cuda12x-13.3.0:\n",
            "      Successfully uninstalled cupy-cuda12x-13.3.0\n",
            "  Attempting uninstall: contourpy\n",
            "    Found existing installation: contourpy 1.3.1\n",
            "    Uninstalling contourpy-1.3.1:\n",
            "      Successfully uninstalled contourpy-1.3.1\n",
            "  Attempting uninstall: ale-py\n",
            "    Found existing installation: ale-py 0.10.2\n",
            "    Uninstalling ale-py-0.10.2:\n",
            "      Successfully uninstalled ale-py-0.10.2\n",
            "  Attempting uninstall: treelite\n",
            "    Found existing installation: treelite 4.4.1\n",
            "    Uninstalling treelite-4.4.1:\n",
            "      Successfully uninstalled treelite-4.4.1\n",
            "  Attempting uninstall: tensorboard\n",
            "    Found existing installation: tensorboard 2.18.0\n",
            "    Uninstalling tensorboard-2.18.0:\n",
            "      Successfully uninstalled tensorboard-2.18.0\n",
            "  Attempting uninstall: rmm-cu12\n",
            "    Found existing installation: rmm-cu12 25.2.0\n",
            "    Uninstalling rmm-cu12-25.2.0:\n",
            "      Successfully uninstalled rmm-cu12-25.2.0\n",
            "  Attempting uninstall: rich\n",
            "    Found existing installation: rich 13.9.4\n",
            "    Uninstalling rich-13.9.4:\n",
            "      Successfully uninstalled rich-13.9.4\n",
            "  Attempting uninstall: pandas\n",
            "    Found existing installation: pandas 2.2.2\n",
            "    Uninstalling pandas-2.2.2:\n",
            "      Successfully uninstalled pandas-2.2.2\n",
            "  Attempting uninstall: nvidia-cusolver-cu12\n",
            "    Found existing installation: nvidia-cusolver-cu12 11.6.1.9\n",
            "    Uninstalling nvidia-cusolver-cu12-11.6.1.9:\n",
            "      Successfully uninstalled nvidia-cusolver-cu12-11.6.1.9\n",
            "  Attempting uninstall: numba-cuda\n",
            "    Found existing installation: numba-cuda 0.2.0\n",
            "    Uninstalling numba-cuda-0.2.0:\n",
            "      Successfully uninstalled numba-cuda-0.2.0\n",
            "  Attempting uninstall: matplotlib\n",
            "    Found existing installation: matplotlib 3.10.0\n",
            "    Uninstalling matplotlib-3.10.0:\n",
            "      Successfully uninstalled matplotlib-3.10.0\n",
            "  Attempting uninstall: ucxx-cu12\n",
            "    Found existing installation: ucxx-cu12 0.42.0\n",
            "    Uninstalling ucxx-cu12-0.42.0:\n",
            "      Successfully uninstalled ucxx-cu12-0.42.0\n",
            "  Attempting uninstall: torch\n",
            "    Found existing installation: torch 2.6.0+cu124\n",
            "    Uninstalling torch-2.6.0+cu124:\n",
            "      Successfully uninstalled torch-2.6.0+cu124\n",
            "  Attempting uninstall: distributed\n",
            "    Found existing installation: distributed 2024.12.1\n",
            "    Uninstalling distributed-2024.12.1:\n",
            "      Successfully uninstalled distributed-2024.12.1\n",
            "  Attempting uninstall: dask-expr\n",
            "    Found existing installation: dask-expr 1.1.21\n",
            "    Uninstalling dask-expr-1.1.21:\n",
            "      Successfully uninstalled dask-expr-1.1.21\n",
            "  Attempting uninstall: cuvs-cu12\n",
            "    Found existing installation: cuvs-cu12 25.2.1\n",
            "    Uninstalling cuvs-cu12-25.2.1:\n",
            "      Successfully uninstalled cuvs-cu12-25.2.1\n",
            "  Attempting uninstall: distributed-ucxx-cu12\n",
            "    Found existing installation: distributed-ucxx-cu12 0.42.0\n",
            "    Uninstalling distributed-ucxx-cu12-0.42.0:\n",
            "      Successfully uninstalled distributed-ucxx-cu12-0.42.0\n",
            "  Attempting uninstall: dask-cudf-cu12\n",
            "    Found existing installation: dask-cudf-cu12 25.2.2\n",
            "    Uninstalling dask-cudf-cu12-25.2.2:\n",
            "      Successfully uninstalled dask-cudf-cu12-25.2.2\n",
            "  Attempting uninstall: dask-cuda\n",
            "    Found existing installation: dask-cuda 25.2.0\n",
            "    Uninstalling dask-cuda-25.2.0:\n",
            "      Successfully uninstalled dask-cuda-25.2.0\n",
            "  Attempting uninstall: raft-dask-cu12\n",
            "    Found existing installation: raft-dask-cu12 25.2.0\n",
            "    Uninstalling raft-dask-cu12-25.2.0:\n",
            "      Successfully uninstalled raft-dask-cu12-25.2.0\n",
            "\u001b[31mERROR: pip's dependency resolver does not currently take into account all the packages that are installed. This behaviour is the source of the following dependency conflicts.\n",
            "ipython 7.34.0 requires jedi>=0.16, which is not installed.\n",
            "google-colab 1.0.0 requires pandas==2.2.2, but you have pandas 2.2.3 which is incompatible.\n",
            "pylibcugraph-cu12 25.2.0 requires pylibraft-cu12==25.2.*, but you have pylibraft-cu12 24.12.0 which is incompatible.\n",
            "pylibcugraph-cu12 25.2.0 requires rmm-cu12==25.2.*, but you have rmm-cu12 24.12.1 which is incompatible.\n",
            "wandb 0.19.9 requires protobuf!=4.21.0,!=5.28.0,<6,>=3.19.0; python_version > \"3.9\" and sys_platform == \"linux\", but you have protobuf 6.30.2 which is incompatible.\n",
            "google-ai-generativelanguage 0.6.15 requires protobuf!=4.21.0,!=4.21.1,!=4.21.2,!=4.21.3,!=4.21.4,!=4.21.5,<6.0.0dev,>=3.20.2, but you have protobuf 6.30.2 which is incompatible.\n",
            "dopamine-rl 4.1.2 requires gymnasium>=1.0.0, but you have gymnasium 0.29.1 which is incompatible.\n",
            "google-cloud-datastore 2.20.2 requires protobuf!=3.20.0,!=3.20.1,!=4.21.0,!=4.21.1,!=4.21.2,!=4.21.3,!=4.21.4,!=4.21.5,<6.0.0dev,>=3.20.2, but you have protobuf 6.30.2 which is incompatible.\n",
            "ibis-framework 9.5.0 requires toolz<1,>=0.11, but you have toolz 1.0.0 which is incompatible.\n",
            "google-cloud-firestore 2.20.1 requires protobuf!=3.20.0,!=3.20.1,!=4.21.0,!=4.21.1,!=4.21.2,!=4.21.3,!=4.21.4,!=4.21.5,<6.0.0dev,>=3.20.2, but you have protobuf 6.30.2 which is incompatible.\n",
            "bigframes 1.42.0 requires rich<14,>=12.4.4, but you have rich 14.0.0 which is incompatible.\n",
            "google-cloud-aiplatform 1.87.0 requires protobuf!=4.21.0,!=4.21.1,!=4.21.2,!=4.21.3,!=4.21.4,!=4.21.5,<6.0.0,>=3.20.2, but you have protobuf 6.30.2 which is incompatible.\n",
            "cudf-polars-cu12 25.2.2 requires pylibcudf-cu12==25.2.*, but you have pylibcudf-cu12 24.12.0 which is incompatible.\n",
            "grpcio-status 1.71.0 requires protobuf<6.0dev,>=5.26.1, but you have protobuf 6.30.2 which is incompatible.\n",
            "tensorflow-metadata 1.17.0 requires protobuf<6.0.0,>=4.25.2; python_version >= \"3.11\", but you have protobuf 6.30.2 which is incompatible.\n",
            "tensorflow 2.18.0 requires numpy<2.1.0,>=1.26.0, but you have numpy 2.1.3 which is incompatible.\n",
            "tensorflow 2.18.0 requires protobuf!=4.21.0,!=4.21.1,!=4.21.2,!=4.21.3,!=4.21.4,!=4.21.5,<6.0.0dev,>=3.20.3, but you have protobuf 6.30.2 which is incompatible.\n",
            "tensorflow 2.18.0 requires tensorboard<2.19,>=2.18, but you have tensorboard 2.19.0 which is incompatible.\u001b[0m\u001b[31m\n",
            "\u001b[0mSuccessfully installed MarkupSafe-3.0.2 absl-py-2.2.2 ale-py-0.10.2 cachetools-5.5.2 click-8.1.8 cloudpickle-3.1.1 contourpy-1.3.1 cuda-python-12.6.0 cudf-cu12-24.12.0 cuml-cu12-24.12.0 cupy-cuda12x-13.4.1 cuvs-cu12-24.12.0 cycler-0.12.1 dask-2024.11.2 dask-cuda-24.12.0 dask-cudf-cu12-24.12.0 dask-expr-1.1.19 distributed-2024.11.2 distributed-ucxx-cu12-0.41.0 farama-notifications-0.0.4 fastrlock-0.8.3 filelock-3.18.0 fonttools-4.57.0 fsspec-2025.3.2 grpcio-1.71.0 gym-anytrading-2.0.0 gymnasium-0.29.1 importlib-metadata-8.6.1 jinja2-3.1.6 joblib-1.4.2 kiwisolver-1.4.8 libcudf-cu12-24.12.0 libkvikio-cu12-24.12.1 libucx-cu12-1.17.0.post1 libucxx-cu12-0.41.0 llvmlite-0.44.0 locket-1.0.0 markdown-3.7 markdown-it-py-3.0.0 matplotlib-3.10.1 mdurl-0.1.2 mpmath-1.3.0 msgpack-1.1.0 networkx-3.4.2 numba-0.61.0 numba-cuda-0.0.17.1 numpy-2.1.3 nvidia-cublas-cu12-12.4.5.8 nvidia-cuda-cupti-cu12-12.4.127 nvidia-cuda-nvrtc-cu12-12.4.127 nvidia-cuda-runtime-cu12-12.4.127 nvidia-cudnn-cu12-9.1.0.70 nvidia-cufft-cu12-11.2.1.3 nvidia-curand-cu12-10.3.5.147 nvidia-cusolver-cu12-11.6.1.9 nvidia-cusparse-cu12-12.3.1.170 nvidia-cusparselt-cu12-0.6.2 nvidia-nccl-cu12-2.21.5 nvidia-nvcomp-cu12-4.1.0.6 nvidia-nvjitlink-cu12-12.4.127 nvidia-nvtx-cu12-12.4.127 nvtx-0.2.11 opencv-python-4.11.0.86 packaging-24.2 pandas-2.2.3 partd-1.4.2 pillow-11.1.0 protobuf-6.30.2 psutil-7.0.0 pyarrow-18.1.0 pygame-2.6.1 pygments-2.19.1 pylibcudf-cu12-24.12.0 pylibraft-cu12-24.12.0 pynvjitlink-cu12-0.5.2 pynvml-11.4.1 pyparsing-3.2.3 python-dateutil-2.9.0.post0 pytz-2025.2 pyyaml-6.0.2 raft-dask-cu12-24.12.0 rapids-dask-dependency-24.12.0 rich-14.0.0 rmm-cu12-24.12.1 scipy-1.15.2 setuptools-78.1.0 six-1.17.0 sortedcontainers-2.4.0 stable-baselines3-2.6.0 sympy-1.13.1 tblib-3.1.0 tensorboard-2.19.0 tensorboard-data-server-0.7.2 toolz-1.0.0 torch-2.6.0 tornado-6.4.2 tqdm-4.67.1 treelite-4.3.0 triton-3.2.0 typing_extensions-4.13.1 tzdata-2025.2 ucx-py-cu12-0.41.0 ucxx-cu12-0.41.0 urllib3-2.3.0 werkzeug-3.1.3 zict-3.0.0 zipp-3.21.0\n"
          ]
        },
        {
          "output_type": "display_data",
          "data": {
            "application/vnd.colab-display-data+json": {
              "pip_warning": {
                "packages": [
                  "PIL",
                  "_distutils_hack",
                  "cycler",
                  "dateutil",
                  "importlib_metadata",
                  "joblib",
                  "kiwisolver",
                  "psutil",
                  "pyarrow",
                  "pytz",
                  "rapids_dask_dependency",
                  "six",
                  "tornado",
                  "zipp"
                ]
              },
              "id": "1a395ff1749c4d339cf11bc7141ef3ee"
            }
          },
          "metadata": {}
        }
      ]
    },
    {
      "cell_type": "code",
      "source": [
        "import cudf, cuml, dask, stable_baselines3, gymnasium\n",
        "import numba, pandas, numpy, scipy\n",
        "\n",
        "print(\"cuDF Version:\", cudf.__version__)\n",
        "print(\"cuML Version:\", cuml.__version__)\n",
        "print(\"Dask Version:\", dask.__version__)\n",
        "print(\"Stable Baselines3 Installed:\", stable_baselines3.__version__)\n",
        "print(\"Gymnasium Version:\", gymnasium.__version__)\n",
        "print(\"NumPy Version:\", numpy.__version__)\n",
        "print(\"SciPy Version:\", scipy.__version__)\n",
        "print(\"Pandas Version:\", pandas.__version__)"
      ],
      "metadata": {
        "colab": {
          "base_uri": "https://localhost:8080/",
          "height": 994
        },
        "id": "1yHPEPTUoQHz",
        "outputId": "4aed760b-3bf4-4929-c83e-b2444fbed7da"
      },
      "execution_count": 1,
      "outputs": [
        {
          "output_type": "stream",
          "name": "stderr",
          "text": [
            "/usr/local/lib/python3.11/dist-packages/cudf/utils/_ptxcompiler.py:64: UserWarning: Error getting driver and runtime versions:\n",
            "\n",
            "stdout:\n",
            "\n",
            "\n",
            "\n",
            "stderr:\n",
            "\n",
            "Traceback (most recent call last):\n",
            "  File \"<string>\", line 4, in <module>\n",
            "  File \"/usr/local/lib/python3.11/dist-packages/numba_cuda/numba/cuda/cudadrv/driver.py\", line 272, in __getattr__\n",
            "    raise CudaSupportError(\"Error at driver init: \\n%s:\" %\n",
            "numba.cuda.cudadrv.error.CudaSupportError: Error at driver init: \n",
            "\n",
            "CUDA driver library cannot be found.\n",
            "If you are sure that a CUDA driver is installed,\n",
            "try setting environment variable NUMBA_CUDA_DRIVER\n",
            "with the file path of the CUDA driver shared library.\n",
            ":\n",
            "\n",
            "\n",
            "Not patching Numba\n",
            "  warnings.warn(msg, UserWarning)\n",
            "/usr/local/lib/python3.11/dist-packages/cudf/utils/gpu_utils.py:62: UserWarning: Failed to dlopen libcuda.so.1\n",
            "  warnings.warn(str(e))\n"
          ]
        },
        {
          "output_type": "error",
          "ename": "AttributeError",
          "evalue": "'MessageFactory' object has no attribute 'GetPrototype'",
          "traceback": [
            "\u001b[0;31m---------------------------------------------------------------------------\u001b[0m",
            "\u001b[0;31mAttributeError\u001b[0m                            Traceback (most recent call last)",
            "\u001b[0;31mAttributeError\u001b[0m: 'MessageFactory' object has no attribute 'GetPrototype'"
          ]
        },
        {
          "output_type": "error",
          "ename": "AttributeError",
          "evalue": "'MessageFactory' object has no attribute 'GetPrototype'",
          "traceback": [
            "\u001b[0;31m---------------------------------------------------------------------------\u001b[0m",
            "\u001b[0;31mAttributeError\u001b[0m                            Traceback (most recent call last)",
            "\u001b[0;31mAttributeError\u001b[0m: 'MessageFactory' object has no attribute 'GetPrototype'"
          ]
        },
        {
          "output_type": "error",
          "ename": "AttributeError",
          "evalue": "'MessageFactory' object has no attribute 'GetPrototype'",
          "traceback": [
            "\u001b[0;31m---------------------------------------------------------------------------\u001b[0m",
            "\u001b[0;31mAttributeError\u001b[0m                            Traceback (most recent call last)",
            "\u001b[0;31mAttributeError\u001b[0m: 'MessageFactory' object has no attribute 'GetPrototype'"
          ]
        },
        {
          "output_type": "error",
          "ename": "AttributeError",
          "evalue": "'MessageFactory' object has no attribute 'GetPrototype'",
          "traceback": [
            "\u001b[0;31m---------------------------------------------------------------------------\u001b[0m",
            "\u001b[0;31mAttributeError\u001b[0m                            Traceback (most recent call last)",
            "\u001b[0;31mAttributeError\u001b[0m: 'MessageFactory' object has no attribute 'GetPrototype'"
          ]
        },
        {
          "output_type": "error",
          "ename": "AttributeError",
          "evalue": "'MessageFactory' object has no attribute 'GetPrototype'",
          "traceback": [
            "\u001b[0;31m---------------------------------------------------------------------------\u001b[0m",
            "\u001b[0;31mAttributeError\u001b[0m                            Traceback (most recent call last)",
            "\u001b[0;31mAttributeError\u001b[0m: 'MessageFactory' object has no attribute 'GetPrototype'"
          ]
        },
        {
          "output_type": "stream",
          "name": "stdout",
          "text": [
            "cuDF Version: 24.12.00\n",
            "cuML Version: 24.12.00\n",
            "Dask Version: 2024.11.2\n",
            "Stable Baselines3 Installed: 2.6.0\n",
            "Gymnasium Version: 0.29.1\n",
            "NumPy Version: 2.1.3\n",
            "SciPy Version: 1.15.2\n",
            "Pandas Version: 2.2.3\n"
          ]
        }
      ]
    },
    {
      "cell_type": "code",
      "source": [
        "!nvidia-smi"
      ],
      "metadata": {
        "id": "51bQM7-vsYqa",
        "colab": {
          "base_uri": "https://localhost:8080/"
        },
        "outputId": "36711a1d-26c5-4606-afc1-76bc8e2ff1d2"
      },
      "execution_count": 2,
      "outputs": [
        {
          "output_type": "stream",
          "name": "stdout",
          "text": [
            "/bin/bash: line 1: nvidia-smi: command not found\n"
          ]
        }
      ]
    },
    {
      "cell_type": "code",
      "source": [
        "import tensorflow as tf\n",
        "print(\"TF Version:\", tf.__version__)\n",
        "print(\"Available GPUs:\", tf.config.list_physical_devices('GPU'))"
      ],
      "metadata": {
        "colab": {
          "base_uri": "https://localhost:8080/"
        },
        "id": "kTSo2PQ4spSE",
        "outputId": "b49c9786-7549-42b1-8b12-fdcf5d469bb2"
      },
      "execution_count": 3,
      "outputs": [
        {
          "output_type": "stream",
          "name": "stdout",
          "text": [
            "TF Version: 2.18.0\n",
            "Available GPUs: []\n"
          ]
        }
      ]
    },
    {
      "cell_type": "code",
      "source": [
        "Step 2: Set Environment Paths for CUDA 11.8\n",
        "import os\n",
        "os.environ['CUDA_HOME'] = '/usr/local/cuda-11.8'\n",
        "os.environ['PATH'] += ':/usr/local/cuda-11.8/bin'\n",
        "os.environ['LD_LIBRARY_PATH'] += ':/usr/local/cuda-11.8/lib64'"
      ],
      "metadata": {
        "id": "Uf1Hc7Z1H0oz"
      },
      "execution_count": 4,
      "outputs": []
    },
    {
      "cell_type": "code",
      "source": [
        "\n",
        "try:\n",
        "    df = cudf.DataFrame({'col1': [1, 2, 3], 'col2': [4, 5, 6]})\n",
        "    print(\"cuDF is working and using GPU!\")\n",
        "except Exception as e:\n",
        "    print(f\"cuDF GPU check failed: {e}\")\n",
        "\n"
      ],
      "metadata": {
        "colab": {
          "base_uri": "https://localhost:8080/"
        },
        "id": "YjLrSYVJs3vF",
        "outputId": "a6c5e19e-876f-4530-ddef-2c4bd594b60c"
      },
      "execution_count": 5,
      "outputs": [
        {
          "output_type": "stream",
          "name": "stdout",
          "text": [
            "cuDF GPU check failed: Function \"cuInit\" not found\n"
          ]
        }
      ]
    },
    {
      "cell_type": "code",
      "source": [
        "import os\n",
        "import time\n",
        "import gc\n",
        "import numpy as np\n",
        "import pandas as pd\n",
        "import xgboost as xgb\n",
        "import yfinance as yf\n",
        "import gymnasium as gym  Use gymnasium instead of gym\n",
        "import gym_anytrading\n",
        "from gymnasium.envs.registration import registry, register\n",
        "import matplotlib.pyplot as plt\n",
        "\n",
        "Prevent cuDF from taking all GPU memory\n",
        "os.environ[\"RAPIDS_NO_INITIALIZE\"] = \"1\"\n",
        "\n",
        "RAPIDS & GPU-based Libraries (Try-Except to Avoid CPU Errors)\n",
        "try:\n",
        "    import cudf\n",
        "    import cuml\n",
        "    from cuml.ensemble import RandomForestClassifier\n",
        "    from cuml.metrics import accuracy_score\n",
        "    GPU_AVAILABLE = True\n",
        "    print(\"cuDF & cuML are available and running on GPU.\")\n",
        "except ImportError:\n",
        "    print(\" cuDF/cuML not available. Switching to CPU mode.\")\n",
        "    GPU_AVAILABLE = False\n",
        "\n",
        "Reinforcement Learning & Trading\n",
        "from stable_baselines3 import PPO\n",
        "from stable_baselines3.common.vec_env import DummyVecEnv\n",
        "\n",
        "Machine Learning\n",
        "from sklearn.model_selection import train_test_split\n",
        "from sklearn.preprocessing import MinMaxScaler\n",
        "\n",
        "TensorFlow & GPU Optimization\n",
        "import tensorflow as tf\n",
        "from tensorflow.keras.models import Sequential\n",
        "from tensorflow.keras.layers import LSTM, Dense, Dropout\n",
        "\n",
        "Ensure TensorFlow GPU Memory Allocation is Configured\n",
        "gpus = tf.config.list_physical_devices(\"GPU\")\n",
        "if gpus:\n",
        "    try:\n",
        "        for gpu in gpus:\n",
        "            tf.config.experimental.set_memory_growth(gpu, True)  Prevents full allocation\n",
        "        print(\"TensorFlow GPU memory growth enabled\")\n",
        "    except RuntimeError as e:\n",
        "        print(f\" TensorFlow GPU memory issue: {e}\")\n",
        "\n",
        "Google Drive Access (for Colab)\n",
        "from google.colab import drive\n"
      ],
      "metadata": {
        "colab": {
          "base_uri": "https://localhost:8080/"
        },
        "id": "3n-Y2MBWGTnZ",
        "outputId": "731ff907-df77-4da7-bae2-02cb67dea828"
      },
      "execution_count": 6,
      "outputs": [
        {
          "output_type": "stream",
          "name": "stdout",
          "text": [
            "cuDF & cuML are available and running on GPU.\n"
          ]
        }
      ]
    },
    {
      "cell_type": "code",
      "source": [
        "#Ticker List and CONFIG\n",
        "ticker_list = [\n",
        "    'AAPL', 'TSLA', 'MSFT', 'GOOGL', 'AMZN', 'NVDA', 'META', 'BRK-B', 'JPM', 'JNJ',\n",
        "    'XOM', 'V', 'PG', 'UNH', 'MA', 'HD', 'LLY', 'MRK', 'PEP', 'KO',\n",
        "    'BAC', 'ABBV', 'AVGO', 'PFE', 'COST', 'CSCO', 'TMO', 'ABT', 'ACN', 'WMT',\n",
        "    'MCD', 'ADBE', 'DHR', 'CRM', 'NKE', 'INTC', 'QCOM', 'NEE', 'AMD', 'TXN',\n",
        "    'AMGN', 'UPS', 'LIN', 'PM', 'UNP', 'BMY', 'LOW', 'RTX', 'CVX', 'IBM',\n",
        "    'GE', 'SBUX', 'ORCL'\n",
        "]\n",
        "\n",
        "strategy_name = \"sac_ppo_td3_multi_stock_v1\"\n",
        "\n",
        "CONFIG = {\n",
        "    'symbols': [],\n",
        "    'period': '720d',\n",
        "    'interval': '1h',\n",
        "    'target': 'Target',\n",
        "    'sharpe_threshold': 1.5,\n",
        "    'return_threshold': 1.25,\n",
        "    'strategy_name': strategy_name\n",
        "}\n",
        "\n",
        "#Download Function\n",
        "def download_stock_data(ticker, period=\"720d\", interval=\"1h\", max_retries=5):\n",
        "    for attempt in range(1, max_retries + 1):\n",
        "        try:\n",
        "            print(f\"Attempt {attempt}: Downloading {ticker}...\")\n",
        "            df = yf.download(ticker, period=period, interval=interval)\n",
        "            if not df.empty:\n",
        "                df.reset_index(inplace=True)\n",
        "                df['Symbol'] = ticker\n",
        "                return df\n",
        "            raise ValueError(\"Empty data\")\n",
        "        except Exception as e:\n",
        "            print(f\"Error: {e}. Retrying in {attempt * 5} sec...\")\n",
        "            time.sleep(attempt * 5)\n",
        "    print(f\"Failed to download {ticker}\")\n",
        "    return None"
      ],
      "metadata": {
        "id": "XYPgHpYYHO_4"
      },
      "execution_count": 7,
      "outputs": []
    },
    {
      "cell_type": "code",
      "source": [
        "import os\n",
        "import time\n",
        "import numpy as np\n",
        "import pandas as pd\n",
        "import yfinance as yf\n",
        "\n",
        "Ticker List\n",
        "ticker_list = [\n",
        "    'AAPL', 'TSLA', 'MSFT', 'GOOGL', 'AMZN', 'NVDA', 'META', 'BRK-B', 'JPM', 'JNJ',\n",
        "    'XOM', 'V', 'PG', 'UNH', 'MA', 'HD', 'LLY', 'MRK', 'PEP', 'KO',\n",
        "    'BAC', 'ABBV', 'AVGO', 'PFE', 'COST', 'CSCO', 'TMO', 'ABT', 'ACN', 'WMT',\n",
        "    'MCD', 'ADBE', 'DHR', 'CRM', 'NKE', 'INTC', 'QCOM', 'NEE', 'AMD', 'TXN',\n",
        "    'AMGN', 'UPS', 'LIN', 'PM', 'UNP', 'BMY', 'LOW', 'RTX', 'CVX', 'IBM',\n",
        "    'GE', 'SBUX', 'ORCL'\n",
        "]\n",
        "\n",
        "CONFIG = {\n",
        "    'period': '720d',\n",
        "    'interval': '1h',\n",
        "    'strategy_name': \"sac_ppo_td3_multi_stock_v1\"\n",
        "}\n",
        "\n",
        "1.Download Stock Data\n",
        "def download_stock_data(ticker, period=\"720d\", interval=\"1h\", max_retries=5):\n",
        "    for attempt in range(1, max_retries + 1):\n",
        "        try:\n",
        "            print(f\"Attempt {attempt}: Downloading {ticker}...\")\n",
        "            df = yf.download(ticker, period=period, interval=interval)\n",
        "            if not df.empty:\n",
        "                df.reset_index(inplace=True)\n",
        "                df['Symbol'] = ticker\n",
        "                return df\n",
        "            raise ValueError(\"Empty data\")\n",
        "        except Exception as e:\n",
        "            print(f\"Error: {e}. Retrying in {attempt * 5} sec...\")\n",
        "            time.sleep(attempt * 5)\n",
        "    print(f\"Failed to download {ticker}\")\n",
        "    return None\n",
        "\n",
        "2.Feature Engineering\n",
        "def compute_enhanced_features(df):\n",
        "    df = df.copy()\n",
        "    if isinstance(df.columns, pd.MultiIndex):\n",
        "        df.columns = df.columns.get_level_values(0)\n",
        "    df = df.loc[:, ~df.columns.duplicated()]\n",
        "\n",
        "    df['SMA_20'] = df['Close'].rolling(20).mean()\n",
        "    df['STD_20'] = df['Close'].rolling(20).std()\n",
        "    df['Upper_Band'] = df['SMA_20'] + 2 * df['STD_20']\n",
        "    df['Lower_Band'] = df['SMA_20'] - 2 * df['STD_20']\n",
        "    df['Lowest_Low'] = df['Low'].rolling(14).min()\n",
        "    df['Highest_High'] = df['High'].rolling(14).max()\n",
        "    denom = (df['Highest_High'] - df['Lowest_Low']).replace(0, np.nan)\n",
        "    df['Stoch'] = ((df['Close'] - df['Lowest_Low']) / denom) * 100\n",
        "    df['ROC'] = df['Close'].pct_change(10)\n",
        "    df['OBV'] = (np.sign(df['Close'].diff()) * df['Volume']).cumsum()\n",
        "    typical_price = (df['High'] + df['Low'] + df['Close']) / 3\n",
        "    df['CCI'] = (typical_price - typical_price.rolling(20).mean()) / (0.015 * typical_price.rolling(20).std())\n",
        "    df['PROC'] = ((df['Close'] - df['Close'].shift(12)) / df['Close'].shift(12)) * 100\n",
        "    df['Rolling_Mean_50'] = df['Close'].rolling(50).mean()\n",
        "    df['Expanding_Mean'] = df['Close'].expanding().mean()\n",
        "    df['EMA_10'] = df['Close'].ewm(span=10).mean()\n",
        "    df['EMA_50'] = df['Close'].ewm(span=50).mean()\n",
        "    df['MACD_Line'] = df['Close'].ewm(span=12).mean() - df['Close'].ewm(span=26).mean()\n",
        "    df['MACD_Signal'] = df['MACD_Line'].ewm(span=9).mean()\n",
        "    df['MACD_Hist'] = df['MACD_Line'] - df['MACD_Signal']\n",
        "    delta = df['Close'].diff()\n",
        "    gain = delta.where(delta > 0, 0).rolling(14).mean()\n",
        "    loss = -delta.where(delta < 0, 0).rolling(14).mean()\n",
        "    rs = gain / loss\n",
        "    df['RSI'] = 100 - (100 / (1 + rs))\n",
        "    df['True_Range'] = df[['High', 'Low', 'Close']].apply(\n",
        "        lambda x: max(x.iloc[0] - x.iloc[1], abs(x.iloc[0] - x.iloc[2]), abs(x.iloc[1] - x.iloc[2])), axis=1)\n",
        "    df['ATR'] = df['True_Range'].rolling(14).mean()\n",
        "    df['+DM'] = np.where((df['High'].diff() > df['Low'].diff()) & (df['High'].diff() > 0), df['High'].diff(), 0)\n",
        "    df['-DM'] = np.where((df['Low'].diff() > df['High'].diff()) & (df['Low'].diff() > 0), df['Low'].diff(), 0)\n",
        "    df['+DI'] = 100 * df['+DM'].rolling(14).mean() / df['ATR']\n",
        "    df['-DI'] = 100 * df['-DM'].rolling(14).mean() / df['ATR']\n",
        "    df['ADX'] = abs(df['+DI'] - df['-DI']).rolling(14).mean()\n",
        "    df['Volume_Avg'] = df['Volume'].rolling(20).mean()\n",
        "    df['Volume_Change'] = df['Volume'].pct_change()\n",
        "    df['Volume_Change_MA'] = df['Volume_Change'].rolling(10).mean()\n",
        "    df['Volume_Change_Ratio'] = df['Volume_Change'] / df['Volume_Change'].shift(1)\n",
        "    df['Relative_Volume'] = df['Volume'] / df['Volume_Avg']\n",
        "    df['Trailing_Stop'] = np.minimum(df['Close'] * 0.985, df['Close'] - (df['ATR'] * 0.3))\n",
        "    df.replace([np.inf, -np.inf], np.nan, inplace=True)\n",
        "    df.dropna(inplace=True)\n",
        "    return df\n",
        "\n",
        "3.Label Creation\n",
        "def create_trading_labels(df, label_type=\"multiclass\", return_threshold=0.02, shift_period=10):\n",
        "    df = df.copy()\n",
        "    df['Future_Close'] = df['Close'].shift(-shift_period)\n",
        "    df['Return'] = (df['Future_Close'] - df['Close']) / df['Close']\n",
        "\n",
        "    if label_type == \"multiclass\":\n",
        "        df['Target'] = np.select(\n",
        "            [df['Return'] > return_threshold, df['Return'] < -return_threshold],\n",
        "            [1, -1],\n",
        "            default=0\n",
        "        )\n",
        "    elif label_type == \"binary\":\n",
        "        df['Target'] = np.where(df['Return'] > return_threshold, 1, 0)\n",
        "    elif label_type == \"regression\":\n",
        "        df['Target'] = df['Return']\n",
        "    else:\n",
        "        raise ValueError(\"Invalid label_type. Use 'multiclass', 'binary', or 'regression'.\")\n",
        "\n",
        "    df.drop(columns=[\"Future_Close\", \"Return\"], inplace=True, errors='ignore')\n",
        "    return df\n",
        "\n",
        "4.Run Pipeline for All Stocks\n",
        "all_dfs = []\n",
        "\n",
        "for ticker in ticker_list:\n",
        "    df_single = download_stock_data(ticker, period=CONFIG['period'], interval=CONFIG['interval'])\n",
        "    if df_single is not None:\n",
        "        try:\n",
        "            df_features = compute_enhanced_features(df_single)\n",
        "            df_labeled = create_trading_labels(df_features, label_type=\"multiclass\")\n",
        "            all_dfs.append(df_labeled)\n",
        "        except Exception as e:\n",
        "            print(f\"Feature engineering or labeling failed for {ticker}: {e}\")\n",
        "    else:\n",
        "        print(f\"Failed to download {ticker}\")\n",
        "\n",
        "5. Combine & Save\n",
        "if all_dfs:\n",
        "    df = pd.concat(all_dfs, ignore_index=True)\n",
        "    print(f\"Combined dataset created with shape: {df.shape}\")\n",
        "    df.to_csv(\"multi_stock_feature_engineered_dataset.csv\", index=False)\n",
        "    print(\"Saved locally as multi_stock_feature_engineered_dataset.csv\")\n",
        "\n",
        "    Google Drive path (optional)\n",
        "    drive_path = \"/content/drive/MyDrive/trading_data/\"\n",
        "    os.makedirs(drive_path, exist_ok=True)\n",
        "    df.to_csv(os.path.join(drive_path, \"multi_stock_feature_engineered_dataset.csv\"), index=False)\n",
        "    print(f\"Also saved to: {drive_path}multi_stock_feature_engineered_dataset.csv\")\n",
        "else:\n",
        "    print(\"No data was processed.\")\n"
      ],
      "metadata": {
        "id": "UPKFaDC2Hf4X",
        "colab": {
          "base_uri": "https://localhost:8080/"
        },
        "outputId": "f6d4ec4e-75ad-41c6-f4f3-1ae7a1f8890a"
      },
      "execution_count": 8,
      "outputs": [
        {
          "output_type": "stream",
          "name": "stdout",
          "text": [
            "Attempt 1: Downloading AAPL...\n",
            "YF.download() has changed argument auto_adjust default to True\n"
          ]
        },
        {
          "output_type": "stream",
          "name": "stderr",
          "text": [
            "\r[*********************100%***********************]  1 of 1 completed\n"
          ]
        },
        {
          "output_type": "stream",
          "name": "stdout",
          "text": [
            "Attempt 1: Downloading TSLA...\n"
          ]
        },
        {
          "output_type": "stream",
          "name": "stderr",
          "text": [
            "\r[*********************100%***********************]  1 of 1 completed\n"
          ]
        },
        {
          "output_type": "stream",
          "name": "stdout",
          "text": [
            "Attempt 1: Downloading MSFT...\n"
          ]
        },
        {
          "output_type": "stream",
          "name": "stderr",
          "text": [
            "\r[*********************100%***********************]  1 of 1 completed\n"
          ]
        },
        {
          "output_type": "stream",
          "name": "stdout",
          "text": [
            "Attempt 1: Downloading GOOGL...\n"
          ]
        },
        {
          "output_type": "stream",
          "name": "stderr",
          "text": [
            "\r[*********************100%***********************]  1 of 1 completed\n"
          ]
        },
        {
          "output_type": "stream",
          "name": "stdout",
          "text": [
            "Attempt 1: Downloading AMZN...\n"
          ]
        },
        {
          "output_type": "stream",
          "name": "stderr",
          "text": [
            "\r[*********************100%***********************]  1 of 1 completed\n"
          ]
        },
        {
          "output_type": "stream",
          "name": "stdout",
          "text": [
            "Attempt 1: Downloading NVDA...\n"
          ]
        },
        {
          "output_type": "stream",
          "name": "stderr",
          "text": [
            "\r[*********************100%***********************]  1 of 1 completed\n"
          ]
        },
        {
          "output_type": "stream",
          "name": "stdout",
          "text": [
            "Attempt 1: Downloading META...\n"
          ]
        },
        {
          "output_type": "stream",
          "name": "stderr",
          "text": [
            "\r[*********************100%***********************]  1 of 1 completed\n"
          ]
        },
        {
          "output_type": "stream",
          "name": "stdout",
          "text": [
            "Attempt 1: Downloading BRK-B...\n"
          ]
        },
        {
          "output_type": "stream",
          "name": "stderr",
          "text": [
            "\r[*********************100%***********************]  1 of 1 completed\n"
          ]
        },
        {
          "output_type": "stream",
          "name": "stdout",
          "text": [
            "Attempt 1: Downloading JPM...\n"
          ]
        },
        {
          "output_type": "stream",
          "name": "stderr",
          "text": [
            "\r[*********************100%***********************]  1 of 1 completed\n"
          ]
        },
        {
          "output_type": "stream",
          "name": "stdout",
          "text": [
            "Attempt 1: Downloading JNJ...\n"
          ]
        },
        {
          "output_type": "stream",
          "name": "stderr",
          "text": [
            "\r[*********************100%***********************]  1 of 1 completed\n"
          ]
        },
        {
          "output_type": "stream",
          "name": "stdout",
          "text": [
            "Attempt 1: Downloading XOM...\n"
          ]
        },
        {
          "output_type": "stream",
          "name": "stderr",
          "text": [
            "\r[*********************100%***********************]  1 of 1 completed\n"
          ]
        },
        {
          "output_type": "stream",
          "name": "stdout",
          "text": [
            "Attempt 1: Downloading V...\n"
          ]
        },
        {
          "output_type": "stream",
          "name": "stderr",
          "text": [
            "\r[*********************100%***********************]  1 of 1 completed\n"
          ]
        },
        {
          "output_type": "stream",
          "name": "stdout",
          "text": [
            "Attempt 1: Downloading PG...\n"
          ]
        },
        {
          "output_type": "stream",
          "name": "stderr",
          "text": [
            "\r[*********************100%***********************]  1 of 1 completed\n"
          ]
        },
        {
          "output_type": "stream",
          "name": "stdout",
          "text": [
            "Attempt 1: Downloading UNH...\n"
          ]
        },
        {
          "output_type": "stream",
          "name": "stderr",
          "text": [
            "\r[*********************100%***********************]  1 of 1 completed\n"
          ]
        },
        {
          "output_type": "stream",
          "name": "stdout",
          "text": [
            "Attempt 1: Downloading MA...\n"
          ]
        },
        {
          "output_type": "stream",
          "name": "stderr",
          "text": [
            "\r[*********************100%***********************]  1 of 1 completed\n"
          ]
        },
        {
          "output_type": "stream",
          "name": "stdout",
          "text": [
            "Attempt 1: Downloading HD...\n"
          ]
        },
        {
          "output_type": "stream",
          "name": "stderr",
          "text": [
            "\r[*********************100%***********************]  1 of 1 completed\n"
          ]
        },
        {
          "output_type": "stream",
          "name": "stdout",
          "text": [
            "Attempt 1: Downloading LLY...\n"
          ]
        },
        {
          "output_type": "stream",
          "name": "stderr",
          "text": [
            "\r[*********************100%***********************]  1 of 1 completed\n"
          ]
        },
        {
          "output_type": "stream",
          "name": "stdout",
          "text": [
            "Attempt 1: Downloading MRK...\n"
          ]
        },
        {
          "output_type": "stream",
          "name": "stderr",
          "text": [
            "\r[*********************100%***********************]  1 of 1 completed\n"
          ]
        },
        {
          "output_type": "stream",
          "name": "stdout",
          "text": [
            "Attempt 1: Downloading PEP...\n"
          ]
        },
        {
          "output_type": "stream",
          "name": "stderr",
          "text": [
            "\r[*********************100%***********************]  1 of 1 completed\n"
          ]
        },
        {
          "output_type": "stream",
          "name": "stdout",
          "text": [
            "Attempt 1: Downloading KO...\n"
          ]
        },
        {
          "output_type": "stream",
          "name": "stderr",
          "text": [
            "\r[*********************100%***********************]  1 of 1 completed\n"
          ]
        },
        {
          "output_type": "stream",
          "name": "stdout",
          "text": [
            "Attempt 1: Downloading BAC...\n"
          ]
        },
        {
          "output_type": "stream",
          "name": "stderr",
          "text": [
            "\r[*********************100%***********************]  1 of 1 completed\n"
          ]
        },
        {
          "output_type": "stream",
          "name": "stdout",
          "text": [
            "Attempt 1: Downloading ABBV...\n"
          ]
        },
        {
          "output_type": "stream",
          "name": "stderr",
          "text": [
            "\r[*********************100%***********************]  1 of 1 completed\n"
          ]
        },
        {
          "output_type": "stream",
          "name": "stdout",
          "text": [
            "Attempt 1: Downloading AVGO...\n"
          ]
        },
        {
          "output_type": "stream",
          "name": "stderr",
          "text": [
            "\r[*********************100%***********************]  1 of 1 completed\n"
          ]
        },
        {
          "output_type": "stream",
          "name": "stdout",
          "text": [
            "Attempt 1: Downloading PFE...\n"
          ]
        },
        {
          "output_type": "stream",
          "name": "stderr",
          "text": [
            "\r[*********************100%***********************]  1 of 1 completed\n"
          ]
        },
        {
          "output_type": "stream",
          "name": "stdout",
          "text": [
            "Attempt 1: Downloading COST...\n"
          ]
        },
        {
          "output_type": "stream",
          "name": "stderr",
          "text": [
            "\r[*********************100%***********************]  1 of 1 completed\n"
          ]
        },
        {
          "output_type": "stream",
          "name": "stdout",
          "text": [
            "Attempt 1: Downloading CSCO...\n"
          ]
        },
        {
          "output_type": "stream",
          "name": "stderr",
          "text": [
            "\r[*********************100%***********************]  1 of 1 completed\n"
          ]
        },
        {
          "output_type": "stream",
          "name": "stdout",
          "text": [
            "Attempt 1: Downloading TMO...\n"
          ]
        },
        {
          "output_type": "stream",
          "name": "stderr",
          "text": [
            "\r[*********************100%***********************]  1 of 1 completed\n"
          ]
        },
        {
          "output_type": "stream",
          "name": "stdout",
          "text": [
            "Attempt 1: Downloading ABT...\n"
          ]
        },
        {
          "output_type": "stream",
          "name": "stderr",
          "text": [
            "\r[*********************100%***********************]  1 of 1 completed\n"
          ]
        },
        {
          "output_type": "stream",
          "name": "stdout",
          "text": [
            "Attempt 1: Downloading ACN...\n"
          ]
        },
        {
          "output_type": "stream",
          "name": "stderr",
          "text": [
            "\r[*********************100%***********************]  1 of 1 completed\n"
          ]
        },
        {
          "output_type": "stream",
          "name": "stdout",
          "text": [
            "Attempt 1: Downloading WMT...\n"
          ]
        },
        {
          "output_type": "stream",
          "name": "stderr",
          "text": [
            "\r[*********************100%***********************]  1 of 1 completed\n"
          ]
        },
        {
          "output_type": "stream",
          "name": "stdout",
          "text": [
            "Attempt 1: Downloading MCD...\n"
          ]
        },
        {
          "output_type": "stream",
          "name": "stderr",
          "text": [
            "\r[*********************100%***********************]  1 of 1 completed\n"
          ]
        },
        {
          "output_type": "stream",
          "name": "stdout",
          "text": [
            "Attempt 1: Downloading ADBE...\n"
          ]
        },
        {
          "output_type": "stream",
          "name": "stderr",
          "text": [
            "\r[*********************100%***********************]  1 of 1 completed\n"
          ]
        },
        {
          "output_type": "stream",
          "name": "stdout",
          "text": [
            "Attempt 1: Downloading DHR...\n"
          ]
        },
        {
          "output_type": "stream",
          "name": "stderr",
          "text": [
            "\r[*********************100%***********************]  1 of 1 completed\n"
          ]
        },
        {
          "output_type": "stream",
          "name": "stdout",
          "text": [
            "Attempt 1: Downloading CRM...\n"
          ]
        },
        {
          "output_type": "stream",
          "name": "stderr",
          "text": [
            "\r[*********************100%***********************]  1 of 1 completed\n"
          ]
        },
        {
          "output_type": "stream",
          "name": "stdout",
          "text": [
            "Attempt 1: Downloading NKE...\n"
          ]
        },
        {
          "output_type": "stream",
          "name": "stderr",
          "text": [
            "\r[*********************100%***********************]  1 of 1 completed\n"
          ]
        },
        {
          "output_type": "stream",
          "name": "stdout",
          "text": [
            "Attempt 1: Downloading INTC...\n"
          ]
        },
        {
          "output_type": "stream",
          "name": "stderr",
          "text": [
            "\r[*********************100%***********************]  1 of 1 completed\n"
          ]
        },
        {
          "output_type": "stream",
          "name": "stdout",
          "text": [
            "Attempt 1: Downloading QCOM...\n"
          ]
        },
        {
          "output_type": "stream",
          "name": "stderr",
          "text": [
            "\r[*********************100%***********************]  1 of 1 completed\n"
          ]
        },
        {
          "output_type": "stream",
          "name": "stdout",
          "text": [
            "Attempt 1: Downloading NEE...\n"
          ]
        },
        {
          "output_type": "stream",
          "name": "stderr",
          "text": [
            "\r[*********************100%***********************]  1 of 1 completed\n"
          ]
        },
        {
          "output_type": "stream",
          "name": "stdout",
          "text": [
            "Attempt 1: Downloading AMD...\n"
          ]
        },
        {
          "output_type": "stream",
          "name": "stderr",
          "text": [
            "\r[*********************100%***********************]  1 of 1 completed\n"
          ]
        },
        {
          "output_type": "stream",
          "name": "stdout",
          "text": [
            "Attempt 1: Downloading TXN...\n"
          ]
        },
        {
          "output_type": "stream",
          "name": "stderr",
          "text": [
            "\r[*********************100%***********************]  1 of 1 completed\n"
          ]
        },
        {
          "output_type": "stream",
          "name": "stdout",
          "text": [
            "Attempt 1: Downloading AMGN...\n"
          ]
        },
        {
          "output_type": "stream",
          "name": "stderr",
          "text": [
            "\r[*********************100%***********************]  1 of 1 completed\n"
          ]
        },
        {
          "output_type": "stream",
          "name": "stdout",
          "text": [
            "Attempt 1: Downloading UPS...\n"
          ]
        },
        {
          "output_type": "stream",
          "name": "stderr",
          "text": [
            "\r[*********************100%***********************]  1 of 1 completed\n"
          ]
        },
        {
          "output_type": "stream",
          "name": "stdout",
          "text": [
            "Attempt 1: Downloading LIN...\n"
          ]
        },
        {
          "output_type": "stream",
          "name": "stderr",
          "text": [
            "\r[*********************100%***********************]  1 of 1 completed\n"
          ]
        },
        {
          "output_type": "stream",
          "name": "stdout",
          "text": [
            "Attempt 1: Downloading PM...\n"
          ]
        },
        {
          "output_type": "stream",
          "name": "stderr",
          "text": [
            "\r[*********************100%***********************]  1 of 1 completed\n"
          ]
        },
        {
          "output_type": "stream",
          "name": "stdout",
          "text": [
            "Attempt 1: Downloading UNP...\n"
          ]
        },
        {
          "output_type": "stream",
          "name": "stderr",
          "text": [
            "\r[*********************100%***********************]  1 of 1 completed\n"
          ]
        },
        {
          "output_type": "stream",
          "name": "stdout",
          "text": [
            "Attempt 1: Downloading BMY...\n"
          ]
        },
        {
          "output_type": "stream",
          "name": "stderr",
          "text": [
            "\r[*********************100%***********************]  1 of 1 completed\n"
          ]
        },
        {
          "output_type": "stream",
          "name": "stdout",
          "text": [
            "Attempt 1: Downloading LOW...\n"
          ]
        },
        {
          "output_type": "stream",
          "name": "stderr",
          "text": [
            "\r[*********************100%***********************]  1 of 1 completed\n"
          ]
        },
        {
          "output_type": "stream",
          "name": "stdout",
          "text": [
            "Attempt 1: Downloading RTX...\n"
          ]
        },
        {
          "output_type": "stream",
          "name": "stderr",
          "text": [
            "\r[*********************100%***********************]  1 of 1 completed\n"
          ]
        },
        {
          "output_type": "stream",
          "name": "stdout",
          "text": [
            "Attempt 1: Downloading CVX...\n"
          ]
        },
        {
          "output_type": "stream",
          "name": "stderr",
          "text": [
            "\r[*********************100%***********************]  1 of 1 completed\n"
          ]
        },
        {
          "output_type": "stream",
          "name": "stdout",
          "text": [
            "Attempt 1: Downloading IBM...\n"
          ]
        },
        {
          "output_type": "stream",
          "name": "stderr",
          "text": [
            "\r[*********************100%***********************]  1 of 1 completed\n"
          ]
        },
        {
          "output_type": "stream",
          "name": "stdout",
          "text": [
            "Attempt 1: Downloading GE...\n"
          ]
        },
        {
          "output_type": "stream",
          "name": "stderr",
          "text": [
            "\r[*********************100%***********************]  1 of 1 completed\n"
          ]
        },
        {
          "output_type": "stream",
          "name": "stdout",
          "text": [
            "Attempt 1: Downloading SBUX...\n"
          ]
        },
        {
          "output_type": "stream",
          "name": "stderr",
          "text": [
            "\r[*********************100%***********************]  1 of 1 completed\n"
          ]
        },
        {
          "output_type": "stream",
          "name": "stdout",
          "text": [
            "Attempt 1: Downloading ORCL...\n"
          ]
        },
        {
          "output_type": "stream",
          "name": "stderr",
          "text": [
            "\r[*********************100%***********************]  1 of 1 completed\n"
          ]
        },
        {
          "output_type": "stream",
          "name": "stdout",
          "text": [
            "Combined dataset created with shape: (262867, 40)\n",
            "Saved locally as multi_stock_feature_engineered_dataset.csv\n",
            "Also saved to: /content/drive/MyDrive/trading_data/multi_stock_feature_engineered_dataset.csv\n"
          ]
        }
      ]
    },
    {
      "cell_type": "code",
      "source": [
        "#Attempt to use cuML (GPU) first, then fallback to sklearn (CPU)\n",
        "import os\n",
        "import gc\n",
        "import json\n",
        "import numpy as np\n",
        "import pandas as pd\n",
        "from sklearn.model_selection import train_test_split\n",
        "from sklearn.ensemble import RandomForestClassifier\n",
        "from sklearn.metrics import accuracy_score\n",
        "\n",
        "try:\n",
        "    import cudf\n",
        "    from cuml.ensemble import RandomForestClassifier as CUML_RF\n",
        "    from cuml.metrics import accuracy_score as cuml_accuracy\n",
        "    GPU_AVAILABLE = True\n",
        "    print(\"cuML + cuDF available. Using GPU for Random Forest.\")\n",
        "except ImportError:\n",
        "    from sklearn.ensemble import RandomForestClassifier as SK_RF\n",
        "    from sklearn.metrics import accuracy_score as sklearn_accuracy\n",
        "    GPU_AVAILABLE = False\n",
        "    print(\"cuML not available. Using CPU (scikit-learn).\")\n",
        "\n",
        "#Define Features & Target\n",
        "features = ['SMA_20', 'STD_20', 'Upper_Band', 'Lower_Band', 'Stoch']\n",
        "X = df[features]\n",
        "y = df['Target']\n",
        "\n",
        "#GPU conversion if available\n",
        "if GPU_AVAILABLE:\n",
        "    try:\n",
        "        X = cudf.DataFrame.from_pandas(X)\n",
        "        y = cudf.Series(y.values)\n",
        "        print(\"Data moved to GPU.\")\n",
        "    except Exception as e:\n",
        "        print(f\"GPU conversion failed: {e}. Falling back to CPU.\")\n",
        "        from sklearn.ensemble import RandomForestClassifier as SK_RF\n",
        "        from sklearn.metrics import accuracy_score as sklearn_accuracy\n",
        "        X = df[features]\n",
        "        y = df['Target']\n",
        "        GPU_AVAILABLE = False\n",
        "\n",
        "#Train-test split\n",
        "from sklearn.model_selection import train_test_split\n",
        "X_train, X_test, y_train, y_test = train_test_split(X, y, test_size=0.3, shuffle=False)\n",
        "feature_columns = X_train.columns\n",
        "\n",
        "#Train Model\n",
        "if GPU_AVAILABLE:\n",
        "    rf_model = CUML_RF(n_estimators=200, random_state=42, n_streams=1)\n",
        "    rf_model.fit(X_train, y_train)\n",
        "    y_pred = rf_model.predict(X_test)\n",
        "    accuracy = cuml_accuracy(y_test, y_pred)\n",
        "else:\n",
        "    rf_model = SK_RF(n_estimators=200, random_state=42)\n",
        "    rf_model.fit(X_train, y_train)\n",
        "    y_pred = rf_model.predict(X_test)\n",
        "    accuracy = sklearn_accuracy(y_test, y_pred)\n",
        "\n",
        "#Output Results\n",
        "print(f\"\\nRandom Forest Accuracy: {accuracy:.4f}\")\n",
        "print(f\"Features used: {list(feature_columns)}\")\n",
        "print(f\"Test samples: {len(y_test)}\")\n",
        "\n",
        "#Save Log\n",
        "rf_log = {\n",
        "    \"model\": \"cuML_RF\" if GPU_AVAILABLE else \"SK_RF\",\n",
        "    \"features\": list(feature_columns),\n",
        "    \"accuracy\": float(accuracy),\n",
        "    \"n_estimators\": 200,\n",
        "    \"reproducible\": True,\n",
        "    \"n_streams\": 1 if GPU_AVAILABLE else None\n",
        "}\n",
        "\n",
        "with open(\"rf_model_performance_log.json\", \"w\") as f:\n",
        "    json.dump(rf_log, f, indent=2)\n",
        "print(\"Performance log saved to rf_model_performance_log.json\")\n",
        "\n"
      ],
      "metadata": {
        "id": "W3WkeNWrHlqr",
        "colab": {
          "base_uri": "https://localhost:8080/"
        },
        "outputId": "fd3b9f82-7232-4fd3-bea1-a5b0101f4ec3"
      },
      "execution_count": 9,
      "outputs": [
        {
          "output_type": "stream",
          "name": "stdout",
          "text": [
            "cuML + cuDF available. Using GPU for Random Forest.\n",
            "GPU conversion failed: cudaErrorInsufficientDriver: CUDA driver version is insufficient for CUDA runtime version. Falling back to CPU.\n",
            "\n",
            "Random Forest Accuracy: 0.7048\n",
            "Features used: ['SMA_20', 'STD_20', 'Upper_Band', 'Lower_Band', 'Stoch']\n",
            "Test samples: 78861\n",
            "Performance log saved to rf_model_performance_log.json\n"
          ]
        }
      ]
    },
    {
      "cell_type": "code",
      "source": [
        "from sklearn.model_selection import train_test_split\n",
        "from sklearn.ensemble import RandomForestClassifier\n",
        "from sklearn.metrics import accuracy_score\n",
        "import json, gc\n",
        "\n",
        "features = ['SMA_20', 'STD_20', 'Upper_Band', 'Lower_Band', 'Stoch']\n",
        "X = df[features]\n",
        "y = df['Target']\n",
        "\n",
        "X_train, X_test, y_train, y_test = train_test_split(X, y, test_size=0.3, shuffle=False)\n",
        "feature_columns = X_train.columns\n",
        "\n",
        "rf_model = RandomForestClassifier(n_estimators=200, random_state=42)\n",
        "rf_model.fit(X_train, y_train)\n",
        "y_pred = rf_model.predict(X_test)\n",
        "accuracy = accuracy_score(y_test, y_pred)\n",
        "\n",
        "rf_log = {\n",
        "    \"model\": \"RandomForestClassifier\",\n",
        "    \"features\": list(feature_columns),\n",
        "    \"accuracy\": float(accuracy),\n",
        "    \"n_estimators\": 200,\n",
        "    \"reproducible\": True\n",
        "}\n",
        "with open(\"rf_model_performance_log.json\", \"w\") as f:\n",
        "    json.dump(rf_log, f, indent=2)\n"
      ],
      "metadata": {
        "id": "HgW5QhxOzfYf"
      },
      "execution_count": 10,
      "outputs": []
    },
    {
      "cell_type": "code",
      "source": [
        "def simulate_trades_and_evaluate_multi_stock(\n",
        "    df,\n",
        "    model,\n",
        "    features,\n",
        "    signal_col='Trade_Signal_RF',\n",
        "    capital_start=100000,\n",
        "    trade_size=0.05,\n",
        "    max_capital=150000,\n",
        "    transaction_cost=0.001\n",
        "):\n",
        "    from cuml import ForestInference\n",
        "\n",
        "    results = []\n",
        "\n",
        "    for symbol in df['Symbol'].unique():\n",
        "        df_symbol = df[df['Symbol'] == symbol].copy()\n",
        "\n",
        "        try:\n",
        "            Prepare features with lookahead protection\n",
        "            X_pred = df_symbol[features].shift(1).bfill()\n",
        "\n",
        "            Use GPU or CPU prediction\n",
        "            if GPU_AVAILABLE and \"cuml\" in str(type(model)):\n",
        "                X_pred_gpu = cudf.DataFrame.from_pandas(X_pred)\n",
        "                df_symbol[signal_col] = model.predict(X_pred_gpu).to_array()\n",
        "                print(f\"GPU predictions done for {symbol}\")\n",
        "            else:\n",
        "                df_symbol[signal_col] = model.predict(X_pred)\n",
        "                print(f\"CPU predictions done for {symbol}\")\n",
        "\n",
        "            Simulation\n",
        "            capital = capital_start\n",
        "            shares = 0\n",
        "            buy_price = None\n",
        "            portfolio_values = []\n",
        "\n",
        "            for i, signal in enumerate(df_symbol[signal_col]):\n",
        "                price = df_symbol['Close'].iloc[i]\n",
        "                capital = min(capital, max_capital)\n",
        "\n",
        "                BUY\n",
        "                if signal == 1 and capital >= price and buy_price is None:\n",
        "                    amount = capital * trade_size\n",
        "                    shares = amount // price\n",
        "                    if shares > 0:\n",
        "                        cost = shares * price\n",
        "                        capital -= cost\n",
        "                        capital -= cost * transaction_cost\n",
        "                        buy_price = price\n",
        "\n",
        "                SELL\n",
        "                elif signal == 0 and shares > 0:\n",
        "                    proceeds = shares * price\n",
        "                    capital += proceeds\n",
        "                    capital -= proceeds * transaction_cost\n",
        "                    shares = 0\n",
        "                    buy_price = None\n",
        "\n",
        "                portfolio_values.append(capital + (shares * price))\n",
        "\n",
        "            df_symbol['Portfolio Value'] = portfolio_values\n",
        "            df_symbol['Daily Return'] = df_symbol['Portfolio Value'].pct_change().fillna(0)\n",
        "\n",
        "            cumulative_return = ((df_symbol['Portfolio Value'].iloc[-1] / capital_start) - 1) * 100\n",
        "            sharpe = (\n",
        "                df_symbol['Daily Return'].mean() / df_symbol['Daily Return'].std() * np.sqrt(252)\n",
        "                if df_symbol['Daily Return'].std() != 0 else 0\n",
        "            )\n",
        "            drawdown = (\n",
        "                (pd.Series(portfolio_values).cummax() - pd.Series(portfolio_values)) /\n",
        "                pd.Series(portfolio_values).cummax()\n",
        "            ).max() * 100\n",
        "\n",
        "            results.append({\n",
        "                'Symbol': symbol,\n",
        "                'Final_Portfolio': df_symbol['Portfolio Value'].iloc[-1],\n",
        "                'Cumulative_Return_%': cumulative_return,\n",
        "                'Sharpe': sharpe,\n",
        "                'Max_Drawdown_%': drawdown\n",
        "            })\n",
        "\n",
        "        except Exception as e:\n",
        "            print(f\"Error processing {symbol}: {e}\")\n",
        "            continue\n",
        "\n",
        "    Compile Summary\n",
        "    summary_df = pd.DataFrame(results)\n",
        "    summary_df.to_csv(\"rf_multi_stock_summary.csv\", index=False)\n",
        "    print(\"\\n Top 5 Results by Final Portfolio Value:\")\n",
        "    print(summary_df.sort_values(by='Final_Portfolio', ascending=False).head())\n",
        "\n",
        "    return summary_df\n",
        "rf_summary_df = simulate_trades_and_evaluate_multi_stock(\n",
        "    df=df,\n",
        "    model=rf_model,\n",
        "    features=feature_columns,\n",
        "    signal_col='Trade_Signal_RF'\n",
        ")"
      ],
      "metadata": {
        "id": "ipl0B5BiJ21h",
        "colab": {
          "base_uri": "https://localhost:8080/"
        },
        "outputId": "a9395a44-c74f-4e5d-c4b4-25030c313941"
      },
      "execution_count": 11,
      "outputs": [
        {
          "output_type": "stream",
          "name": "stdout",
          "text": [
            "CPU predictions done for AAPL\n",
            "CPU predictions done for TSLA\n",
            "CPU predictions done for MSFT\n",
            "CPU predictions done for GOOGL\n",
            "CPU predictions done for AMZN\n",
            "CPU predictions done for NVDA\n",
            "CPU predictions done for META\n",
            "CPU predictions done for BRK-B\n",
            "CPU predictions done for JPM\n",
            "CPU predictions done for JNJ\n",
            "CPU predictions done for XOM\n",
            "CPU predictions done for V\n",
            "CPU predictions done for PG\n",
            "CPU predictions done for UNH\n",
            "CPU predictions done for MA\n",
            "CPU predictions done for HD\n",
            "CPU predictions done for LLY\n",
            "CPU predictions done for MRK\n",
            "CPU predictions done for PEP\n",
            "CPU predictions done for KO\n",
            "CPU predictions done for BAC\n",
            "CPU predictions done for ABBV\n",
            "CPU predictions done for AVGO\n",
            "CPU predictions done for PFE\n",
            "CPU predictions done for COST\n",
            "CPU predictions done for CSCO\n",
            "CPU predictions done for TMO\n",
            "CPU predictions done for ABT\n",
            "CPU predictions done for ACN\n",
            "CPU predictions done for WMT\n",
            "CPU predictions done for MCD\n",
            "CPU predictions done for ADBE\n",
            "CPU predictions done for DHR\n",
            "CPU predictions done for CRM\n",
            "CPU predictions done for NKE\n",
            "CPU predictions done for INTC\n",
            "CPU predictions done for QCOM\n",
            "CPU predictions done for NEE\n",
            "CPU predictions done for AMD\n",
            "CPU predictions done for TXN\n",
            "CPU predictions done for AMGN\n",
            "CPU predictions done for UPS\n",
            "CPU predictions done for LIN\n",
            "CPU predictions done for PM\n",
            "CPU predictions done for UNP\n",
            "CPU predictions done for BMY\n",
            "CPU predictions done for LOW\n",
            "CPU predictions done for RTX\n",
            "CPU predictions done for CVX\n",
            "CPU predictions done for IBM\n",
            "CPU predictions done for GE\n",
            "CPU predictions done for SBUX\n",
            "CPU predictions done for ORCL\n",
            "\n",
            " Top 5 Results by Final Portfolio Value:\n",
            "   Symbol  Final_Portfolio  Cumulative_Return_%    Sharpe  Max_Drawdown_%\n",
            "1    TSLA    140189.572648            40.189573  2.300438        0.696605\n",
            "5    NVDA    139065.339174            39.065339  2.402932        0.694417\n",
            "35   INTC    122731.563274            22.731563  1.878071        0.525422\n",
            "22   AVGO    122564.157692            22.564158  1.868694        0.901525\n",
            "6    META    120241.608294            20.241608  1.573072        1.517832\n"
          ]
        }
      ]
    },
    {
      "cell_type": "code",
      "source": [
        "import xgboost as xgb\n",
        "from sklearn.model_selection import train_test_split\n",
        "from sklearn.metrics import accuracy_score\n",
        "\n",
        "Define your feature set and target\n",
        "features = ['SMA_20', 'STD_20', 'Upper_Band', 'Lower_Band', 'Stoch']\n",
        "X = df[features]\n",
        "y = df['Target']\n",
        "\n",
        "Remap original labels for XGBoost (must come before splitting)\n",
        "y_mapped = y.map({-1: 0, 0: 1, 1: 2})  -1 = SELL → 0, 0 = HOLD → 1, 1 = BUY → 2\n",
        "\n",
        "Train-test split\n",
        "X_train_xgb, X_test_xgb, y_train_xgb, y_test_xgb = train_test_split(X, y_mapped, test_size=0.3, shuffle=False)\n",
        "\n",
        "Train XGBoost Classifier\n",
        "xgb_model = xgb.XGBClassifier(\n",
        "    n_estimators=50,\n",
        "    learning_rate=0.1,\n",
        "    tree_method='hist',  Use 'gpu_hist' for GPU if desired\n",
        "    random_state=42\n",
        ")\n",
        "xgb_model.fit(X_train_xgb, y_train_xgb)\n",
        "\n",
        "Evaluate accuracy\n",
        "xgb_accuracy = accuracy_score(y_test_xgb, xgb_model.predict(X_test_xgb))\n",
        "print(f\"XGBoost Accuracy: {xgb_accuracy:.4f}\")\n",
        "\n",
        "Generate predictions and reverse-map to original labels for simulation\n",
        "df['Trade_Signal_XGB'] = xgb_model.predict(X[features].shift(1).bfill())  Avoid lookahead bias\n",
        "df['Trade_Signal_XGB'] = df['Trade_Signal_XGB'].map({0: -1, 1: 0, 2: 1})  Reverse-map for strategy\n",
        "\n",
        "Evaluate accuracy\n",
        "xgb_accuracy = accuracy_score(y_test_xgb, xgb_model.predict(X_test_xgb))\n",
        "print(f\"XGBoost Accuracy: {xgb_accuracy:.4f}\")\n",
        "Optional: Reverse map predictions for trade simulation\n",
        "df['Trade_Signal_XGB'] = df['Trade_Signal_XGB'].map({0: -1, 1: 0, 2: 1})\n"
      ],
      "metadata": {
        "colab": {
          "base_uri": "https://localhost:8080/"
        },
        "id": "ypeek3-43A2E",
        "outputId": "a40a6ff1-00b0-40b9-ecef-fe7067b633ed"
      },
      "execution_count": 12,
      "outputs": [
        {
          "output_type": "stream",
          "name": "stdout",
          "text": [
            "XGBoost Accuracy: 0.7632\n",
            "XGBoost Accuracy: 0.7632\n"
          ]
        }
      ]
    },
    {
      "cell_type": "code",
      "source": [
        "print(df['Trade_Signal_XGB'].value_counts())\n"
      ],
      "metadata": {
        "colab": {
          "base_uri": "https://localhost:8080/"
        },
        "id": "ZN3RpW8qgzI_",
        "outputId": "0945ad81-c611-478f-ee77-e51fe4ae3d66"
      },
      "execution_count": 13,
      "outputs": [
        {
          "output_type": "stream",
          "name": "stdout",
          "text": [
            "Trade_Signal_XGB\n",
            "-1.0    261714\n",
            " 0.0       934\n",
            "Name: count, dtype: int64\n"
          ]
        }
      ]
    },
    {
      "cell_type": "code",
      "source": [
        "def simulate_xgb_trades_multi_stock(\n",
        "    df,\n",
        "    model,\n",
        "    features,\n",
        "    signal_col='Trade_Signal_XGB',\n",
        "    capital_start=100000,\n",
        "    trade_size=0.05,\n",
        "    transaction_cost=0.001,\n",
        "    max_capital=150000\n",
        "):\n",
        "    results = []\n",
        "\n",
        "    for symbol in df['Symbol'].unique():\n",
        "        df_symbol = df[df['Symbol'] == symbol].copy()\n",
        "\n",
        "        Prepare predictions (shift to avoid lookahead bias)\n",
        "        X_pred = df_symbol[features].shift(1).bfill()\n",
        "        df_symbol[signal_col] = model.predict(X_pred)\n",
        "\n",
        "        Optional remap multiclass: 0 = hold, 1 = buy, 2 = sell → remapped to [0, 1, -1]\n",
        "        df_symbol[signal_col] = df_symbol[signal_col].map({0: 0, 1: 1, 2: -1}).fillna(0)\n",
        "\n",
        "        capital = capital_start\n",
        "        shares = 0\n",
        "        buy_price = None\n",
        "        portfolio_values = []\n",
        "\n",
        "        for i, signal in enumerate(df_symbol[signal_col]):\n",
        "            price = df_symbol['Close'].iloc[i]\n",
        "\n",
        "            if signal == 1 and capital >= price and buy_price is None:\n",
        "                amount = capital * trade_size\n",
        "                shares = amount // price\n",
        "                total_cost = shares * price * (1 + transaction_cost)\n",
        "                if capital >= total_cost and shares > 0:\n",
        "                    capital -= total_cost\n",
        "                    buy_price = price\n",
        "\n",
        "            elif signal == -1 and shares > 0:\n",
        "                capital += shares * price * (1 - transaction_cost)\n",
        "                shares = 0\n",
        "                buy_price = None\n",
        "\n",
        "            current_value = capital + (shares * price)\n",
        "            if current_value > max_capital:\n",
        "                current_value = max_capital\n",
        "\n",
        "            portfolio_values.append(current_value)\n",
        "\n",
        "        Performance Metrics\n",
        "        df_symbol['Portfolio Value'] = portfolio_values\n",
        "        df_symbol['Daily Return'] = df_symbol['Portfolio Value'].pct_change().fillna(0)\n",
        "        cumulative_return = ((df_symbol['Portfolio Value'].iloc[-1] / capital_start) - 1) * 100\n",
        "        sharpe = (\n",
        "            df_symbol['Daily Return'].mean() / df_symbol['Daily Return'].std() * np.sqrt(252)\n",
        "            if df_symbol['Daily Return'].std() > 0 else 0\n",
        "        )\n",
        "        drawdown = (\n",
        "            (df_symbol['Portfolio Value'].cummax() - df_symbol['Portfolio Value']) /\n",
        "            df_symbol['Portfolio Value'].cummax()\n",
        "        ).max() * 100\n",
        "\n",
        "        results.append({\n",
        "            'Symbol': symbol,\n",
        "            'Final_Portfolio': df_symbol['Portfolio Value'].iloc[-1],\n",
        "            'Cumulative_Return_%': cumulative_return,\n",
        "            'Sharpe': sharpe,\n",
        "            'Max_Drawdown_%': drawdown\n",
        "        })\n",
        "\n",
        "        print(f\"XGBoost evaluated for {symbol}: Final=${df_symbol['Portfolio Value'].iloc[-1]:,.2f}\")\n",
        "\n",
        "    Summary DataFrame\n",
        "    summary_df = pd.DataFrame(results)\n",
        "    summary_df.to_csv(\"xgb_multi_stock_summary.csv\", index=False)\n",
        "    print(\"\\n Top 5 Performing Stocks by Final Portfolio Value:\")\n",
        "    print(summary_df.sort_values(by=\"Final_Portfolio\", ascending=False).head())\n",
        "\n",
        "    return summary_df\n",
        "xgb_summary = simulate_xgb_trades_multi_stock(\n",
        "    df=df,\n",
        "    model=xgb_model,\n",
        "    features=features,\n",
        "    capital_start=100000,\n",
        "    trade_size=0.05,\n",
        "    transaction_cost=0.001,\n",
        "    max_capital=150000\n",
        ")\n"
      ],
      "metadata": {
        "colab": {
          "base_uri": "https://localhost:8080/"
        },
        "id": "zGB9TCX46Vif",
        "outputId": "5e458e07-a8ad-4b60-99cc-a43cb86d58a5"
      },
      "execution_count": 14,
      "outputs": [
        {
          "output_type": "stream",
          "name": "stdout",
          "text": [
            "XGBoost evaluated for AAPL: Final=$101,225.53\n",
            "XGBoost evaluated for TSLA: Final=$99,640.73\n",
            "XGBoost evaluated for MSFT: Final=$101,478.28\n",
            "XGBoost evaluated for GOOGL: Final=$101,288.98\n",
            "XGBoost evaluated for AMZN: Final=$102,565.73\n",
            "XGBoost evaluated for NVDA: Final=$109,342.88\n",
            "XGBoost evaluated for META: Final=$108,692.73\n",
            "XGBoost evaluated for BRK-B: Final=$102,669.78\n",
            "XGBoost evaluated for JPM: Final=$103,465.25\n",
            "XGBoost evaluated for JNJ: Final=$99,218.58\n",
            "XGBoost evaluated for XOM: Final=$100,067.77\n",
            "XGBoost evaluated for V: Final=$102,093.98\n",
            "XGBoost evaluated for PG: Final=$100,352.52\n",
            "XGBoost evaluated for UNH: Final=$100,626.69\n",
            "XGBoost evaluated for MA: Final=$101,457.20\n",
            "XGBoost evaluated for HD: Final=$100,447.25\n",
            "XGBoost evaluated for LLY: Final=$106,740.16\n",
            "XGBoost evaluated for MRK: Final=$99,363.08\n",
            "XGBoost evaluated for PEP: Final=$99,220.28\n",
            "XGBoost evaluated for KO: Final=$100,377.32\n",
            "XGBoost evaluated for BAC: Final=$99,722.56\n",
            "XGBoost evaluated for ABBV: Final=$100,938.94\n",
            "XGBoost evaluated for AVGO: Final=$105,890.82\n",
            "XGBoost evaluated for PFE: Final=$96,610.29\n",
            "XGBoost evaluated for COST: Final=$103,487.63\n",
            "XGBoost evaluated for CSCO: Final=$100,786.14\n",
            "XGBoost evaluated for TMO: Final=$98,886.09\n",
            "XGBoost evaluated for ABT: Final=$100,225.37\n",
            "XGBoost evaluated for ACN: Final=$99,519.18\n",
            "XGBoost evaluated for WMT: Final=$104,760.59\n",
            "XGBoost evaluated for MCD: Final=$101,015.63\n",
            "XGBoost evaluated for ADBE: Final=$98,925.88\n",
            "XGBoost evaluated for DHR: Final=$98,670.53\n",
            "XGBoost evaluated for CRM: Final=$102,337.00\n",
            "XGBoost evaluated for NKE: Final=$97,164.88\n",
            "XGBoost evaluated for INTC: Final=$93,123.15\n",
            "XGBoost evaluated for QCOM: Final=$99,562.84\n",
            "XGBoost evaluated for NEE: Final=$98,977.59\n",
            "XGBoost evaluated for AMD: Final=$98,856.97\n",
            "XGBoost evaluated for TXN: Final=$99,157.91\n",
            "XGBoost evaluated for AMGN: Final=$100,735.92\n",
            "XGBoost evaluated for UPS: Final=$96,941.18\n",
            "XGBoost evaluated for LIN: Final=$101,068.10\n",
            "XGBoost evaluated for PM: Final=$101,925.92\n",
            "XGBoost evaluated for UNP: Final=$99,607.94\n",
            "XGBoost evaluated for BMY: Final=$98,516.62\n",
            "XGBoost evaluated for LOW: Final=$100,332.42\n",
            "XGBoost evaluated for RTX: Final=$101,190.49\n",
            "XGBoost evaluated for CVX: Final=$98,890.67\n",
            "XGBoost evaluated for IBM: Final=$103,100.66\n",
            "XGBoost evaluated for GE: Final=$112,314.51\n",
            "XGBoost evaluated for SBUX: Final=$100,256.49\n",
            "XGBoost evaluated for ORCL: Final=$103,354.71\n",
            "\n",
            " Top 5 Performing Stocks by Final Portfolio Value:\n",
            "   Symbol  Final_Portfolio  Cumulative_Return_%    Sharpe  Max_Drawdown_%\n",
            "50     GE    112314.510905            12.314511  0.447637        4.266425\n",
            "5    NVDA    109342.877767             9.342878  0.401071        2.533986\n",
            "6    META    108692.734292             8.692734  0.355832        4.365409\n",
            "16    LLY    106740.163541             6.740164  0.448062        1.454304\n",
            "22   AVGO    105890.820697             5.890821  0.353762        2.329706\n"
          ]
        }
      ]
    },
    {
      "cell_type": "code",
      "source": [
        "import xgboost as xgb\n",
        "from sklearn.metrics import accuracy_score\n",
        "from sklearn.ensemble import GradientBoostingClassifier\n",
        "import matplotlib.pyplot as plt\n",
        "import pandas as pd\n",
        "import numpy as np\n",
        "\n",
        "Ensure feature columns are present\n",
        "feature_columns = ['SMA_20', 'STD_20', 'Upper_Band', 'Lower_Band', 'Stoch']\n",
        "missing = [f for f in feature_columns if f not in df.columns]\n",
        "if missing:\n",
        "    raise ValueError(f\"Missing features: {missing}\")\n",
        "\n",
        "Fix Target Labels to Match XGBoost Expectation\n",
        "df['Target_XGB'] = df['Target'].map({-1: 2, 0: 0, 1: 1})  Convert to 0=Hold, 1=Buy, 2=Sell for multi:softmax\n",
        "\n",
        "Prepare training data\n",
        "X = df[feature_columns]\n",
        "y = df['Target_XGB']\n",
        "\n",
        "Train-test split\n",
        "from sklearn.model_selection import train_test_split\n",
        "X_train, X_test, y_train, y_test = train_test_split(X, y, test_size=0.3, shuffle=False)\n",
        "\n",
        "Attempt GPU training with XGBoost\n",
        "try:\n",
        "    gb_model = xgb.XGBClassifier(\n",
        "    n_estimators=200,\n",
        "    max_depth=5,\n",
        "    learning_rate=0.1,\n",
        "    objective='multi:softmax',\n",
        "    num_class=3,\n",
        "    eval_metric='mlogloss',\n",
        "    use_label_encoder=False,\n",
        "    device='cuda'  Use this instead of gpu_hist and gpu_predictor\n",
        "    )\n",
        "    gb_model.fit(X_train, y_train)\n",
        "    print(\"XGBoost Gradient Boosting (GPU) model trained.\")\n",
        "except Exception as e:\n",
        "    print(f\" GPU training failed. Switching to CPU. Reason: {e}\")\n",
        "    gb_model = GradientBoostingClassifier(n_estimators=200, random_state=42)\n",
        "    gb_model.fit(X_train, y_train)\n",
        "\n",
        "Evaluate Accuracy\n",
        "y_pred = gb_model.predict(X_test)\n",
        "accuracy = accuracy_score(y_test, y_pred)\n",
        "print(f\"Gradient Boosting Accuracy: {accuracy:.4f}\")\n",
        "\n",
        "Portfolio Simulation for All Stocks\n",
        "capital_start = 100000\n",
        "gb_results = []\n",
        "\n",
        "for symbol in df['Symbol'].unique():\n",
        "    df_symbol = df[df['Symbol'] == symbol].copy()\n",
        "    try:\n",
        "        X_pred = df_symbol[feature_columns].shift(1).bfill()\n",
        "        df_symbol['Trade_Signal_GB'] = gb_model.predict(X_pred)\n",
        "    except Exception as e:\n",
        "        print(f\"Skipping {symbol}: prediction failed - {e}\")\n",
        "        continue\n",
        "\n",
        "    Re-map signal: 0=Hold, 1=Buy, 2=Sell → -1/0/1\n",
        "    df_symbol['Trade_Signal_GB'] = df_symbol['Trade_Signal_GB'].map({0: 0, 1: 1, 2: -1}).fillna(0)\n",
        "\n",
        "    capital = capital_start\n",
        "    shares = 0\n",
        "    buy_price = None\n",
        "    trade_size = 0.05\n",
        "    portfolio_values = []\n",
        "\n",
        "    for i, signal in enumerate(df_symbol['Trade_Signal_GB']):\n",
        "        price = df_symbol['Close'].iloc[i]\n",
        "        if signal == 1 and capital >= price and buy_price is None:\n",
        "            amount = capital * trade_size\n",
        "            shares = amount // price\n",
        "            if capital - (shares * price) >= 0:\n",
        "                buy_price = price\n",
        "                capital -= shares * price\n",
        "        elif signal == -1 and shares > 0:\n",
        "            capital += shares * price\n",
        "            shares = 0\n",
        "            buy_price = None\n",
        "        portfolio_value = capital + (shares * price)\n",
        "        portfolio_values.append(portfolio_value)\n",
        "\n",
        "    result_df = pd.DataFrame({\n",
        "        'Datetime': df_symbol['Datetime'].values,\n",
        "        'Portfolio Value': portfolio_values\n",
        "    })\n",
        "\n",
        "    result_df['Daily Return'] = result_df['Portfolio Value'].pct_change().fillna(0)\n",
        "    cumulative_return = ((result_df['Portfolio Value'].iloc[-1] / capital_start) - 1) * 100\n",
        "    sharpe = (\n",
        "        result_df['Daily Return'].mean() / result_df['Daily Return'].std() * np.sqrt(252)\n",
        "        if result_df['Daily Return'].std() != 0 else 0\n",
        "    )\n",
        "    drawdown = (\n",
        "        (pd.Series(portfolio_values).cummax() - pd.Series(portfolio_values)) /\n",
        "        pd.Series(portfolio_values).cummax()\n",
        "    )\n",
        "    max_drawdown = drawdown.max() * 100\n",
        "\n",
        "    gb_results.append({\n",
        "        'Symbol': symbol,\n",
        "        'Final_Portfolio': result_df['Portfolio Value'].iloc[-1],\n",
        "        'Cumulative_Return_%': cumulative_return,\n",
        "        'Sharpe': sharpe,\n",
        "        'Max_Drawdown_%': max_drawdown\n",
        "    })\n",
        "\n",
        "Save Results\n",
        "gb_summary = pd.DataFrame(gb_results)\n",
        "gb_summary.to_csv(\"gradient_boosting_strategy_evaluation_summary.csv\", index=False)\n",
        "\n",
        "Display Top Results\n",
        "print(\"\\n Gradient Boosting Multi-Stock Evaluation Complete:\")\n",
        "print(gb_summary.sort_values(by=\"Final_Portfolio\", ascending=False).head())\n",
        "\n",
        "Plot Top Performer\n",
        "top_symbol = gb_summary.sort_values(by=\"Final_Portfolio\", ascending=False).iloc[0]['Symbol']\n",
        "df_top = df[df['Symbol'] == top_symbol].copy()\n",
        "X_pred_top = df_top[feature_columns].shift(1).bfill()\n",
        "df_top['Trade_Signal_GB'] = pd.Series(gb_model.predict(X_pred_top), index=df_top.index).map({0: 0, 1: 1, 2: -1}).fillna(0)\n",
        "\n",
        "Rebuild portfolio values\n",
        "capital = capital_start\n",
        "shares = 0\n",
        "buy_price = None\n",
        "portfolio_values = []\n",
        "\n",
        "for i, signal in enumerate(df_top['Trade_Signal_GB']):\n",
        "    price = df_top['Close'].iloc[i]\n",
        "    if signal == 1 and capital >= price and buy_price is None:\n",
        "        amount = capital * trade_size\n",
        "        shares = amount // price\n",
        "        if capital - (shares * price) >= 0:\n",
        "            buy_price = price\n",
        "            capital -= shares * price\n",
        "    elif signal == -1 and shares > 0:\n",
        "        capital += shares * price\n",
        "        shares = 0\n",
        "        buy_price = None\n",
        "    portfolio_value = capital + (shares * price)\n",
        "    portfolio_values.append(portfolio_value)\n",
        "\n",
        "Plot\n",
        "plt.figure(figsize=(12, 4))\n",
        "plt.plot(df_top['Datetime'].values, portfolio_values, label=f'{top_symbol} Portfolio Value')\n",
        "plt.axhline(150000, color='red', linestyle='--', label='Capital Cap')\n",
        "plt.title(f'XGBoost Strategy Portfolio Value - {top_symbol}')\n",
        "plt.xlabel(\"Date\")\n",
        "plt.ylabel(\"Portfolio Value\")\n",
        "plt.legend()\n",
        "plt.grid()\n",
        "plt.tight_layout()\n",
        "plt.show()\n"
      ],
      "metadata": {
        "colab": {
          "base_uri": "https://localhost:8080/",
          "height": 692
        },
        "id": "ZRiYkegr63xD",
        "outputId": "49545c5f-d009-425e-a0c2-679b5fec21eb"
      },
      "execution_count": 17,
      "outputs": [
        {
          "output_type": "stream",
          "name": "stderr",
          "text": [
            "/usr/local/lib/python3.11/dist-packages/xgboost/core.py:158: UserWarning: [02:17:32] WARNING: /workspace/src/context.cc:43: No visible GPU is found, setting device to CPU.\n",
            "  warnings.warn(smsg, UserWarning)\n",
            "/usr/local/lib/python3.11/dist-packages/xgboost/core.py:158: UserWarning: [02:17:32] WARNING: /workspace/src/context.cc:196: XGBoost is not compiled with CUDA support.\n",
            "  warnings.warn(smsg, UserWarning)\n",
            "/usr/local/lib/python3.11/dist-packages/xgboost/core.py:158: UserWarning: [02:17:32] WARNING: /workspace/src/learner.cc:740: \n",
            "Parameters: { \"use_label_encoder\" } are not used.\n",
            "\n",
            "  warnings.warn(smsg, UserWarning)\n"
          ]
        },
        {
          "output_type": "stream",
          "name": "stdout",
          "text": [
            "XGBoost Gradient Boosting (GPU) model trained.\n",
            "Gradient Boosting Accuracy: 0.7629\n",
            "\n",
            " Gradient Boosting Multi-Stock Evaluation Complete:\n",
            "   Symbol  Final_Portfolio  Cumulative_Return_%    Sharpe  Max_Drawdown_%\n",
            "5    NVDA    116167.023245            16.167023  0.447068        4.636111\n",
            "52   ORCL    109535.500000             9.535500  0.509110        2.024922\n",
            "6    META    108902.920868             8.902921  0.613622        1.319150\n",
            "35   INTC    106322.685110             6.322685  0.391969        2.137798\n",
            "22   AVGO    104718.968430             4.718968  0.286731        2.234115\n"
          ]
        },
        {
          "output_type": "display_data",
          "data": {
            "text/plain": [
              "<Figure size 1200x400 with 1 Axes>"
            ],
            "image/png": "[encoded data removed]"
          },
          "metadata": {}
        }
      ]
    }
  ]
}
