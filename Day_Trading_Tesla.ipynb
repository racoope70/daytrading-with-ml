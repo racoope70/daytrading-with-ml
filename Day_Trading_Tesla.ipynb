{
  "nbformat": 4,
  "nbformat_minor": 0,
  "metadata": {
    "colab": {
      "provenance": [],
      "authorship_tag": "ABX9TyP9FO3Adlo8fwMXiOt9qUv0",
      "include_colab_link": true
    },
    "kernelspec": {
      "name": "python3",
      "display_name": "Python 3"
    },
    "language_info": {
      "name": "python"
    }
  },
  "cells": [
    {
      "cell_type": "markdown",
      "metadata": {
        "id": "view-in-github",
        "colab_type": "text"
      },
      "source": [
        "<a href=\"https://colab.research.google.com/github/racoope70/daytrading-with-ml/blob/main/Day_Trading_Tesla.ipynb\" target=\"_parent\"><img src=\"https://colab.research.google.com/assets/colab-badge.svg\" alt=\"Open In Colab\"/></a>"
      ]
    },
    {
      "cell_type": "code",
      "execution_count": 242,
      "metadata": {
        "colab": {
          "base_uri": "https://localhost:8080/"
        },
        "id": "ux5CYwhqyiW6",
        "outputId": "a065c21a-cf17-412c-8e4c-342b02f3a6b8"
      },
      "outputs": [
        {
          "output_type": "stream",
          "name": "stdout",
          "text": [
            "Requirement already satisfied: yfinance in /usr/local/lib/python3.11/dist-packages (0.2.52)\n",
            "Requirement already satisfied: pandas>=1.3.0 in /usr/local/lib/python3.11/dist-packages (from yfinance) (2.2.2)\n",
            "Requirement already satisfied: numpy>=1.16.5 in /usr/local/lib/python3.11/dist-packages (from yfinance) (1.26.4)\n",
            "Requirement already satisfied: requests>=2.31 in /usr/local/lib/python3.11/dist-packages (from yfinance) (2.32.3)\n",
            "Requirement already satisfied: multitasking>=0.0.7 in /usr/local/lib/python3.11/dist-packages (from yfinance) (0.0.11)\n",
            "Requirement already satisfied: lxml>=4.9.1 in /usr/local/lib/python3.11/dist-packages (from yfinance) (5.3.1)\n",
            "Requirement already satisfied: platformdirs>=2.0.0 in /usr/local/lib/python3.11/dist-packages (from yfinance) (4.3.6)\n",
            "Requirement already satisfied: pytz>=2022.5 in /usr/local/lib/python3.11/dist-packages (from yfinance) (2025.1)\n",
            "Requirement already satisfied: frozendict>=2.3.4 in /usr/local/lib/python3.11/dist-packages (from yfinance) (2.4.6)\n",
            "Requirement already satisfied: peewee>=3.16.2 in /usr/local/lib/python3.11/dist-packages (from yfinance) (3.17.9)\n",
            "Requirement already satisfied: beautifulsoup4>=4.11.1 in /usr/local/lib/python3.11/dist-packages (from yfinance) (4.13.3)\n",
            "Requirement already satisfied: html5lib>=1.1 in /usr/local/lib/python3.11/dist-packages (from yfinance) (1.1)\n",
            "Requirement already satisfied: soupsieve>1.2 in /usr/local/lib/python3.11/dist-packages (from beautifulsoup4>=4.11.1->yfinance) (2.6)\n",
            "Requirement already satisfied: typing-extensions>=4.0.0 in /usr/local/lib/python3.11/dist-packages (from beautifulsoup4>=4.11.1->yfinance) (4.12.2)\n",
            "Requirement already satisfied: six>=1.9 in /usr/local/lib/python3.11/dist-packages (from html5lib>=1.1->yfinance) (1.17.0)\n",
            "Requirement already satisfied: webencodings in /usr/local/lib/python3.11/dist-packages (from html5lib>=1.1->yfinance) (0.5.1)\n",
            "Requirement already satisfied: python-dateutil>=2.8.2 in /usr/local/lib/python3.11/dist-packages (from pandas>=1.3.0->yfinance) (2.8.2)\n",
            "Requirement already satisfied: tzdata>=2022.7 in /usr/local/lib/python3.11/dist-packages (from pandas>=1.3.0->yfinance) (2025.1)\n",
            "Requirement already satisfied: charset-normalizer<4,>=2 in /usr/local/lib/python3.11/dist-packages (from requests>=2.31->yfinance) (3.4.1)\n",
            "Requirement already satisfied: idna<4,>=2.5 in /usr/local/lib/python3.11/dist-packages (from requests>=2.31->yfinance) (3.10)\n",
            "Requirement already satisfied: urllib3<3,>=1.21.1 in /usr/local/lib/python3.11/dist-packages (from requests>=2.31->yfinance) (2.3.0)\n",
            "Requirement already satisfied: certifi>=2017.4.17 in /usr/local/lib/python3.11/dist-packages (from requests>=2.31->yfinance) (2025.1.31)\n"
          ]
        }
      ],
      "source": [
        "!pip  install yfinance\n",
        "import pandas as pd\n",
        "import numpy as np\n",
        "import matplotlib.pyplot as plt\n",
        "import yfinance as yf\n"
      ]
    },
    {
      "cell_type": "code",
      "source": [
        "# ✅ Download most recent 1-hour stock data (Max available: last 720 days)\n",
        "df = yf.download(\"TSLA\", period=\"720d\", interval=\"1h\")\n",
        "\n",
        "# ✅ Print actual column names to check the structure\n",
        "print(\"Original column names:\", df.columns)"
      ],
      "metadata": {
        "colab": {
          "base_uri": "https://localhost:8080/"
        },
        "id": "BtvPsQFwymMP",
        "outputId": "15f7b02a-e889-4393-c975-4c77f6ffef38"
      },
      "execution_count": 243,
      "outputs": [
        {
          "output_type": "stream",
          "name": "stderr",
          "text": [
            "\r[*********************100%***********************]  1 of 1 completed"
          ]
        },
        {
          "output_type": "stream",
          "name": "stdout",
          "text": [
            "Original column names: MultiIndex([( 'Close', 'TSLA'),\n",
            "            (  'High', 'TSLA'),\n",
            "            (   'Low', 'TSLA'),\n",
            "            (  'Open', 'TSLA'),\n",
            "            ('Volume', 'TSLA')],\n",
            "           names=['Price', 'Ticker'])\n"
          ]
        },
        {
          "output_type": "stream",
          "name": "stderr",
          "text": [
            "\n"
          ]
        }
      ]
    },
    {
      "cell_type": "code",
      "source": [
        "# ✅ Fix Multi-Index Columns: Extract only the first level (Price Type)\n",
        "df.columns = df.columns.get_level_values(0)  # Extract 'Close', 'High', 'Low', 'Open', 'Volume'\n",
        "\n",
        "# ✅ Reset index to make \"Datetime\" a column\n",
        "df = df.reset_index()\n"
      ],
      "metadata": {
        "id": "LuETyJaR3jCZ"
      },
      "execution_count": 244,
      "outputs": []
    },
    {
      "cell_type": "code",
      "source": [
        "# ✅ Keep only relevant columns\n",
        "df = df[['Datetime', 'Open', 'High', 'Low', 'Close', 'Volume']]\n",
        "\n",
        "# ✅ Verify DataFrame\n",
        "print(df.head())"
      ],
      "metadata": {
        "colab": {
          "base_uri": "https://localhost:8080/"
        },
        "id": "Yoh-kMiUTGsE",
        "outputId": "3b245073-cae8-46b1-f7cb-c8a6ca806f94"
      },
      "execution_count": 245,
      "outputs": [
        {
          "output_type": "stream",
          "name": "stdout",
          "text": [
            "Price                  Datetime        Open        High         Low  \\\n",
            "0     2022-04-04 13:30:00+00:00  363.000000  369.500000  357.510010   \n",
            "1     2022-04-04 14:30:00+00:00  369.369995  378.369995  368.336700   \n",
            "2     2022-04-04 15:30:00+00:00  377.830353  378.911652  375.766693   \n",
            "3     2022-04-04 16:30:00+00:00  377.533356  381.463348  376.709991   \n",
            "4     2022-04-04 17:30:00+00:00  381.352783  382.680023  379.833344   \n",
            "\n",
            "Price       Close   Volume  \n",
            "0      369.333344  7974058  \n",
            "1      377.793335  5958949  \n",
            "2      377.484619  2522470  \n",
            "3      381.397430  2016766  \n",
            "4      382.065826  2885778  \n"
          ]
        }
      ]
    },
    {
      "cell_type": "code",
      "source": [
        "print(df.dtypes)  # Ensure Datetime is correctly formatted\n",
        "df['Datetime'] = pd.to_datetime(df['Datetime'])  # Convert if necessary"
      ],
      "metadata": {
        "colab": {
          "base_uri": "https://localhost:8080/"
        },
        "id": "Eh4zfUeGTNWz",
        "outputId": "8f8955a8-a7dd-423e-a5c4-a52c2cc6ea21"
      },
      "execution_count": 246,
      "outputs": [
        {
          "output_type": "stream",
          "name": "stdout",
          "text": [
            "Price\n",
            "Datetime    datetime64[ns, UTC]\n",
            "Open                    float64\n",
            "High                    float64\n",
            "Low                     float64\n",
            "Close                   float64\n",
            "Volume                    int64\n",
            "dtype: object\n"
          ]
        }
      ]
    },
    {
      "cell_type": "code",
      "source": [
        "# ✅ Calculate ATR (Average True Range) for Dynamic Stop-Loss\n",
        "df['High-Low'] = df['High'] - df['Low']\n",
        "df['High-Close'] = abs(df['High'] - df['Close'].shift(1))\n",
        "df['Low-Close'] = abs(df['Low'] - df['Close'].shift(1))\n",
        "df['True_Range'] = df[['High-Low', 'High-Close', 'Low-Close']].max(axis=1)\n",
        "df['ATR'] = df['True_Range'].rolling(window=14).mean()\n",
        "df.drop(columns=['High-Low', 'High-Close', 'Low-Close', 'True_Range'], inplace=True)  # Clean up\n",
        "\n",
        "# ✅ Set Dynamic Stop-Loss and Take-Profit\n",
        "df['Stop_Loss'] = df['Close'] - (1.2 * df['ATR'])  # Tighter SL\n",
        "df['Take_Profit'] = df['Close'] + (2.0 * df['ATR'])  # Wider TP\n",
        "\n",
        "\n",
        "# ==========================\n",
        "# 📌 Exponential Moving Averages (EMA)\n",
        "# ==========================\n",
        "df['EMA_10'] = df['Close'].ewm(span=10, adjust=False).mean()\n",
        "df['EMA_50'] = df['Close'].ewm(span=50, adjust=False).mean()\n",
        "\n",
        "# ==========================\n",
        "# 📌 MACD Calculation (Momentum Indicator)\n",
        "# ==========================\n",
        "df['MACD_Line'] = df['Close'].ewm(span=12, adjust=False).mean() - df['Close'].ewm(span=26, adjust=False).mean()\n",
        "df['MACD_Signal'] = df['MACD_Line'].ewm(span=9, adjust=False).mean()"
      ],
      "metadata": {
        "id": "zHL88Zpcy_qt"
      },
      "execution_count": 247,
      "outputs": []
    },
    {
      "cell_type": "code",
      "source": [
        "# ==========================\n",
        "# 📌 RSI Calculation (Overbought/Oversold)\n",
        "# ==========================\n",
        "delta = df['Close'].diff()\n",
        "gain = delta.where(delta > 0, 0).rolling(window=14).mean()\n",
        "loss = -delta.where(delta < 0, 0).rolling(window=14).mean()\n",
        "rs = gain / loss\n",
        "df['RSI'] = 100 - (100 / (1 + rs))"
      ],
      "metadata": {
        "id": "TBN9MVQabAom"
      },
      "execution_count": 248,
      "outputs": []
    },
    {
      "cell_type": "code",
      "source": [
        "# ==========================\n",
        "# 📌 ADX Calculation (Trend Strength)\n",
        "# ==========================\n",
        "df['+DM'] = np.where((df['High'].diff() > df['Low'].diff()) & (df['High'].diff() > 0), df['High'].diff(), 0)\n",
        "df['-DM'] = np.where((df['Low'].diff() > df['High'].diff()) & (df['Low'].diff() > 0), df['Low'].diff(), 0)\n",
        "df['+DI'] = 100 * df['+DM'].rolling(window=14).mean() / df['ATR']\n",
        "df['-DI'] = 100 * df['-DM'].rolling(window=14).mean() / df['ATR']\n",
        "df['ADX'] = abs(df['+DI'] - df['-DI']).rolling(window=14).mean()\n",
        "df.drop(columns=['+DM', '-DM', '+DI', '-DI'], inplace=True)  # Clean up"
      ],
      "metadata": {
        "id": "OokUx-R0TPhY"
      },
      "execution_count": 249,
      "outputs": []
    },
    {
      "cell_type": "code",
      "source": [
        "# ==========================\n",
        "# 📌 Volume-Based Confirmation\n",
        "# ==========================\n",
        "df['Volume_Avg'] = df['Volume'].rolling(20).mean()\n",
        "\n",
        "# ==========================\n",
        "# 📌 Buy Signal Conditions\n",
        "# ==========================\n",
        "df['Buy_Signal'] = (\n",
        "    (df['RSI'] < 60) &  # Allow more trades\n",
        "    (df['EMA_10'] > df['EMA_50']) &\n",
        "    ((df['MACD_Line'] > df['MACD_Signal']) | (df['MACD_Line'].diff() > 0)) &\n",
        "    (df['Volume'] > (0.4 * df['Volume_Avg'])) &  # Reduce volume filter\n",
        "    (df['ADX'] > 18)  # Looser ADX requirement\n",
        ")\n",
        "# 📌 Final Tighter Trailing Stop\n",
        "df['Trailing_Stop'] = np.minimum(\n",
        "    df['Close'] * 0.985,          # 2% below price\n",
        "    df['Close'] - (df['ATR'] * 0.3)  # Tighter ATR stop\n",
        ")\n",
        "\n",
        "\n",
        "print(df[['Datetime', 'Close', 'ATR', 'Trailing_Stop']].describe())\n",
        "print(df[df['Close'] < df['Trailing_Stop']].head(10))\n",
        "\n",
        "\n",
        "# ==========================\n",
        "# 📌 Sell Signal Conditions\n",
        "# ==========================\n",
        "df['Sell_Signal'] = (\n",
        "    ((df['EMA_10'] < df['EMA_50']) & (df['RSI'] > 60)) |\n",
        "    ((df['MACD_Line'] < df['MACD_Signal']) & (df['RSI'] > 65)) |\n",
        "    (df['Close'] < df['Trailing_Stop']) |\n",
        "    ((df['Volume'] > 0.5 * df['Volume_Avg']) & (df['ADX'] > 20))  # Volume & Trend Filter\n",
        ")\n",
        "\n",
        "df['Exit_Signal'] = (\n",
        "    (df['MACD_Line'].diff() < 0) &  # Ensure MACD is **declining**, not just below signal\n",
        "    (df['RSI'] > 70) &  # Reduce frequent exits\n",
        "    (df['Close'] < df['Trailing_Stop'])  # Confirm strong drop\n",
        ")\n",
        "\n",
        "\n",
        "# ✅ Ensure MACD Histogram is Calculated\n",
        "df['MACD_Hist'] = df['MACD_Line'] - df['MACD_Signal']\n",
        "\n",
        "\n",
        "# ✅ Implement Trailing Stop for Smarter Exits\n",
        "df['Sell_Signal_Debug'] = (\n",
        "    ((df['MACD_Hist'] < 0.5) | (df['MACD_Line'] < df['MACD_Signal'])) &  # Weaker MACD threshold\n",
        "    (df['RSI'] < 55) &  # RSI drop below 55 signals trend weakness\n",
        "    (df['ADX'] > 15) &  # Moderate trend strength allowed\n",
        "    ((df['Close'] < df['Trailing_Stop']) | (df['EMA_10'] < df['EMA_50'])) &  # Trailing stop or EMA crossover\n",
        "    (df['Volume'] > 0.5 * df['Volume_Avg'])  # Volume confirmation\n",
        ")\n",
        "\n",
        "\n",
        "# ✅ Debugging: Check why no sell signals (for Debug Version)\n",
        "sell_signals = df[df['Sell_Signal_Debug']]\n",
        "print(f\"🔍 Number of Debug Sell Signals: {sell_signals.shape[0]}\")\n",
        "print(sell_signals[['Datetime', 'Close', 'RSI', 'MACD_Hist', 'Trailing_Stop']].head(10))\n",
        "\n",
        "# ✅ Check Individual Conditions for Debug\n",
        "\n",
        "print(\"\\n🔹 Condition 1: MACD Histogram\")\n",
        "print(f\"MACD Histogram < 0.5 Count: {sum(df['MACD_Hist'] < 0.5)}\")\n",
        "\n",
        "print(\"\\n🔹 Condition 2: RSI >= 50\")\n",
        "print(f\"RSI >= 50 Count: {sum(df['RSI'] >= 50)}\")\n",
        "\n",
        "print(\"\\n🔹 Condition 3: Close < Trailing_Stop\")\n",
        "crossed_stop = df['Close'] < df['Trailing_Stop']\n",
        "print(f\"Close < Trailing_Stop Count: {sum(crossed_stop)}\")\n",
        "\n",
        "# ================================================\n",
        "# ✅ Compare Original vs. Debug Sell Signals\n",
        "# ================================================\n",
        "print(f\"\\n⚠️ Original Sell Signals in Data: {df['Sell_Signal'].sum()}\")\n",
        "print(f\"⚠️ Debug Sell Signals in Data: {df['Sell_Signal_Debug'].sum()}\")\n",
        "\n",
        "# ================================================\n",
        "# ✅ Final Debugging Outputs: Sell Signal Statistics\n",
        "# ================================================\n",
        "\n",
        "print(\"Sell Signal Debug Statistics:\")\n",
        "print(df[['Datetime', 'Close', 'Trailing_Stop', 'Sell_Signal_Debug']].describe())\n",
        "\n",
        "print(\"\\n🔍 Sell Signal Debug Instances:\")\n",
        "print(df[df['Sell_Signal_Debug']].head(10))\n",
        "\n",
        "print(\"\\n🚀 Total Buy Signals:\", df['Buy_Signal'].sum())\n",
        "print(\"🚀 Total Sell Signals:\", df['Sell_Signal'].sum())\n",
        "print(\"🚀 Total Debug Sell Signals:\", df['Sell_Signal_Debug'].sum())\n",
        "\n"
      ],
      "metadata": {
        "id": "S8WdPRdsAOaT",
        "colab": {
          "base_uri": "https://localhost:8080/"
        },
        "outputId": "cc481c38-c257-4ffd-9374-5df3bdf14968"
      },
      "execution_count": 250,
      "outputs": [
        {
          "output_type": "stream",
          "name": "stdout",
          "text": [
            "Price        Close          ATR  Trailing_Stop\n",
            "count  5016.000000  5003.000000    5003.000000\n",
            "mean    236.715986     3.867035     232.813983\n",
            "std      65.611994     1.690430      64.341939\n",
            "min     105.669998     1.368093     104.084948\n",
            "25%     187.762493     2.700037     184.823633\n",
            "50%     228.284050     3.420156     224.708055\n",
            "75%     262.338760     4.506187     258.039474\n",
            "max     480.244995    14.954062     473.041320\n",
            "Empty DataFrame\n",
            "Columns: [Datetime, Open, High, Low, Close, Volume, ATR, Stop_Loss, Take_Profit, EMA_10, EMA_50, MACD_Line, MACD_Signal, RSI, ADX, Volume_Avg, Buy_Signal, Trailing_Stop]\n",
            "Index: []\n",
            "🔍 Number of Debug Sell Signals: 163\n",
            "Price                  Datetime       Close        RSI  MACD_Hist  \\\n",
            "98    2022-04-25 13:30:00+00:00  333.886658  23.649332  -0.688784   \n",
            "99    2022-04-25 14:30:00+00:00  332.690002  27.421493  -0.811517   \n",
            "100   2022-04-25 15:30:00+00:00  332.062286  30.955009  -0.889125   \n",
            "103   2022-04-25 18:30:00+00:00  330.188324  36.876838  -0.770986   \n",
            "104   2022-04-25 19:30:00+00:00  332.763336  43.496115  -0.647033   \n",
            "105   2022-04-26 13:30:00+00:00  307.309998  22.144915  -2.154272   \n",
            "413   2022-06-29 13:30:00+00:00  225.726547  11.317529  -2.181935   \n",
            "414   2022-06-29 14:30:00+00:00  223.808395   4.799447  -2.432881   \n",
            "415   2022-06-29 15:30:00+00:00  222.679993   5.208975  -2.533308   \n",
            "976   2022-10-21 16:30:00+00:00  211.510101  38.799415  -0.273878   \n",
            "\n",
            "Price  Trailing_Stop  \n",
            "98        328.878358  \n",
            "99        327.699652  \n",
            "100       327.081352  \n",
            "103       325.235499  \n",
            "104       327.771886  \n",
            "105       302.700348  \n",
            "413       222.340649  \n",
            "414       220.451269  \n",
            "415       219.339793  \n",
            "976       208.337450  \n",
            "\n",
            "🔹 Condition 1: MACD Histogram\n",
            "MACD Histogram < 0.5 Count: 3535\n",
            "\n",
            "🔹 Condition 2: RSI >= 50\n",
            "RSI >= 50 Count: 2382\n",
            "\n",
            "🔹 Condition 3: Close < Trailing_Stop\n",
            "Close < Trailing_Stop Count: 0\n",
            "\n",
            "⚠️ Original Sell Signals in Data: 605\n",
            "⚠️ Debug Sell Signals in Data: 163\n",
            "Sell Signal Debug Statistics:\n",
            "Price        Close  Trailing_Stop\n",
            "count  5016.000000    5003.000000\n",
            "mean    236.715986     232.813983\n",
            "std      65.611994      64.341939\n",
            "min     105.669998     104.084948\n",
            "25%     187.762493     184.823633\n",
            "50%     228.284050     224.708055\n",
            "75%     262.338760     258.039474\n",
            "max     480.244995     473.041320\n",
            "\n",
            "🔍 Sell Signal Debug Instances:\n",
            "Price                  Datetime        Open        High         Low  \\\n",
            "98    2022-04-25 13:30:00+00:00  326.323334  334.816681  325.100006   \n",
            "99    2022-04-25 14:30:00+00:00  333.885010  336.206665  329.823334   \n",
            "100   2022-04-25 15:30:00+00:00  332.703339  334.183319  328.713348   \n",
            "103   2022-04-25 18:30:00+00:00  335.190002  335.598328  326.333344   \n",
            "104   2022-04-25 19:30:00+00:00  330.206635  333.586670  328.160004   \n",
            "105   2022-04-26 13:30:00+00:00  332.500000  332.793335  305.113342   \n",
            "413   2022-06-29 13:30:00+00:00  230.500000  231.173340  223.760010   \n",
            "414   2022-06-29 14:30:00+00:00  225.773331  227.666672  222.273331   \n",
            "415   2022-06-29 15:30:00+00:00  223.900009  225.817825  222.353333   \n",
            "976   2022-10-21 16:30:00+00:00  211.449997  212.250000  210.720001   \n",
            "\n",
            "Price       Close    Volume       ATR   Stop_Loss  Take_Profit      EMA_10  \\\n",
            "98     333.886658   7758500  6.732555  325.807592   347.351767  336.700077   \n",
            "99     332.690002   2906051  6.591365  324.780364   345.872733  335.970973   \n",
            "100    332.062286   1986563  6.565887  324.183221   345.194061  335.260303   \n",
            "103    330.188324   3990998  6.188263  322.762408   342.564850  333.978314   \n",
            "104    332.763336   2089346  6.329655  325.167750   345.422647  333.757409   \n",
            "105    307.309998  13486969  7.334183  298.508978   321.978363  328.948789   \n",
            "413    225.726547   9977461  3.774125  221.197597   233.274798  235.334804   \n",
            "414    223.808395   4602446  3.860554  219.175730   231.529504  233.239093   \n",
            "415    222.679993   2959982  3.795637  218.125228   230.271266  231.319257   \n",
            "976    211.510101   6593568  4.807806  205.740734   221.125713  210.655995   \n",
            "\n",
            "Price  ...  MACD_Signal        RSI        ADX   Volume_Avg  Buy_Signal  \\\n",
            "98     ...     0.549949  23.649332  27.045365   3729074.70       False   \n",
            "99     ...     0.347070  27.421493  25.296680   3735144.05       False   \n",
            "100    ...     0.124789  30.955009  23.385054   3727901.80       False   \n",
            "103    ...    -0.444124  36.876838  18.495346   3830036.45       False   \n",
            "104    ...    -0.605882  43.496115  17.041546   3243574.65       False   \n",
            "105    ...    -1.144450  22.144915  15.668842   3696166.20       False   \n",
            "413    ...     0.461493  11.317529  15.658400   3991656.35       False   \n",
            "414    ...    -0.146727   4.799447  15.364309   4056984.25       False   \n",
            "415    ...    -0.780054   5.208975  15.054534   4073954.05       False   \n",
            "976    ...    -2.227632  38.799415  15.033578  11599954.95       False   \n",
            "\n",
            "Price  Trailing_Stop  Sell_Signal  Exit_Signal  MACD_Hist  Sell_Signal_Debug  \n",
            "98        328.878358         True        False  -0.688784               True  \n",
            "99        327.699652         True        False  -0.811517               True  \n",
            "100       327.081352         True        False  -0.889125               True  \n",
            "103       325.235499        False        False  -0.770986               True  \n",
            "104       327.771886        False        False  -0.647033               True  \n",
            "105       302.700348        False        False  -2.154272               True  \n",
            "413       222.340649        False        False  -2.181935               True  \n",
            "414       220.451269        False        False  -2.432881               True  \n",
            "415       219.339793        False        False  -2.533308               True  \n",
            "976       208.337450        False        False  -0.273878               True  \n",
            "\n",
            "[10 rows x 22 columns]\n",
            "\n",
            "🚀 Total Buy Signals: 26\n",
            "🚀 Total Sell Signals: 605\n",
            "🚀 Total Debug Sell Signals: 163\n"
          ]
        }
      ]
    },
    {
      "cell_type": "code",
      "source": [
        "# ✅ Risk 2% of portfolio per trade\n",
        "initial_balance = 10000\n",
        "risk_per_trade = 0.03 * initial_balance\n",
        "\n",
        "# ✅ Adjust position size dynamically based on ATR\n",
        "df['Position_Size'] = np.where(df['ATR'].notna(), risk_per_trade / df['ATR'], np.nan)\n",
        "df.dropna(subset=['ATR', 'RSI', 'ADX', 'Position_Size', 'Trailing_Stop'], inplace=True)"
      ],
      "metadata": {
        "id": "u-aGDOHCzXmB"
      },
      "execution_count": 251,
      "outputs": []
    },
    {
      "cell_type": "code",
      "source": [
        "# ✅ Plot Buy/Sell Signals\n",
        "plt.figure(figsize=(12,6))\n",
        "plt.plot(df['Datetime'], df['Close'], label='Close Price', color='blue')\n",
        "plt.scatter(df[df['Buy_Signal']]['Datetime'], df[df['Buy_Signal']]['Close'], marker='^', color='green', label='Buy Signal')\n",
        "plt.scatter(df[df['Sell_Signal']]['Datetime'], df[df['Sell_Signal']]['Close'], marker='v', color='red', label='Sell Signal')\n",
        "plt.legend()\n",
        "plt.show()"
      ],
      "metadata": {
        "colab": {
          "base_uri": "https://localhost:8080/",
          "height": 522
        },
        "id": "48jrtV-FgOkv",
        "outputId": "72143339-35d2-456a-bc6a-81c088101bf2"
      },
      "execution_count": 252,
      "outputs": [
        {
          "output_type": "display_data",
          "data": {
            "text/plain": [
              "<Figure size 1200x600 with 1 Axes>"
            ],
            "image/png": "[encoded data removed]"
          },
          "metadata": {}
        }
      ]
    },
    {
      "cell_type": "code",
      "source": [
        "# ✅ Initialize capital and trade log\n",
        "capital = initial_balance\n",
        "shares = 0\n",
        "trade_log = []\n",
        "STOP_LOSS_PERCENT = 0.90  # Stop-Loss at 10% drop\n",
        "TAKE_PROFIT_PERCENT = 1.05  # Take-Profit at 10% gain\n",
        "buy_price = None\n",
        "last_trade_index = -5  # To prevent overtrading\n",
        "\n",
        "# 📌 Improved Trade Execution with Automatic Stop-Loss & Take-Profit\n",
        "for i in range(len(df)):\n",
        "    price = df['Close'].iloc[i]\n",
        "\n",
        "    # ✅ Buy Condition\n",
        "    if df['Buy_Signal'].iloc[i] and capital >= price:\n",
        "        shares = capital // price\n",
        "        capital -= shares * price\n",
        "        buy_price = price\n",
        "        trade_log.append(f\"BUY at {price:.2f}\")\n",
        "\n",
        "    # ✅ Sell Conditions\n",
        "    elif shares > 0:\n",
        "        if price <= buy_price * STOP_LOSS_PERCENT:  # Stop-Loss (1st Priority)\n",
        "            capital += shares * price\n",
        "            trade_log.append(f\"SELL (Stop-Loss) at {price:.2f}\")\n",
        "            shares = 0\n",
        "        elif price < df['Trailing_Stop'].iloc[i]:  # Trailing Stop (2nd Priority)\n",
        "            capital += shares * price\n",
        "            trade_log.append(f\"SELL (Trailing Stop) at {price:.2f}\")\n",
        "            shares = 0\n",
        "        elif price >= buy_price * TAKE_PROFIT_PERCENT:  # Take-Profit (3rd Priority)\n",
        "            capital += shares * price\n",
        "            trade_log.append(f\"SELL (Take-Profit) at {price:.2f}\")\n",
        "            shares = 0\n",
        "        elif df['Sell_Signal_Debug'].iloc[i]:  # Debug Signal (4th Priority)\n",
        "            capital += shares * price\n",
        "            trade_log.append(f\"SELL (Debug Signal) at {price:.2f}\")\n",
        "            shares = 0\n",
        "\n",
        "\n",
        "# ✅ Final Sell If Holding Any Shares\n",
        "if shares > 0:\n",
        "    capital += shares * df['Close'].iloc[-1]\n",
        "    trade_log.append(f\"FINAL SELL at {df['Close'].iloc[-1]:.2f}\")\n",
        "\n",
        "# ✅ Compute Performance Metrics\n",
        "profit_trades = sum([1 for i in range(1, len(trade_log), 2) if float(trade_log[i].split(\" at \")[1]) > float(trade_log[i-1].split(\" at \")[1])])\n",
        "total_trades = len(trade_log) // 2\n",
        "win_rate = (profit_trades / total_trades) * 100 if total_trades > 0 else 0\n",
        "\n",
        "# ✅ Print Final Performance\n",
        "print(f\"Final Portfolio Value: ${capital:.2f}\")\n",
        "print(f\"Profit/Loss: ${capital - initial_balance:.2f}\")\n",
        "print(f\"New Win Rate: {win_rate:.2f}%\")\n",
        "print(f\"Trade Log: {trade_log}\")\n"
      ],
      "metadata": {
        "colab": {
          "base_uri": "https://localhost:8080/"
        },
        "id": "SMNIhRkSTT13",
        "outputId": "35c051c2-5dc0-4252-8c0b-5e08634701db"
      },
      "execution_count": 253,
      "outputs": [
        {
          "output_type": "stream",
          "name": "stdout",
          "text": [
            "Final Portfolio Value: $13394.44\n",
            "Profit/Loss: $3394.44\n",
            "New Win Rate: 63.64%\n",
            "Trade Log: ['BUY at 336.36', 'SELL (Debug Signal) at 333.89', 'BUY at 239.40', 'SELL (Take-Profit) at 260.77', 'BUY at 220.42', 'SELL (Take-Profit) at 232.25', 'BUY at 200.50', 'SELL (Take-Profit) at 213.73', 'BUY at 255.94', 'SELL (Debug Signal) at 242.79', 'BUY at 221.97', 'SELL (Take-Profit) at 233.99', 'BUY at 168.40', 'SELL (Take-Profit) at 185.61', 'BUY at 174.73', 'SELL (Debug Signal) at 174.36', 'BUY at 176.17', 'SELL (Take-Profit) at 186.69', 'BUY at 181.97', 'SELL (Take-Profit) at 192.18', 'BUY at 452.68', 'SELL (Stop-Loss) at 405.97']\n"
          ]
        }
      ]
    },
    {
      "cell_type": "code",
      "source": [
        "print(f\"Total Buy Signals: {df['Buy_Signal'].sum()}\")\n",
        "print(f\"Total Sell Signals: {df['Sell_Signal'].sum()}\")\n"
      ],
      "metadata": {
        "id": "M8n2roXyTW7O",
        "colab": {
          "base_uri": "https://localhost:8080/"
        },
        "outputId": "745cfbdb-2a9d-4cc4-e48a-4368b59d3338"
      },
      "execution_count": 254,
      "outputs": [
        {
          "output_type": "stream",
          "name": "stdout",
          "text": [
            "Total Buy Signals: 26\n",
            "Total Sell Signals: 605\n"
          ]
        }
      ]
    },
    {
      "cell_type": "code",
      "source": [
        "print(\"Sell Signals in Data:\", df['Sell_Signal'].sum())\n",
        "print(\"Total Sell Transactions in Trade Log:\", sum(1 for trade in trade_log if \"SELL\" in trade))\n"
      ],
      "metadata": {
        "colab": {
          "base_uri": "https://localhost:8080/"
        },
        "id": "Ww3rY9NTr7-N",
        "outputId": "592950f2-dbf4-48f1-9730-9fc115b6fd2b"
      },
      "execution_count": 255,
      "outputs": [
        {
          "output_type": "stream",
          "name": "stdout",
          "text": [
            "Sell Signals in Data: 605\n",
            "Total Sell Transactions in Trade Log: 11\n"
          ]
        }
      ]
    }
  ]
}