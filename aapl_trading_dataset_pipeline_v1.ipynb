{
  "nbformat": 4,
  "nbformat_minor": 0,
  "metadata": {
    "colab": {
      "provenance": [],
      "authorship_tag": "ABX9TyPMnSOVTEh8R8j++IifJmV5",
      "include_colab_link": true
    },
    "kernelspec": {
      "name": "python3",
      "display_name": "Python 3"
    },
    "language_info": {
      "name": "python"
    }
  },
  "cells": [
    {
      "cell_type": "markdown",
      "metadata": {
        "id": "view-in-github",
        "colab_type": "text"
      },
      "source": [
        "<a href=\"https://colab.research.google.com/github/racoope70/daytrading-with-ml/blob/main/aapl_trading_dataset_pipeline_v1.ipynb\" target=\"_parent\"><img src=\"https://colab.research.google.com/assets/colab-badge.svg\" alt=\"Open In Colab\"/></a>"
      ]
    },
    {
      "cell_type": "code",
      "execution_count": 1,
      "metadata": {
        "id": "gHWXeNkwyh-x"
      },
      "outputs": [],
      "source": [
        "# ✅ Import Libraries\n",
        "import pandas as pd\n",
        "import numpy as np\n",
        "import yfinance as yf\n",
        "from google.colab import drive\n"
      ]
    },
    {
      "cell_type": "code",
      "source": [
        "# ✅ Mount Google Drive\n",
        "drive.mount('/content/drive')\n",
        "\n",
        "# ✅ Download Stock Data (Apple - AAPL)\n",
        "df = yf.download(\"AAPL\", period=\"720d\", interval=\"1h\")\n",
        "df.reset_index(inplace=True)"
      ],
      "metadata": {
        "colab": {
          "base_uri": "https://localhost:8080/"
        },
        "id": "6OvuIodYyoOI",
        "outputId": "eb5bfa1e-329d-40f7-b690-c7240e47464b"
      },
      "execution_count": 2,
      "outputs": [
        {
          "output_type": "stream",
          "name": "stdout",
          "text": [
            "Mounted at /content/drive\n"
          ]
        },
        {
          "output_type": "stream",
          "name": "stderr",
          "text": [
            "\r[*********************100%***********************]  1 of 1 completed\n"
          ]
        }
      ]
    },
    {
      "cell_type": "code",
      "source": [
        "def clean_stock_data(df):\n",
        "    \"\"\"\n",
        "    Cleans and standardizes stock data columns to:\n",
        "    ['Datetime', 'Open', 'High', 'Low', 'Close', 'Volume']\n",
        "    \"\"\"\n",
        "\n",
        "    # ✅ 1. Fix Multi-Index Columns\n",
        "    if isinstance(df.columns, pd.MultiIndex):\n",
        "        df.columns = df.columns.get_level_values(0)\n",
        "\n",
        "    # ✅ 2. Standardize Time Column\n",
        "    time_columns = ['Datetime', 'datetime', 'Date', 'date', 'timestamp']\n",
        "    for col in time_columns:\n",
        "        if col in df.columns:\n",
        "            df.rename(columns={col: 'Datetime'}, inplace=True)\n",
        "            break\n",
        "    if 'Datetime' not in df.columns:\n",
        "        df.reset_index(names='Datetime', inplace=True)\n",
        "\n",
        "    # ✅ 3. Standardize Price Columns\n",
        "    column_map = {\n",
        "        'open': 'Open',\n",
        "        'high': 'High',\n",
        "        'low': 'Low',\n",
        "        'close': 'Close',\n",
        "        'adjclose': 'Close',  # Adjusted Close fallback\n",
        "        'volume': 'Volume'\n",
        "    }\n",
        "\n",
        "    df.columns = [column_map.get(col.lower(), col) for col in df.columns]\n",
        "\n",
        "    # ✅ 4. Select Only Relevant Columns\n",
        "    required_columns = ['Datetime', 'Open', 'High', 'Low', 'Close', 'Volume']\n",
        "    df = df[[col for col in required_columns if col in df.columns]]\n",
        "\n",
        "    # ✅ 5. Convert Datetime Format\n",
        "    df['Datetime'] = pd.to_datetime(df['Datetime'], errors='coerce')\n",
        "\n",
        "    # ✅ 6. Drop Missing or Corrupted Rows\n",
        "    df.dropna(subset=['Datetime', 'Close'], inplace=True)\n",
        "\n",
        "    # ✅ 7. Sort by Time\n",
        "    df.sort_values(by='Datetime', inplace=True)\n",
        "\n",
        "    # ✅ 8. Reset Index\n",
        "    df.reset_index(drop=True, inplace=True)\n",
        "\n",
        "    print(f\"✅ Cleaned Data Columns: {df.columns}\")\n",
        "    print(df.head())\n",
        "\n",
        "    return df\n",
        "# ✅ Step 2: Clean the Data\n",
        "df = clean_stock_data(df)\n",
        "\n",
        "\n"
      ],
      "metadata": {
        "colab": {
          "base_uri": "https://localhost:8080/"
        },
        "id": "CSlYYrNHyorK",
        "outputId": "eb8fd159-22ca-41a7-bc04-f38a8fbcf4d1"
      },
      "execution_count": 3,
      "outputs": [
        {
          "output_type": "stream",
          "name": "stdout",
          "text": [
            "✅ Cleaned Data Columns: Index(['Datetime', 'Open', 'High', 'Low', 'Close', 'Volume'], dtype='object')\n",
            "                   Datetime        Open        High         Low       Close  \\\n",
            "0 2022-04-04 13:30:00+00:00  174.554993  178.210007  174.479996  177.360001   \n",
            "1 2022-04-04 14:30:00+00:00  177.360001  177.839996  176.729996  177.645004   \n",
            "2 2022-04-04 15:30:00+00:00  177.649994  177.830597  177.110001  177.660004   \n",
            "3 2022-04-04 16:30:00+00:00  177.664993  177.684998  176.919998  177.229599   \n",
            "4 2022-04-04 17:30:00+00:00  177.229996  177.615005  177.020004  177.490005   \n",
            "\n",
            "     Volume  \n",
            "0  22098890  \n",
            "1  10059372  \n",
            "2   6683479  \n",
            "3   5749349  \n",
            "4   5992490  \n"
          ]
        }
      ]
    },
    {
      "cell_type": "code",
      "source": [
        "# ==========================\n",
        "# 📌 Calculate Indicators (from your code)\n",
        "# ==========================\n",
        "# ✅ Step 2: Clean the Data Using Provided Function\n",
        "df = clean_stock_data(df)\n",
        "\n",
        "# ✅ Step 3: Fix Potential Multi-Index Issues (Optional Safety Check)\n",
        "if isinstance(df.columns, pd.MultiIndex):\n",
        "    df.columns = df.columns.get_level_values(0)\n",
        "\n",
        "# ✅ Calculate ATR (Average True Range)\n",
        "df['High-Low'] = df['High'] - df['Low']\n",
        "df['High-Close'] = abs(df['High'] - df['Close'].shift(1))\n",
        "df['Low-Close'] = abs(df['Low'] - df['Close'].shift(1))\n",
        "df['True_Range'] = df[['High-Low', 'High-Close', 'Low-Close']].max(axis=1)\n",
        "df['ATR'] = df['True_Range'].rolling(window=14).mean().iloc[:, 0] if isinstance(df['True_Range'].rolling(window=14).mean(), pd.DataFrame) else df['True_Range'].rolling(window=14).mean()\n",
        "# Ensure ATR is a Series, not a DataFrame\n",
        "df['ATR'] = df['ATR'].iloc[:, 0] if isinstance(df['ATR'], pd.DataFrame) else df['ATR']\n",
        "\n",
        "\n",
        "df.drop(columns=['High-Low', 'High-Close', 'Low-Close', 'True_Range'], inplace=True)\n",
        "\n",
        "# ✅ Dynamic Stop-Loss and Take-Profit\n",
        "df['Stop_Loss'] = df['Close'] - (1.2 * df['ATR'])\n",
        "df['Take_Profit'] = df['Close'] + (2.0 * df['ATR'])\n",
        "\n",
        "# ✅ Exponential Moving Averages (EMA)\n",
        "df['EMA_10'] = df['Close'].ewm(span=10, adjust=False).mean()\n",
        "df['EMA_50'] = df['Close'].ewm(span=50, adjust=False).mean()\n",
        "\n",
        "# ✅ Simple Moving Averages (SMA)\n",
        "df['SMA_20'] = df['Close'].rolling(window=20).mean()\n",
        "df['SMA_50'] = df['Close'].rolling(window=50).mean()\n",
        "\n",
        "# ✅ MACD Calculation (Momentum Indicator)\n",
        "df['MACD_Line'] = df['Close'].ewm(span=12, adjust=False).mean() - df['Close'].ewm(span=26, adjust=False).mean()\n",
        "df['MACD_Signal'] = df['MACD_Line'].ewm(span=9, adjust=False).mean()\n",
        "df['MACD_Hist'] = df['MACD_Line'] - df['MACD_Signal']\n",
        "\n",
        "# ✅ RSI Calculation (Overbought/Oversold)\n",
        "delta = df['Close'].diff()\n",
        "gain = delta.where(delta > 0, 0).rolling(window=14).mean()\n",
        "loss = -delta.where(delta < 0, 0).rolling(window=14).mean()\n",
        "rs = gain / loss\n",
        "df['RSI'] = 100 - (100 / (1 + rs))\n",
        "\n",
        "# ✅ ADX Calculation (Trend Strength)\n",
        "df['+DM'] = np.where((df['High'].diff() > df['Low'].diff()) & (df['High'].diff() > 0), df['High'].diff(), 0)\n",
        "df['-DM'] = np.where((df['Low'].diff() > df['High'].diff()) & (df['Low'].diff() > 0), df['Low'].diff(), 0)\n",
        "df['+DI'] = 100 * df['+DM'].rolling(window=14).mean() / df['ATR']\n",
        "df['-DI'] = 100 * df['-DM'].rolling(window=14).mean() / df['ATR']\n",
        "df['ADX'] = abs(df['+DI'] - df['-DI']).rolling(window=14).mean()\n",
        "df.drop(columns=['+DM', '-DM'], inplace=True)\n",
        "\n",
        "# ✅ Volume Average\n",
        "df['Volume_Avg'] = df['Volume'].rolling(window=20).mean()\n",
        "\n",
        "# ✅ Volume Change Rate (First Define It)\n",
        "df['Volume_Change'] = df['Volume'].pct_change()\n",
        "\n",
        "# ✅ Volume Change Moving Average (10-period average)\n",
        "df['Volume_Change_MA'] = df['Volume_Change'].rolling(window=10).mean()\n",
        "\n",
        "# ✅ Volume Change Ratio (Rate of change in volume from previous)\n",
        "df['Volume_Change_Ratio'] = df['Volume_Change'] / df['Volume_Change'].shift(1)\n",
        "\n",
        "# ✅ Relative Volume (Volume compared to 20-period average)\n",
        "df['Relative_Volume'] = df['Volume'] / df['Volume_Avg']\n",
        "\n",
        "\n",
        "# ✅ Trailing Stop Calculation\n",
        "df['Trailing_Stop'] = np.minimum(\n",
        "    df['Close'] * 0.985,          # 2% below price\n",
        "    df['Close'] - (df['ATR'] * 0.3)  # Tighter ATR stop\n",
        ")\n",
        "\n",
        "# ==========================\n",
        "# 📌 Generate Buy & Sell Signals (Labels) Based on Your Rules\n",
        "# ==========================\n",
        "\n"
      ],
      "metadata": {
        "colab": {
          "base_uri": "https://localhost:8080/"
        },
        "id": "h8bcCcrjyyCk",
        "outputId": "635474ac-62c7-4b69-e8b2-21b190e076d2"
      },
      "execution_count": 4,
      "outputs": [
        {
          "output_type": "stream",
          "name": "stdout",
          "text": [
            "✅ Cleaned Data Columns: Index(['Datetime', 'Open', 'High', 'Low', 'Close', 'Volume'], dtype='object')\n",
            "                   Datetime        Open        High         Low       Close  \\\n",
            "0 2022-04-04 13:30:00+00:00  174.554993  178.210007  174.479996  177.360001   \n",
            "1 2022-04-04 14:30:00+00:00  177.360001  177.839996  176.729996  177.645004   \n",
            "2 2022-04-04 15:30:00+00:00  177.649994  177.830597  177.110001  177.660004   \n",
            "3 2022-04-04 16:30:00+00:00  177.664993  177.684998  176.919998  177.229599   \n",
            "4 2022-04-04 17:30:00+00:00  177.229996  177.615005  177.020004  177.490005   \n",
            "\n",
            "     Volume  \n",
            "0  22098890  \n",
            "1  10059372  \n",
            "2   6683479  \n",
            "3   5749349  \n",
            "4   5992490  \n"
          ]
        }
      ]
    },
    {
      "cell_type": "code",
      "source": [
        "# ✅ Buy Signal Logic\n",
        "df['Buy_Signal'] = np.where(\n",
        "    (df['RSI'] < 60) &\n",
        "    (df['EMA_10'] > df['EMA_50']) &\n",
        "    ((df['MACD_Line'] > df['MACD_Signal']) | (df['MACD_Line'].diff() > 0)) &\n",
        "    (df['Volume'] > (0.4 * df['Volume_Avg'])) &\n",
        "    (df['ADX'] > 18),\n",
        "    1, 0\n",
        ")\n",
        "\n",
        "# ✅ Sell Signal Logic\n",
        "df['Sell_Signal'] = np.where(\n",
        "    ((df['EMA_10'] < df['EMA_50']) & (df['RSI'] > 60)) |\n",
        "    ((df['MACD_Line'] < df['MACD_Signal']) & (df['RSI'] > 65)) |\n",
        "    (df['Close'] < df['Trailing_Stop']) |\n",
        "    ((df['Volume'] > 0.5 * df['Volume_Avg']) & (df['ADX'] > 20)),\n",
        "    1, 0\n",
        ")\n",
        "\n",
        "# ✅ Debug Sell Signal Logic (from your code)\n",
        "df['Sell_Signal_Debug'] = np.where(\n",
        "    ((df['MACD_Hist'] < 0.5) | (df['MACD_Line'] < df['MACD_Signal'])) &\n",
        "    (df['RSI'] < 55) &\n",
        "    (df['ADX'] > 15) &\n",
        "    ((df['Close'] < df['Trailing_Stop']) | (df['EMA_10'] < df['EMA_50'])) &\n",
        "    (df['Volume'] > 0.5 * df['Volume_Avg']),\n",
        "    1, 0\n",
        ")\n",
        "\n",
        "# ==========================\n",
        "# 📌 Save Final Labeled Dataset for Supervised Learning\n",
        "# ==========================\n",
        "\n",
        "# ✅ Select Important Columns for ML\n",
        "final_columns = [\n",
        "    'Datetime', 'Open', 'High', 'Low', 'Close', 'Volume',\n",
        "    'EMA_10', 'EMA_50', 'SMA_20', 'SMA_50',\n",
        "    'RSI', 'MACD_Line', 'MACD_Signal', 'MACD_Hist',\n",
        "    'ATR', 'ADX', 'Volume_Avg', 'Trailing_Stop',\n",
        "    'Buy_Signal', 'Sell_Signal', 'Sell_Signal_Debug'\n",
        "]\n",
        "\n",
        "# ✅ Filter Columns\n",
        "labeled_df = df[final_columns]\n",
        "\n",
        "# ✅ Add Future Return Columns\n",
        "df['Future_Close'] = df['Close'].shift(-10)  # Price 10 periods ahead\n",
        "df['Return'] = (df['Future_Close'] - df['Close']) / df['Close']  # % Return\n",
        "\n",
        "# ✅ Add Classification Labels (1 if price increases by 2%, else 0)\n",
        "df['Target'] = np.where(df['Return'] > 0.02, 1, 0)  # Buy signal if 2% return\n",
        "\n",
        "# ✅ Multi-Class Target Labeling\n",
        "df['Target'] = np.select(\n",
        "    [\n",
        "        df['Return'] > 0.02,  # Strong Uptrend\n",
        "        df['Return'] < -0.02  # Strong Downtrend\n",
        "    ],\n",
        "    [1, -1],\n",
        "    default=0  # No significant movement\n",
        ")"
      ],
      "metadata": {
        "id": "6rrD6_OxzIET"
      },
      "execution_count": 5,
      "outputs": []
    },
    {
      "cell_type": "code",
      "source": [
        "# ✅ Drop Future Columns Before Saving for Model Training\n",
        "model_columns = [col for col in labeled_df.columns if col not in ['Future_Close', 'Return']]\n",
        "labeled_df = df[model_columns]\n",
        "\n",
        "# ✅ Add Time-Based Features\n",
        "df['Hour'] = pd.to_datetime(df['Datetime']).dt.hour\n",
        "df['DayOfWeek'] = pd.to_datetime(df['Datetime']).dt.dayofweek\n",
        "\n",
        "# ✅ Add Session Labels (e.g., Pre-market, Regular, After-hours)\n",
        "df['Session'] = np.where(\n",
        "    (df['Hour'] >= 9) & (df['Hour'] <= 16), 'Regular',\n",
        "    np.where((df['Hour'] < 9), 'Pre-market', 'After-hours')\n",
        ")\n",
        "\n",
        "# ✅ Rolling Volatility (standard deviation of returns)\n",
        "df['Volatility'] = df['Close'].pct_change().rolling(window=20).std()\n",
        "\n",
        "# ✅ MACD Crossover Signal\n",
        "df['MACD_Crossover'] = np.where(df['MACD_Line'] > df['MACD_Signal'], 1, 0)\n",
        "\n",
        "# ✅ Multi-Class Target Labeling\n",
        "df['Multi_Class_Target'] = np.select(\n",
        "    [\n",
        "        df['Return'] > 0.02,  # Strong Uptrend\n",
        "        df['Return'] < -0.02  # Strong Downtrend\n",
        "    ],\n",
        "    [1, -1],\n",
        "    default=0  # No significant movement\n",
        ")\n",
        "\n",
        "\n",
        "\n",
        "# ✅ Final Dataset Columns\n",
        "\n",
        "final_columns = [\n",
        "    'Datetime', 'Open', 'High', 'Low', 'Close', 'Volume',\n",
        "    'EMA_10', 'EMA_50', 'SMA_20', 'SMA_50',\n",
        "    'RSI', 'MACD_Line', 'MACD_Signal', 'MACD_Hist',\n",
        "    'ATR', 'Volatility', 'Volume_Avg', 'Volume_Change', 'Relative_Volume',\n",
        "    'ADX', 'Trailing_Stop','Buy_Signal', 'Sell_Signal', 'Sell_Signal_Debug',\n",
        "    'Return', 'Target','Multi_Class_Target','Hour', 'DayOfWeek', 'Session',\n",
        "    'MACD_Crossover',\n",
        "    'Future_Close'\n",
        "]\n",
        "\n",
        "\n",
        "# ✅ Remove any infinite values\n",
        "df.replace([np.inf, -np.inf], np.nan, inplace=True)\n",
        "\n",
        "# ✅ Drop rows with missing values\n",
        "df.dropna(inplace=True)\n",
        "\n",
        "print(f\"✅ Final dataset shape: {df.shape}\")\n"
      ],
      "metadata": {
        "colab": {
          "base_uri": "https://localhost:8080/"
        },
        "id": "5h--yDV6y7CS",
        "outputId": "46233de5-a350-4f02-d689-e01702e6ebc8"
      },
      "execution_count": 6,
      "outputs": [
        {
          "output_type": "stream",
          "name": "stdout",
          "text": [
            "✅ Final dataset shape: (4873, 38)\n"
          ]
        }
      ]
    },
    {
      "cell_type": "code",
      "source": [
        "# ✅ Filter and Save\n",
        "labeled_df = df[final_columns]\n",
        "csv_path = '/content/drive/My Drive/aapl_labeled_trading_dataset_v2.csv'\n",
        "labeled_df.to_csv(csv_path, index=False)\n",
        "\n",
        "print(f\"✅ Enhanced labeled dataset saved: {csv_path}\")\n",
        "\n",
        "\n",
        "# ✅ Save to CSV in Google Drive\n",
        "csv_path = '/content/drive/My Drive/aapl_labeled_trading_dataset.csv'\n",
        "labeled_df.to_csv(csv_path, index=False)\n",
        "\n",
        "print(f\"✅ Labeled dataset saved to Google Drive: {csv_path}\")\n",
        "print(f\"🚀 Total Buy Signals: {labeled_df['Buy_Signal'].sum()}\")\n",
        "print(f\"🚀 Total Sell Signals: {labeled_df['Sell_Signal'].sum()}\")\n",
        "print(f\"🚀 Total Debug Sell Signals: {labeled_df['Sell_Signal_Debug'].sum()}\")"
      ],
      "metadata": {
        "colab": {
          "base_uri": "https://localhost:8080/"
        },
        "id": "18wR4U59y-Jk",
        "outputId": "d3968315-6eb3-4f18-dc9a-ca7305514f6f"
      },
      "execution_count": 7,
      "outputs": [
        {
          "output_type": "stream",
          "name": "stdout",
          "text": [
            "✅ Enhanced labeled dataset saved: /content/drive/My Drive/aapl_labeled_trading_dataset_v2.csv\n",
            "✅ Labeled dataset saved to Google Drive: /content/drive/My Drive/aapl_labeled_trading_dataset.csv\n",
            "🚀 Total Buy Signals: 28\n",
            "🚀 Total Sell Signals: 618\n",
            "🚀 Total Debug Sell Signals: 130\n"
          ]
        }
      ]
    }
  ]
}