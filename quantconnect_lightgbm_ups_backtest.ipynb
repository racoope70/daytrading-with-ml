{
  "nbformat": 4,
  "nbformat_minor": 0,
  "metadata": {
    "colab": {
      "provenance": [],
      "authorship_tag": "ABX9TyPETH5YrAmLYJtkrn//uSpA",
      "include_colab_link": true
    },
    "kernelspec": {
      "name": "python3",
      "display_name": "Python 3"
    },
    "language_info": {
      "name": "python"
    }
  },
  "cells": [
    {
      "cell_type": "markdown",
      "metadata": {
        "id": "view-in-github",
        "colab_type": "text"
      },
      "source": [
        "<a href=\"https://colab.research.google.com/github/racoope70/daytrading-with-ml/blob/main/quantconnect_lightgbm_ups_backtest.ipynb\" target=\"_parent\"><img src=\"https://colab.research.google.com/assets/colab-badge.svg\" alt=\"Open In Colab\"/></a>"
      ]
    },
    {
      "cell_type": "code",
      "execution_count": null,
      "metadata": {
        "id": "TUrAmPqH0ws0"
      },
      "outputs": [],
      "source": [
        "# QuantConnect version of LightGBM model training and trading\n",
        "from AlgorithmImports import *\n",
        "from lightgbm import LGBMClassifier\n",
        "from sklearn.preprocessing import MinMaxScaler\n",
        "import numpy as np\n",
        "\n",
        "class LightGBMQuantConnect(QCAlgorithm):\n",
        "    def Initialize(self):\n",
        "        self.SetStartDate(2023, 1, 1)\n",
        "        self.SetEndDate(2024, 1, 1)\n",
        "        self.SetCash(100000)\n",
        "\n",
        "        self.symbol = self.AddEquity(\"UPS\", Resolution.Hour).Symbol\n",
        "        self.lookback = 500\n",
        "        self.train_model_ready = False\n",
        "        self.last_action = 0\n",
        "        self.features = [\"SMA_50\", \"EMA_20\", \"RSI\", \"MACD\", \"Signal_Line\", \"ATR\", \"OBV\", \"CCI\"]\n",
        "\n",
        "        self.Schedule.On(self.DateRules.EveryDay(self.symbol),\n",
        "                         self.TimeRules.Every(timedelta(hours=1)),\n",
        "                         self.TradeLogic)\n",
        "\n",
        "    def OnData(self, data):\n",
        "        if not self.train_model_ready:\n",
        "            history = self.History(self.symbol, self.lookback, Resolution.Hour).dropna()\n",
        "            if history.empty:\n",
        "                self.Debug(\"No history yet.\")\n",
        "                return\n",
        "            df = history.reset_index().rename(columns={\"time\": \"Datetime\", \"close\": \"Close\", \"high\": \"High\", \"low\": \"Low\", \"volume\": \"Volume\"})\n",
        "            df = self.AddFeatures(df)\n",
        "            df['Target'] = (df['Close'].shift(-1) > df['Close']).astype(int)\n",
        "            df.dropna(inplace=True)\n",
        "            X = df[self.features]\n",
        "            y = df['Target']\n",
        "\n",
        "            self.scaler = MinMaxScaler()\n",
        "            X_scaled = self.scaler.fit_transform(X)\n",
        "\n",
        "            self.model = LGBMClassifier(n_estimators=100)\n",
        "            self.model.fit(X_scaled, y)\n",
        "            self.train_model_ready = True\n",
        "            self.Debug(\"Model trained.\")\n",
        "\n",
        "    def AddFeatures(self, df):\n",
        "        df['SMA_50'] = df['Close'].rolling(window=50).mean()\n",
        "        df['EMA_20'] = df['Close'].ewm(span=20).mean()\n",
        "        delta = df['Close'].diff()\n",
        "        gain = delta.where(delta > 0, 0).rolling(window=14).mean()\n",
        "        loss = -delta.where(delta < 0, 0).rolling(window=14).mean()\n",
        "        rs = gain / (loss + 1e-6)\n",
        "        df['RSI'] = 100 - (100 / (1 + rs))\n",
        "        df['MACD'] = df['Close'].ewm(span=12).mean() - df['Close'].ewm(span=26).mean()\n",
        "        df['Signal_Line'] = df['MACD'].ewm(span=9).mean()\n",
        "        df['ATR'] = df['High'].rolling(window=14).max() - df['Low'].rolling(window=14).min()\n",
        "        df['OBV'] = (np.sign(df['Close'].diff()) * df['Volume']).fillna(0).cumsum()\n",
        "        tp = (df['High'] + df['Low'] + df['Close']) / 3\n",
        "        df['CCI'] = (tp - tp.rolling(20).mean()) / (0.015 * tp.rolling(20).std())\n",
        "        df.dropna(inplace=True)\n",
        "        return df\n",
        "\n",
        "    def TradeLogic(self):\n",
        "        if not self.train_model_ready:\n",
        "            return\n",
        "\n",
        "        history = self.History(self.symbol, 50, Resolution.Hour).dropna()\n",
        "        if history.empty:\n",
        "            return\n",
        "\n",
        "        df = history.reset_index().rename(columns={\"time\": \"Datetime\", \"close\": \"Close\", \"high\": \"High\", \"low\": \"Low\", \"volume\": \"Volume\"})\n",
        "        df = self.AddFeatures(df)\n",
        "        latest = df.iloc[-1:]\n",
        "\n",
        "        X_live = self.scaler.transform(latest[self.features])\n",
        "        pred = self.model.predict(X_live)[0]\n",
        "\n",
        "        if pred == 1 and self.last_action != 1:\n",
        "            self.SetHoldings(self.symbol, 1.0)\n",
        "            self.last_action = 1\n",
        "            self.Debug(\"BUY\")\n",
        "        elif pred == 0 and self.last_action != -1:\n",
        "            self.Liquidate(self.symbol)\n",
        "            self.last_action = -1\n",
        "            self.Debug(\"SELL\")\n"
      ]
    }
  ]
}