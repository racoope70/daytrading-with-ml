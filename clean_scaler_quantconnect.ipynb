{
  "nbformat": 4,
  "nbformat_minor": 0,
  "metadata": {
    "colab": {
      "provenance": [],
      "include_colab_link": true
    },
    "kernelspec": {
      "name": "python3",
      "display_name": "Python 3"
    },
    "language_info": {
      "name": "python"
    }
  },
  "cells": [
    {
      "cell_type": "markdown",
      "metadata": {
        "id": "view-in-github",
        "colab_type": "text"
      },
      "source": [
        "<a href=\"https://colab.research.google.com/github/racoope70/daytrading-with-ml/blob/main/clean_scaler_quantconnect.ipynb\" target=\"_parent\"><img src=\"https://colab.research.google.com/assets/colab-badge.svg\" alt=\"Open In Colab\"/></a>"
      ]
    },
    {
      "cell_type": "code",
      "source": [
        "import pickle\n",
        "from sklearn.preprocessing import StandardScaler\n",
        "import numpy as np\n",
        "\n",
        "# Dummy training data – replace with real features if available\n",
        "X_train = np.random.rand(100, 10)  # 100 samples, 10 features\n",
        "\n",
        "# Fit scaler\n",
        "scaler = StandardScaler()\n",
        "scaler.fit(X_train)\n",
        "\n",
        "# Save clean binary pickle file\n",
        "output_path = \"/content/drive/MyDrive/quantconnect_model_conversion/scaler_clean.pkl\"\n",
        "with open(output_path, \"wb\") as f:\n",
        "    pickle.dump(scaler, f)\n",
        "\n",
        "print(\"✅ Clean scaler saved to:\", output_path)\n"
      ],
      "metadata": {
        "colab": {
          "base_uri": "https://localhost:8080/"
        },
        "id": "aFMaZwaqaqE8",
        "outputId": "0b2f4df2-d8a4-42b1-910d-eaad3c260a22"
      },
      "execution_count": 6,
      "outputs": [
        {
          "output_type": "stream",
          "name": "stdout",
          "text": [
            "Clean scaler saved to: /content/drive/MyDrive/quantconnect_model_conversion/scaler_clean.pkl\n"
          ]
        }
      ]
    }
  ]
}
