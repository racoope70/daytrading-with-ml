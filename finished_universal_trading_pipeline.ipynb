{
  "nbformat": 4,
  "nbformat_minor": 0,
  "metadata": {
    "colab": {
      "provenance": [],
      "authorship_tag": "ABX9TyPq9uWRebwwmPnoq+tozIJ3",
      "include_colab_link": true
    },
    "kernelspec": {
      "name": "python3",
      "display_name": "Python 3"
    },
    "language_info": {
      "name": "python"
    }
  },
  "cells": [
    {
      "cell_type": "markdown",
      "metadata": {
        "id": "view-in-github",
        "colab_type": "text"
      },
      "source": [
        "<a href=\"https://colab.research.google.com/github/racoope70/daytrading-with-ml/blob/main/finished_universal_trading_pipeline.ipynb\" target=\"_parent\"><img src=\"https://colab.research.google.com/assets/colab-badge.svg\" alt=\"Open In Colab\"/></a>"
      ]
    },
    {
      "cell_type": "code",
      "source": [
        "# ✅ Universal Trading Pipeline with Google Drive Integration and Enhancements\n",
        "import pandas as pd\n",
        "import numpy as np\n",
        "import yfinance as yf\n",
        "import time, os, tensorflow as tf\n",
        "import matplotlib.pyplot as plt\n",
        "import zipfile\n",
        "from math import ceil\n",
        "from shutil import copyfile\n",
        "from datetime import datetime\n",
        "from google.colab import drive\n",
        "import json\n",
        "\n",
        "# ✅ Mount Google Drive and Create Save Folder\n",
        "drive.mount('/content/drive')\n",
        "strategy_name = 'buy_volume_macd_rsi_v1'\n",
        "timestamp = datetime.now().strftime(\"%Y%m%d_%H%M\")\n",
        "save_dir = f\"/content/drive/My Drive/universal_outputs/{strategy_name}\"\n",
        "os.makedirs(save_dir, exist_ok=True)\n",
        "print(f\"Save directory is ready: {save_dir}\")\n",
        "\n",
        "# ✅ TensorFlow GPU Memory Configuration\n",
        "gpus = tf.config.list_physical_devices(\"GPU\")\n",
        "if gpus:\n",
        "    try:\n",
        "        for gpu in gpus:\n",
        "            tf.config.experimental.set_memory_growth(gpu, True)\n",
        "        print(\"TensorFlow GPU memory growth enabled\")\n",
        "    except RuntimeError as e:\n",
        "        print(f\"TensorFlow GPU memory issue: {e}\")\n",
        "\n",
        "os.environ['CUDA_HOME'] = '/usr/local/cuda-11.8'\n",
        "os.environ['PATH'] += ':/usr/local/cuda-11.8/bin'\n",
        "os.environ['LD_LIBRARY_PATH'] += ':/usr/local/cuda-11.8/lib64'\n",
        "\n",
        "# ✅ Ticker List and CONFIG\n",
        "ticker_list = [\n",
        "    'AAPL', 'TSLA', 'MSFT', 'GOOGL', 'AMZN', 'NVDA', 'META', 'BRK-B', 'JPM', 'JNJ',\n",
        "    'XOM', 'V', 'PG', 'UNH', 'MA', 'HD', 'LLY', 'MRK', 'PEP', 'KO',\n",
        "    'BAC', 'ABBV', 'AVGO', 'PFE', 'COST', 'CSCO', 'TMO', 'ABT', 'ACN', 'WMT',\n",
        "    'MCD', 'ADBE', 'DHR', 'CRM', 'NKE', 'INTC', 'QCOM', 'NEE', 'AMD', 'TXN',\n",
        "    'AMGN', 'UPS', 'LIN', 'PM', 'UNP', 'BMY', 'LOW', 'RTX', 'CVX', 'IBM',\n",
        "    'GE', 'SBUX', 'ORCL'\n",
        "]\n",
        "\n",
        "CONFIG = {\n",
        "    'symbols': [],\n",
        "    'period': '720d',\n",
        "    'interval': '1h',\n",
        "    'target': 'Target',\n",
        "    'sharpe_threshold': 1.5,\n",
        "    'return_threshold': 1.25,\n",
        "    'strategy_name': strategy_name\n",
        "}\n",
        "\n",
        "# ✅ Download Function\n",
        "def download_stock_data(ticker, period=\"720d\", interval=\"1h\", max_retries=5):\n",
        "    for attempt in range(1, max_retries + 1):\n",
        "        try:\n",
        "            print(f\"Attempt {attempt}: Downloading {ticker}...\")\n",
        "            df = yf.download(ticker, period=period, interval=interval)\n",
        "            if not df.empty:\n",
        "                df.reset_index(inplace=True)\n",
        "                df['Symbol'] = ticker\n",
        "                return df\n",
        "            raise ValueError(\"Empty data\")\n",
        "        except Exception as e:\n",
        "            print(f\"Error: {e}. Retrying...\")\n",
        "            time.sleep(attempt * 5)\n",
        "    print(f\"Failed to download {ticker}\")\n",
        "    return None\n",
        "\n",
        "# ✅ Feature Engineering\n",
        "def compute_enhanced_features(df):\n",
        "    df = df.copy()\n",
        "    if isinstance(df.columns, pd.MultiIndex):\n",
        "        df.columns = df.columns.get_level_values(0)\n",
        "    df = df.loc[:, ~df.columns.duplicated()]\n",
        "\n",
        "    df['SMA_20'] = df['Close'].rolling(20).mean()\n",
        "    df['STD_20'] = df['Close'].rolling(20).std()\n",
        "    df['Upper_Band'] = df['SMA_20'] + 2 * df['STD_20']\n",
        "    df['Lower_Band'] = df['SMA_20'] - 2 * df['STD_20']\n",
        "    df['Lowest_Low'] = df['Low'].rolling(14).min()\n",
        "    df['Highest_High'] = df['High'].rolling(14).max()\n",
        "    denom = (df['Highest_High'] - df['Lowest_Low']).replace(0, np.nan)\n",
        "    df['Stoch'] = ((df['Close'] - df['Lowest_Low']) / denom) * 100\n",
        "    df['ROC'] = df['Close'].pct_change(10)\n",
        "    df['OBV'] = (np.sign(df['Close'].diff()) * df['Volume']).cumsum()\n",
        "    typical_price = (df['High'] + df['Low'] + df['Close']) / 3\n",
        "    df['CCI'] = (typical_price - typical_price.rolling(20).mean()) / (0.015 * typical_price.rolling(20).std())\n",
        "    df['PROC'] = ((df['Close'] - df['Close'].shift(12)) / df['Close'].shift(12)) * 100\n",
        "    df['Rolling_Mean_50'] = df['Close'].rolling(50).mean()\n",
        "    df['Expanding_Mean'] = df['Close'].expanding().mean()\n",
        "    df['EMA_10'] = df['Close'].ewm(span=10).mean()\n",
        "    df['EMA_50'] = df['Close'].ewm(span=50).mean()\n",
        "    df['MACD_Line'] = df['Close'].ewm(span=12).mean() - df['Close'].ewm(span=26).mean()\n",
        "    df['MACD_Signal'] = df['MACD_Line'].ewm(span=9).mean()\n",
        "    df['MACD_Hist'] = df['MACD_Line'] - df['MACD_Signal']\n",
        "    delta = df['Close'].diff()\n",
        "    gain = delta.where(delta > 0, 0).rolling(14).mean()\n",
        "    loss = -delta.where(delta < 0, 0).rolling(14).mean()\n",
        "    rs = gain / loss\n",
        "    df['RSI'] = 100 - (100 / (1 + rs))\n",
        "    df['True_Range'] = df[['High', 'Low', 'Close']].apply(lambda x: max(x.iloc[0] - x.iloc[1], abs(x.iloc[0] - x.iloc[2]), abs(x.iloc[1] - x.iloc[2])), axis=1)\n",
        "    df['ATR'] = df['True_Range'].rolling(14).mean()\n",
        "    df['+DM'] = np.where((df['High'].diff() > df['Low'].diff()) & (df['High'].diff() > 0), df['High'].diff(), 0)\n",
        "    df['-DM'] = np.where((df['Low'].diff() > df['High'].diff()) & (df['Low'].diff() > 0), df['Low'].diff(), 0)\n",
        "    df['+DI'] = 100 * df['+DM'].rolling(14).mean() / df['ATR']\n",
        "    df['-DI'] = 100 * df['-DM'].rolling(14).mean() / df['ATR']\n",
        "    df['ADX'] = abs(df['+DI'] - df['-DI']).rolling(14).mean()\n",
        "    df['Volume_Avg'] = df['Volume'].rolling(20).mean()\n",
        "    df['Volume_Change'] = df['Volume'].pct_change()\n",
        "    df['Volume_Change_MA'] = df['Volume_Change'].rolling(10).mean()\n",
        "    df['Volume_Change_Ratio'] = df['Volume_Change'] / df['Volume_Change'].shift(1)\n",
        "    df['Relative_Volume'] = df['Volume'] / df['Volume_Avg']\n",
        "    df['Trailing_Stop'] = np.minimum(df['Close'] * 0.985, df['Close'] - (df['ATR'] * 0.3))\n",
        "    df['Buy_Signal'] = np.where((df['RSI'] < 60) & (df['EMA_10'] > df['EMA_50']) &\n",
        "                                ((df['MACD_Line'] > df['MACD_Signal']) | (df['MACD_Line'].diff() > 0)) &\n",
        "                                (df['Volume'] > (0.4 * df['Volume_Avg'])) & (df['ADX'] > 18), 1, 0)\n",
        "    df['Sell_Signal'] = np.where(((df['EMA_10'] < df['EMA_50']) & (df['RSI'] > 60)) |\n",
        "                                 ((df['MACD_Line'] < df['MACD_Signal']) & (df['RSI'] > 65)) |\n",
        "                                 (df['Close'] < df['Trailing_Stop']) |\n",
        "                                 ((df['Volume'] > 0.5 * df['Volume_Avg']) & (df['ADX'] > 20)), 1, 0)\n",
        "    df['Sell_Signal_Debug'] = np.where(((df['MACD_Hist'] < 0.5) | (df['MACD_Line'] < df['MACD_Signal'])) &\n",
        "                                       (df['RSI'] < 55) & (df['ADX'] > 15) &\n",
        "                                       ((df['Close'] < df['Trailing_Stop']) | (df['EMA_10'] < df['EMA_50'])) &\n",
        "                                       (df['Volume'] > 0.5 * df['Volume_Avg']), 1, 0)\n",
        "    df['Future_Close'] = df['Close'].shift(-10)\n",
        "    df['Volatility'] = df['Close'].pct_change().rolling(window=20).std()\n",
        "\n",
        "    df['Return'] = (df['Future_Close'] - df['Close']) / df['Close']\n",
        "    df['Target'] = np.select([df['Return'] > 0.02, df['Return'] < -0.02], [1, -1], default=0)\n",
        "    df['Multi_Class_Target'] = df['Target']\n",
        "    df['Hour'] = pd.to_datetime(df['Datetime']).dt.hour\n",
        "    df['DayOfWeek'] = pd.to_datetime(df['Datetime']).dt.dayofweek\n",
        "    df['Session'] = np.where((df['Hour'] >= 9) & (df['Hour'] <= 16), 'Regular',\n",
        "                             np.where((df['Hour'] < 9), 'Pre-market', 'After-hours'))\n",
        "    df['MACD_Crossover'] = np.where(df['MACD_Line'] > df['MACD_Signal'], 1, 0)\n",
        "    df.replace([np.inf, -np.inf], np.nan, inplace=True)\n",
        "\n",
        "    df.dropna(inplace=True)\n",
        "    return df\n",
        "\n",
        "# ✅ Backtest & Metrics\n",
        "def simple_backtest(df, target_col='Target', initial_cash=10000, position_size=1.0):\n",
        "    df = df.copy()\n",
        "    df['Return'] = df['Close'].pct_change()\n",
        "    df['Strategy_Return'] = df[target_col].shift(1) * df['Return'] * position_size\n",
        "    df['Equity_Curve'] = initial_cash * (1 + df['Strategy_Return']).cumprod()\n",
        "    return df\n",
        "\n",
        "def evaluate_performance_metrics(df):\n",
        "    df = df.copy()\n",
        "    df['Datetime'] = pd.to_datetime(df['Datetime'])\n",
        "    df.set_index('Datetime', inplace=True)\n",
        "    daily_returns = df['Equity_Curve'].pct_change().dropna()\n",
        "    excess_returns = daily_returns\n",
        "    sharpe = np.sqrt(252) * excess_returns.mean() / excess_returns.std()\n",
        "    trades = df['Strategy_Return'][df['Strategy_Return'] != 0]\n",
        "    win_loss = trades[trades > 0].count() / trades[trades < 0].count() if trades[trades < 0].count() > 0 else np.inf\n",
        "    drawdown = (df['Equity_Curve'] - df['Equity_Curve'].cummax()) / df['Equity_Curve'].cummax()\n",
        "    cagr = (df['Equity_Curve'].iloc[-1] / df['Equity_Curve'].iloc[0]) ** (1 / ((df.index[-1] - df.index[0]).days / 365.25)) - 1\n",
        "    df.reset_index(inplace=True)\n",
        "    return {'Sharpe Ratio': sharpe, 'Win/Loss Ratio': win_loss, 'Max Drawdown': drawdown.min(), 'CAGR': cagr}\n",
        "\n",
        "# ✅ Run Pipeline\n",
        "def run_universal_framework(config):\n",
        "    all_results, all_metrics, filtered = {}, {}, []\n",
        "    for symbol in config['symbols']:\n",
        "        print(f\"Processing {symbol}\")\n",
        "        df = download_stock_data(symbol, config['period'], config['interval'])\n",
        "        if df is None: continue\n",
        "        df = compute_enhanced_features(df)\n",
        "        df = simple_backtest(df, config['target'])\n",
        "        metrics = evaluate_performance_metrics(df)\n",
        "        final_return = df['Equity_Curve'].iloc[-1]\n",
        "        sharpe = metrics.get('Sharpe Ratio', 0)\n",
        "        print(f\"🔎 {symbol} Sharpe: {sharpe:.2f}, Final Return: {final_return:.2f}\")\n",
        "        if sharpe > config['sharpe_threshold'] or final_return > config['return_threshold']:\n",
        "            all_results[symbol], all_metrics[symbol] = df, metrics\n",
        "            filtered.append(symbol)\n",
        "            df.to_csv(f\"/content/{config['strategy_name']}_{symbol}_features.csv\", index=False)\n",
        "            pd.DataFrame.from_dict(metrics, orient='index', columns=['Value']).to_csv(f\"/content/{config['strategy_name']}_{symbol}_metrics.csv\")\n",
        "    return all_results, all_metrics, filtered\n",
        "\n",
        "# ✅ Chunk Execution\n",
        "chunk_size = 10\n",
        "combined_df = pd.DataFrame()\n",
        "global_results, global_metrics, global_filtered = {}, {}, []\n",
        "\n",
        "for i in range(0, len(ticker_list), chunk_size):\n",
        "    CONFIG['symbols'] = ticker_list[i:i+chunk_size]\n",
        "    print(f\"Running chunk {i // chunk_size + 1}...\")\n",
        "    results, metrics, filtered = run_universal_framework(CONFIG)\n",
        "    global_results.update(results)\n",
        "    global_metrics.update(metrics)\n",
        "    global_filtered.extend(filtered)\n",
        "\n",
        "    for ticker in filtered:\n",
        "        df = results[ticker]\n",
        "        final_columns = [\n",
        "            'Datetime', 'Open', 'High', 'Low', 'Close', 'Volume',\n",
        "            'EMA_10', 'EMA_50', 'SMA_20', 'Rolling_Mean_50', 'Expanding_Mean',\n",
        "            'RSI', 'MACD_Line', 'MACD_Signal', 'MACD_Hist',\n",
        "            'ATR', 'Volatility', 'Volume_Avg', 'Volume_Change', 'Volume_Change_MA',\n",
        "            'Volume_Change_Ratio', 'Relative_Volume', 'ADX', 'Trailing_Stop',\n",
        "            'Buy_Signal', 'Sell_Signal', 'Sell_Signal_Debug',\n",
        "            'Return', 'Target', 'Multi_Class_Target', 'Hour', 'DayOfWeek', 'Session',\n",
        "            'MACD_Crossover', 'Future_Close']\n",
        "        df.replace([np.inf, -np.inf], np.nan, inplace=True)\n",
        "        df.dropna(inplace=True)\n",
        "        df_labeled = df[final_columns]\n",
        "        combined_df = pd.concat([combined_df, df_labeled], axis=0)\n",
        "        path = f\"{save_dir}/{CONFIG['strategy_name']}_{ticker}_labeled_dataset.csv\"\n",
        "        df_labeled.to_csv(path, index=False)\n",
        "        print(f\"Saved: {path}\")\n",
        "\n",
        "# ✅ Save Combined Dataset\n",
        "combined_path = f\"{save_dir}/combined_dataset_{timestamp}.csv\"\n",
        "combined_df.to_csv(combined_path, index=False)\n",
        "print(f\"Combined dataset saved: {combined_path}\")\n",
        "\n",
        "# ✅ Zip and Upload\n",
        "with zipfile.ZipFile(\"/content/universal_strategy_outputs.zip\", \"w\") as zipf:\n",
        "    for ticker in global_filtered:\n",
        "        zipf.write(f\"/content/{CONFIG['strategy_name']}_{ticker}_features.csv\")\n",
        "        zipf.write(f\"/content/{CONFIG['strategy_name']}_{ticker}_metrics.csv\")\n",
        "copyfile(\"/content/universal_strategy_outputs.zip\", f\"{save_dir}/universal_strategy_outputs.zip\")\n",
        "print(\"Zipped results uploaded to Google Drive\")\n",
        "\n",
        "# ✅ Log Filtered Tickers\n",
        "pd.Series(global_filtered).to_csv(f\"{save_dir}/filtered_tickers.csv\", index=False)\n",
        "print(f\"Filtered tickers saved to: {save_dir}/filtered_tickers.csv\")\n",
        "\n",
        "# ✅ Strategy Summary Log (Enhanced with Filtered Ticker List)\n",
        "summary_path = f\"{save_dir}/summary_{timestamp}.txt\"\n",
        "with open(summary_path, \"w\") as f:\n",
        "    f.write(f\"Strategy: {strategy_name}\\n\")\n",
        "    f.write(f\"Total tickers evaluated: {len(ticker_list)}\\n\")\n",
        "    f.write(f\"Tickers passing filter: {len(global_filtered)}\\n\")\n",
        "    f.write(f\"Saved at: {timestamp}\\n\")\n",
        "    f.write(\"Filtered Tickers:\\n\")\n",
        "    f.write(\", \".join(global_filtered) + \"\\n\")\n",
        "\n",
        "print(f\" Summary log created at: {summary_path}\")\n",
        "\n",
        "\n",
        "# ✅ Save CONFIG as JSON\n",
        "with open(f\"{save_dir}/config.json\", \"w\") as f:\n",
        "    json.dump(CONFIG, f, indent=4)\n",
        "print(f\"CONFIG saved to: {save_dir}/config.json\")\n",
        "\n"
      ],
      "metadata": {
        "colab": {
          "base_uri": "https://localhost:8080/"
        },
        "id": "nN9_joQwbOXw",
        "outputId": "1fcf1f9d-31cb-4c0b-e54a-ac494a04a892"
      },
      "execution_count": 68,
      "outputs": [
        {
          "output_type": "stream",
          "name": "stdout",
          "text": [
            "Drive already mounted at /content/drive; to attempt to forcibly remount, call drive.mount(\"/content/drive\", force_remount=True).\n",
            "Save directory is ready: /content/drive/My Drive/universal_outputs/buy_volume_macd_rsi_v1\n",
            "Running chunk 1...\n",
            "Processing AAPL\n",
            "Attempt 1: Downloading AAPL...\n"
          ]
        },
        {
          "output_type": "stream",
          "name": "stderr",
          "text": [
            "\r[*********************100%***********************]  1 of 1 completed\n"
          ]
        },
        {
          "output_type": "stream",
          "name": "stdout",
          "text": [
            "🔎 AAPL Sharpe: 2.92, Final Return: 643819.01\n",
            "Processing TSLA\n",
            "Attempt 1: Downloading TSLA...\n"
          ]
        },
        {
          "output_type": "stream",
          "name": "stderr",
          "text": [
            "\r[*********************100%***********************]  1 of 1 completed\n"
          ]
        },
        {
          "output_type": "stream",
          "name": "stdout",
          "text": [
            "🔎 TSLA Sharpe: 3.88, Final Return: 12975461478.62\n",
            "Processing MSFT\n",
            "Attempt 1: Downloading MSFT...\n"
          ]
        },
        {
          "output_type": "stream",
          "name": "stderr",
          "text": [
            "\r[*********************100%***********************]  1 of 1 completed\n"
          ]
        },
        {
          "output_type": "stream",
          "name": "stdout",
          "text": [
            "🔎 MSFT Sharpe: 2.91, Final Return: 566080.71\n",
            "Processing GOOGL\n",
            "Attempt 1: Downloading GOOGL...\n"
          ]
        },
        {
          "output_type": "stream",
          "name": "stderr",
          "text": [
            "\r[*********************100%***********************]  1 of 1 completed\n"
          ]
        },
        {
          "output_type": "stream",
          "name": "stdout",
          "text": [
            "🔎 GOOGL Sharpe: 3.02, Final Return: 2767891.79\n",
            "Processing AMZN\n",
            "Attempt 1: Downloading AMZN...\n"
          ]
        },
        {
          "output_type": "stream",
          "name": "stderr",
          "text": [
            "\r[*********************100%***********************]  1 of 1 completed\n"
          ]
        },
        {
          "output_type": "stream",
          "name": "stdout",
          "text": [
            "🔎 AMZN Sharpe: 3.22, Final Return: 9475636.69\n",
            "Processing NVDA\n",
            "Attempt 1: Downloading NVDA...\n"
          ]
        },
        {
          "output_type": "stream",
          "name": "stderr",
          "text": [
            "\r[*********************100%***********************]  1 of 1 completed\n"
          ]
        },
        {
          "output_type": "stream",
          "name": "stdout",
          "text": [
            "🔎 NVDA Sharpe: 3.69, Final Return: 1455431933.85\n",
            "Processing META\n",
            "Attempt 1: Downloading META...\n"
          ]
        },
        {
          "output_type": "stream",
          "name": "stderr",
          "text": [
            "\r[*********************100%***********************]  1 of 1 completed\n"
          ]
        },
        {
          "output_type": "stream",
          "name": "stdout",
          "text": [
            "🔎 META Sharpe: 2.96, Final Return: 32858661.60\n",
            "Processing BRK-B\n",
            "Attempt 1: Downloading BRK-B...\n"
          ]
        },
        {
          "output_type": "stream",
          "name": "stderr",
          "text": [
            "\r[*********************100%***********************]  1 of 1 completed\n"
          ]
        },
        {
          "output_type": "stream",
          "name": "stdout",
          "text": [
            "🔎 BRK-B Sharpe: 2.23, Final Return: 49600.69\n",
            "Processing JPM\n",
            "Attempt 1: Downloading JPM...\n"
          ]
        },
        {
          "output_type": "stream",
          "name": "stderr",
          "text": [
            "\r[*********************100%***********************]  1 of 1 completed\n"
          ]
        },
        {
          "output_type": "stream",
          "name": "stdout",
          "text": [
            "🔎 JPM Sharpe: 2.62, Final Return: 270121.83\n",
            "Processing JNJ\n",
            "Attempt 1: Downloading JNJ...\n"
          ]
        },
        {
          "output_type": "stream",
          "name": "stderr",
          "text": [
            "\r[*********************100%***********************]  1 of 1 completed\n"
          ]
        },
        {
          "output_type": "stream",
          "name": "stdout",
          "text": [
            "🔎 JNJ Sharpe: 1.93, Final Return: 38442.95\n",
            "Saved: /content/drive/My Drive/universal_outputs/buy_volume_macd_rsi_v1/buy_volume_macd_rsi_v1_AAPL_labeled_dataset.csv\n",
            "Saved: /content/drive/My Drive/universal_outputs/buy_volume_macd_rsi_v1/buy_volume_macd_rsi_v1_TSLA_labeled_dataset.csv\n",
            "Saved: /content/drive/My Drive/universal_outputs/buy_volume_macd_rsi_v1/buy_volume_macd_rsi_v1_MSFT_labeled_dataset.csv\n",
            "Saved: /content/drive/My Drive/universal_outputs/buy_volume_macd_rsi_v1/buy_volume_macd_rsi_v1_GOOGL_labeled_dataset.csv\n",
            "Saved: /content/drive/My Drive/universal_outputs/buy_volume_macd_rsi_v1/buy_volume_macd_rsi_v1_AMZN_labeled_dataset.csv\n",
            "Saved: /content/drive/My Drive/universal_outputs/buy_volume_macd_rsi_v1/buy_volume_macd_rsi_v1_NVDA_labeled_dataset.csv\n",
            "Saved: /content/drive/My Drive/universal_outputs/buy_volume_macd_rsi_v1/buy_volume_macd_rsi_v1_META_labeled_dataset.csv\n",
            "Saved: /content/drive/My Drive/universal_outputs/buy_volume_macd_rsi_v1/buy_volume_macd_rsi_v1_BRK-B_labeled_dataset.csv\n",
            "Saved: /content/drive/My Drive/universal_outputs/buy_volume_macd_rsi_v1/buy_volume_macd_rsi_v1_JPM_labeled_dataset.csv\n",
            "Saved: /content/drive/My Drive/universal_outputs/buy_volume_macd_rsi_v1/buy_volume_macd_rsi_v1_JNJ_labeled_dataset.csv\n",
            "Running chunk 2...\n",
            "Processing XOM\n",
            "Attempt 1: Downloading XOM...\n"
          ]
        },
        {
          "output_type": "stream",
          "name": "stderr",
          "text": [
            "\r[*********************100%***********************]  1 of 1 completed\n"
          ]
        },
        {
          "output_type": "stream",
          "name": "stdout",
          "text": [
            "🔎 XOM Sharpe: 3.20, Final Return: 835762.05\n",
            "Processing V\n",
            "Attempt 1: Downloading V...\n"
          ]
        },
        {
          "output_type": "stream",
          "name": "stderr",
          "text": [
            "\r[*********************100%***********************]  1 of 1 completed\n"
          ]
        },
        {
          "output_type": "stream",
          "name": "stdout",
          "text": [
            "🔎 V Sharpe: 2.32, Final Return: 86007.01\n",
            "Processing PG\n",
            "Attempt 1: Downloading PG...\n"
          ]
        },
        {
          "output_type": "stream",
          "name": "stderr",
          "text": [
            "\r[*********************100%***********************]  1 of 1 completed\n"
          ]
        },
        {
          "output_type": "stream",
          "name": "stdout",
          "text": [
            "🔎 PG Sharpe: 1.96, Final Return: 43336.72\n",
            "Processing UNH\n",
            "Attempt 1: Downloading UNH...\n"
          ]
        },
        {
          "output_type": "stream",
          "name": "stderr",
          "text": [
            "\r[*********************100%***********************]  1 of 1 completed\n"
          ]
        },
        {
          "output_type": "stream",
          "name": "stdout",
          "text": [
            "🔎 UNH Sharpe: 2.59, Final Return: 413618.49\n",
            "Processing MA\n",
            "Attempt 1: Downloading MA...\n"
          ]
        },
        {
          "output_type": "stream",
          "name": "stderr",
          "text": [
            "\r[*********************100%***********************]  1 of 1 completed\n"
          ]
        },
        {
          "output_type": "stream",
          "name": "stdout",
          "text": [
            "🔎 MA Sharpe: 2.37, Final Return: 109093.24\n",
            "Processing HD\n",
            "Attempt 1: Downloading HD...\n"
          ]
        },
        {
          "output_type": "stream",
          "name": "stderr",
          "text": [
            "\r[*********************100%***********************]  1 of 1 completed\n"
          ]
        },
        {
          "output_type": "stream",
          "name": "stdout",
          "text": [
            "🔎 HD Sharpe: 2.73, Final Return: 233874.29\n",
            "Processing LLY\n",
            "Attempt 1: Downloading LLY...\n"
          ]
        },
        {
          "output_type": "stream",
          "name": "stderr",
          "text": [
            "\r[*********************100%***********************]  1 of 1 completed\n"
          ]
        },
        {
          "output_type": "stream",
          "name": "stdout",
          "text": [
            "🔎 LLY Sharpe: 2.89, Final Return: 1801437.26\n",
            "Processing MRK\n",
            "Attempt 1: Downloading MRK...\n"
          ]
        },
        {
          "output_type": "stream",
          "name": "stderr",
          "text": [
            "\r[*********************100%***********************]  1 of 1 completed\n"
          ]
        },
        {
          "output_type": "stream",
          "name": "stdout",
          "text": [
            "🔎 MRK Sharpe: 2.35, Final Return: 125224.59\n",
            "Processing PEP\n",
            "Attempt 1: Downloading PEP...\n"
          ]
        },
        {
          "output_type": "stream",
          "name": "stderr",
          "text": [
            "\r[*********************100%***********************]  1 of 1 completed\n"
          ]
        },
        {
          "output_type": "stream",
          "name": "stdout",
          "text": [
            "🔎 PEP Sharpe: 2.12, Final Return: 42049.56\n",
            "Processing KO\n",
            "Attempt 1: Downloading KO...\n"
          ]
        },
        {
          "output_type": "stream",
          "name": "stderr",
          "text": [
            "\r[*********************100%***********************]  1 of 1 completed\n"
          ]
        },
        {
          "output_type": "stream",
          "name": "stdout",
          "text": [
            "🔎 KO Sharpe: 1.78, Final Return: 24939.71\n",
            "Saved: /content/drive/My Drive/universal_outputs/buy_volume_macd_rsi_v1/buy_volume_macd_rsi_v1_XOM_labeled_dataset.csv\n",
            "Saved: /content/drive/My Drive/universal_outputs/buy_volume_macd_rsi_v1/buy_volume_macd_rsi_v1_V_labeled_dataset.csv\n",
            "Saved: /content/drive/My Drive/universal_outputs/buy_volume_macd_rsi_v1/buy_volume_macd_rsi_v1_PG_labeled_dataset.csv\n",
            "Saved: /content/drive/My Drive/universal_outputs/buy_volume_macd_rsi_v1/buy_volume_macd_rsi_v1_UNH_labeled_dataset.csv\n",
            "Saved: /content/drive/My Drive/universal_outputs/buy_volume_macd_rsi_v1/buy_volume_macd_rsi_v1_MA_labeled_dataset.csv\n",
            "Saved: /content/drive/My Drive/universal_outputs/buy_volume_macd_rsi_v1/buy_volume_macd_rsi_v1_HD_labeled_dataset.csv\n",
            "Saved: /content/drive/My Drive/universal_outputs/buy_volume_macd_rsi_v1/buy_volume_macd_rsi_v1_LLY_labeled_dataset.csv\n",
            "Saved: /content/drive/My Drive/universal_outputs/buy_volume_macd_rsi_v1/buy_volume_macd_rsi_v1_MRK_labeled_dataset.csv\n",
            "Saved: /content/drive/My Drive/universal_outputs/buy_volume_macd_rsi_v1/buy_volume_macd_rsi_v1_PEP_labeled_dataset.csv\n",
            "Saved: /content/drive/My Drive/universal_outputs/buy_volume_macd_rsi_v1/buy_volume_macd_rsi_v1_KO_labeled_dataset.csv\n",
            "Running chunk 3...\n",
            "Processing BAC\n",
            "Attempt 1: Downloading BAC...\n"
          ]
        },
        {
          "output_type": "stream",
          "name": "stderr",
          "text": [
            "\r[*********************100%***********************]  1 of 1 completed\n"
          ]
        },
        {
          "output_type": "stream",
          "name": "stdout",
          "text": [
            "🔎 BAC Sharpe: 3.11, Final Return: 1037787.51\n",
            "Processing ABBV\n",
            "Attempt 1: Downloading ABBV...\n"
          ]
        },
        {
          "output_type": "stream",
          "name": "stderr",
          "text": [
            "\r[*********************100%***********************]  1 of 1 completed\n"
          ]
        },
        {
          "output_type": "stream",
          "name": "stdout",
          "text": [
            "🔎 ABBV Sharpe: 2.25, Final Return: 167379.52\n",
            "Processing AVGO\n",
            "Attempt 1: Downloading AVGO...\n"
          ]
        },
        {
          "output_type": "stream",
          "name": "stderr",
          "text": [
            "\r[*********************100%***********************]  1 of 1 completed\n"
          ]
        },
        {
          "output_type": "stream",
          "name": "stdout",
          "text": [
            "🔎 AVGO Sharpe: 3.45, Final Return: 48722620.59\n",
            "Processing PFE\n",
            "Attempt 1: Downloading PFE...\n"
          ]
        },
        {
          "output_type": "stream",
          "name": "stderr",
          "text": [
            "\r[*********************100%***********************]  1 of 1 completed\n"
          ]
        },
        {
          "output_type": "stream",
          "name": "stdout",
          "text": [
            "🔎 PFE Sharpe: 3.04, Final Return: 402452.36\n",
            "Processing COST\n",
            "Attempt 1: Downloading COST...\n"
          ]
        },
        {
          "output_type": "stream",
          "name": "stderr",
          "text": [
            "\r[*********************100%***********************]  1 of 1 completed\n"
          ]
        },
        {
          "output_type": "stream",
          "name": "stdout",
          "text": [
            "🔎 COST Sharpe: 2.60, Final Return: 168253.00\n",
            "Processing CSCO\n",
            "Attempt 1: Downloading CSCO...\n"
          ]
        },
        {
          "output_type": "stream",
          "name": "stderr",
          "text": [
            "\r[*********************100%***********************]  1 of 1 completed\n"
          ]
        },
        {
          "output_type": "stream",
          "name": "stdout",
          "text": [
            "🔎 CSCO Sharpe: 2.10, Final Return: 113527.71\n",
            "Processing TMO\n",
            "Attempt 1: Downloading TMO...\n"
          ]
        },
        {
          "output_type": "stream",
          "name": "stderr",
          "text": [
            "\r[*********************100%***********************]  1 of 1 completed\n"
          ]
        },
        {
          "output_type": "stream",
          "name": "stdout",
          "text": [
            "🔎 TMO Sharpe: 2.88, Final Return: 430794.49\n",
            "Processing ABT\n",
            "Attempt 1: Downloading ABT...\n"
          ]
        },
        {
          "output_type": "stream",
          "name": "stderr",
          "text": [
            "\r[*********************100%***********************]  1 of 1 completed\n"
          ]
        },
        {
          "output_type": "stream",
          "name": "stdout",
          "text": [
            "🔎 ABT Sharpe: 2.40, Final Return: 119587.36\n",
            "Processing ACN\n",
            "Attempt 1: Downloading ACN...\n"
          ]
        },
        {
          "output_type": "stream",
          "name": "stderr",
          "text": [
            "\r[*********************100%***********************]  1 of 1 completed\n"
          ]
        },
        {
          "output_type": "stream",
          "name": "stdout",
          "text": [
            "🔎 ACN Sharpe: 2.83, Final Return: 496005.97\n",
            "Processing WMT\n",
            "Attempt 1: Downloading WMT...\n"
          ]
        },
        {
          "output_type": "stream",
          "name": "stderr",
          "text": [
            "\r[*********************100%***********************]  1 of 1 completed\n"
          ]
        },
        {
          "output_type": "stream",
          "name": "stdout",
          "text": [
            "🔎 WMT Sharpe: 1.87, Final Return: 72465.40\n",
            "Saved: /content/drive/My Drive/universal_outputs/buy_volume_macd_rsi_v1/buy_volume_macd_rsi_v1_BAC_labeled_dataset.csv\n",
            "Saved: /content/drive/My Drive/universal_outputs/buy_volume_macd_rsi_v1/buy_volume_macd_rsi_v1_ABBV_labeled_dataset.csv\n",
            "Saved: /content/drive/My Drive/universal_outputs/buy_volume_macd_rsi_v1/buy_volume_macd_rsi_v1_AVGO_labeled_dataset.csv\n",
            "Saved: /content/drive/My Drive/universal_outputs/buy_volume_macd_rsi_v1/buy_volume_macd_rsi_v1_PFE_labeled_dataset.csv\n",
            "Saved: /content/drive/My Drive/universal_outputs/buy_volume_macd_rsi_v1/buy_volume_macd_rsi_v1_COST_labeled_dataset.csv\n",
            "Saved: /content/drive/My Drive/universal_outputs/buy_volume_macd_rsi_v1/buy_volume_macd_rsi_v1_CSCO_labeled_dataset.csv\n",
            "Saved: /content/drive/My Drive/universal_outputs/buy_volume_macd_rsi_v1/buy_volume_macd_rsi_v1_TMO_labeled_dataset.csv\n",
            "Saved: /content/drive/My Drive/universal_outputs/buy_volume_macd_rsi_v1/buy_volume_macd_rsi_v1_ABT_labeled_dataset.csv\n",
            "Saved: /content/drive/My Drive/universal_outputs/buy_volume_macd_rsi_v1/buy_volume_macd_rsi_v1_ACN_labeled_dataset.csv\n",
            "Saved: /content/drive/My Drive/universal_outputs/buy_volume_macd_rsi_v1/buy_volume_macd_rsi_v1_WMT_labeled_dataset.csv\n",
            "Running chunk 4...\n",
            "Processing MCD\n",
            "Attempt 1: Downloading MCD...\n"
          ]
        },
        {
          "output_type": "stream",
          "name": "stderr",
          "text": [
            "\r[*********************100%***********************]  1 of 1 completed\n"
          ]
        },
        {
          "output_type": "stream",
          "name": "stdout",
          "text": [
            "🔎 MCD Sharpe: 2.02, Final Return: 40610.30\n",
            "Processing ADBE\n",
            "Attempt 1: Downloading ADBE...\n"
          ]
        },
        {
          "output_type": "stream",
          "name": "stderr",
          "text": [
            "\r[*********************100%***********************]  1 of 1 completed\n"
          ]
        },
        {
          "output_type": "stream",
          "name": "stdout",
          "text": [
            "🔎 ADBE Sharpe: 3.12, Final Return: 8209700.47\n",
            "Processing DHR\n",
            "Attempt 1: Downloading DHR...\n"
          ]
        },
        {
          "output_type": "stream",
          "name": "stderr",
          "text": [
            "\r[*********************100%***********************]  1 of 1 completed\n"
          ]
        },
        {
          "output_type": "stream",
          "name": "stdout",
          "text": [
            "🔎 DHR Sharpe: 2.94, Final Return: 657762.40\n",
            "Processing CRM\n",
            "Attempt 1: Downloading CRM...\n"
          ]
        },
        {
          "output_type": "stream",
          "name": "stderr",
          "text": [
            "\r[*********************100%***********************]  1 of 1 completed\n"
          ]
        },
        {
          "output_type": "stream",
          "name": "stdout",
          "text": [
            "🔎 CRM Sharpe: 3.11, Final Return: 8871952.49\n",
            "Processing NKE\n",
            "Attempt 1: Downloading NKE...\n"
          ]
        },
        {
          "output_type": "stream",
          "name": "stderr",
          "text": [
            "\r[*********************100%***********************]  1 of 1 completed\n"
          ]
        },
        {
          "output_type": "stream",
          "name": "stdout",
          "text": [
            "🔎 NKE Sharpe: 2.62, Final Return: 2111269.52\n",
            "Processing INTC\n",
            "Attempt 1: Downloading INTC...\n"
          ]
        },
        {
          "output_type": "stream",
          "name": "stderr",
          "text": [
            "\r[*********************100%***********************]  1 of 1 completed\n"
          ]
        },
        {
          "output_type": "stream",
          "name": "stdout",
          "text": [
            "🔎 INTC Sharpe: 3.15, Final Return: 145145618.79\n",
            "Processing QCOM\n",
            "Attempt 1: Downloading QCOM...\n"
          ]
        },
        {
          "output_type": "stream",
          "name": "stderr",
          "text": [
            "\r[*********************100%***********************]  1 of 1 completed\n"
          ]
        },
        {
          "output_type": "stream",
          "name": "stdout",
          "text": [
            "🔎 QCOM Sharpe: 3.54, Final Return: 14353702.39\n",
            "Processing NEE\n",
            "Attempt 1: Downloading NEE...\n"
          ]
        },
        {
          "output_type": "stream",
          "name": "stderr",
          "text": [
            "\r[*********************100%***********************]  1 of 1 completed\n"
          ]
        },
        {
          "output_type": "stream",
          "name": "stdout",
          "text": [
            "🔎 NEE Sharpe: 2.96, Final Return: 784481.31\n",
            "Processing AMD\n",
            "Attempt 1: Downloading AMD...\n"
          ]
        },
        {
          "output_type": "stream",
          "name": "stderr",
          "text": [
            "\r[*********************100%***********************]  1 of 1 completed\n"
          ]
        },
        {
          "output_type": "stream",
          "name": "stdout",
          "text": [
            "🔎 AMD Sharpe: 3.91, Final Return: 998864958.98\n",
            "Processing TXN\n",
            "Attempt 1: Downloading TXN...\n"
          ]
        },
        {
          "output_type": "stream",
          "name": "stderr",
          "text": [
            "\r[*********************100%***********************]  1 of 1 completed\n"
          ]
        },
        {
          "output_type": "stream",
          "name": "stdout",
          "text": [
            "🔎 TXN Sharpe: 3.22, Final Return: 958509.66\n",
            "Saved: /content/drive/My Drive/universal_outputs/buy_volume_macd_rsi_v1/buy_volume_macd_rsi_v1_MCD_labeled_dataset.csv\n",
            "Saved: /content/drive/My Drive/universal_outputs/buy_volume_macd_rsi_v1/buy_volume_macd_rsi_v1_ADBE_labeled_dataset.csv\n",
            "Saved: /content/drive/My Drive/universal_outputs/buy_volume_macd_rsi_v1/buy_volume_macd_rsi_v1_DHR_labeled_dataset.csv\n",
            "Saved: /content/drive/My Drive/universal_outputs/buy_volume_macd_rsi_v1/buy_volume_macd_rsi_v1_CRM_labeled_dataset.csv\n",
            "Saved: /content/drive/My Drive/universal_outputs/buy_volume_macd_rsi_v1/buy_volume_macd_rsi_v1_NKE_labeled_dataset.csv\n",
            "Saved: /content/drive/My Drive/universal_outputs/buy_volume_macd_rsi_v1/buy_volume_macd_rsi_v1_INTC_labeled_dataset.csv\n",
            "Saved: /content/drive/My Drive/universal_outputs/buy_volume_macd_rsi_v1/buy_volume_macd_rsi_v1_QCOM_labeled_dataset.csv\n",
            "Saved: /content/drive/My Drive/universal_outputs/buy_volume_macd_rsi_v1/buy_volume_macd_rsi_v1_NEE_labeled_dataset.csv\n",
            "Saved: /content/drive/My Drive/universal_outputs/buy_volume_macd_rsi_v1/buy_volume_macd_rsi_v1_AMD_labeled_dataset.csv\n",
            "Saved: /content/drive/My Drive/universal_outputs/buy_volume_macd_rsi_v1/buy_volume_macd_rsi_v1_TXN_labeled_dataset.csv\n",
            "Running chunk 5...\n",
            "Processing AMGN\n",
            "Attempt 1: Downloading AMGN...\n"
          ]
        },
        {
          "output_type": "stream",
          "name": "stderr",
          "text": [
            "\r[*********************100%***********************]  1 of 1 completed\n"
          ]
        },
        {
          "output_type": "stream",
          "name": "stdout",
          "text": [
            "🔎 AMGN Sharpe: 2.33, Final Return: 223089.71\n",
            "Processing UPS\n",
            "Attempt 1: Downloading UPS...\n"
          ]
        },
        {
          "output_type": "stream",
          "name": "stderr",
          "text": [
            "\r[*********************100%***********************]  1 of 1 completed\n"
          ]
        },
        {
          "output_type": "stream",
          "name": "stdout",
          "text": [
            "🔎 UPS Sharpe: 2.49, Final Return: 490020.42\n",
            "Processing LIN\n",
            "Attempt 1: Downloading LIN...\n"
          ]
        },
        {
          "output_type": "stream",
          "name": "stderr",
          "text": [
            "\r[*********************100%***********************]  1 of 1 completed\n"
          ]
        },
        {
          "output_type": "stream",
          "name": "stdout",
          "text": [
            "🔎 LIN Sharpe: 2.17, Final Return: 83261.41\n",
            "Processing PM\n",
            "Attempt 1: Downloading PM...\n"
          ]
        },
        {
          "output_type": "stream",
          "name": "stderr",
          "text": [
            "\r[*********************100%***********************]  1 of 1 completed\n"
          ]
        },
        {
          "output_type": "stream",
          "name": "stdout",
          "text": [
            "🔎 PM Sharpe: 2.20, Final Return: 85909.00\n",
            "Processing UNP\n",
            "Attempt 1: Downloading UNP...\n"
          ]
        },
        {
          "output_type": "stream",
          "name": "stderr",
          "text": [
            "\r[*********************100%***********************]  1 of 1 completed\n"
          ]
        },
        {
          "output_type": "stream",
          "name": "stdout",
          "text": [
            "🔎 UNP Sharpe: 2.49, Final Return: 214011.33\n",
            "Processing BMY\n",
            "Attempt 1: Downloading BMY...\n"
          ]
        },
        {
          "output_type": "stream",
          "name": "stderr",
          "text": [
            "\r[*********************100%***********************]  1 of 1 completed\n"
          ]
        },
        {
          "output_type": "stream",
          "name": "stdout",
          "text": [
            "🔎 BMY Sharpe: 2.62, Final Return: 292975.20\n",
            "Processing LOW\n",
            "Attempt 1: Downloading LOW...\n"
          ]
        },
        {
          "output_type": "stream",
          "name": "stderr",
          "text": [
            "\r[*********************100%***********************]  1 of 1 completed\n"
          ]
        },
        {
          "output_type": "stream",
          "name": "stdout",
          "text": [
            "🔎 LOW Sharpe: 2.91, Final Return: 524744.79\n",
            "Processing RTX\n",
            "Attempt 1: Downloading RTX...\n"
          ]
        },
        {
          "output_type": "stream",
          "name": "stderr",
          "text": [
            "\r[*********************100%***********************]  1 of 1 completed\n"
          ]
        },
        {
          "output_type": "stream",
          "name": "stdout",
          "text": [
            "🔎 RTX Sharpe: 2.11, Final Return: 149954.36\n",
            "Processing CVX\n",
            "Attempt 1: Downloading CVX...\n"
          ]
        },
        {
          "output_type": "stream",
          "name": "stderr",
          "text": [
            "\r[*********************100%***********************]  1 of 1 completed\n"
          ]
        },
        {
          "output_type": "stream",
          "name": "stdout",
          "text": [
            "🔎 CVX Sharpe: 2.89, Final Return: 427002.78\n",
            "Processing IBM\n",
            "Attempt 1: Downloading IBM...\n"
          ]
        },
        {
          "output_type": "stream",
          "name": "stderr",
          "text": [
            "\r[*********************100%***********************]  1 of 1 completed\n"
          ]
        },
        {
          "output_type": "stream",
          "name": "stdout",
          "text": [
            "🔎 IBM Sharpe: 2.14, Final Return: 155647.07\n",
            "Saved: /content/drive/My Drive/universal_outputs/buy_volume_macd_rsi_v1/buy_volume_macd_rsi_v1_AMGN_labeled_dataset.csv\n",
            "Saved: /content/drive/My Drive/universal_outputs/buy_volume_macd_rsi_v1/buy_volume_macd_rsi_v1_UPS_labeled_dataset.csv\n",
            "Saved: /content/drive/My Drive/universal_outputs/buy_volume_macd_rsi_v1/buy_volume_macd_rsi_v1_LIN_labeled_dataset.csv\n",
            "Saved: /content/drive/My Drive/universal_outputs/buy_volume_macd_rsi_v1/buy_volume_macd_rsi_v1_PM_labeled_dataset.csv\n",
            "Saved: /content/drive/My Drive/universal_outputs/buy_volume_macd_rsi_v1/buy_volume_macd_rsi_v1_UNP_labeled_dataset.csv\n",
            "Saved: /content/drive/My Drive/universal_outputs/buy_volume_macd_rsi_v1/buy_volume_macd_rsi_v1_BMY_labeled_dataset.csv\n",
            "Saved: /content/drive/My Drive/universal_outputs/buy_volume_macd_rsi_v1/buy_volume_macd_rsi_v1_LOW_labeled_dataset.csv\n",
            "Saved: /content/drive/My Drive/universal_outputs/buy_volume_macd_rsi_v1/buy_volume_macd_rsi_v1_RTX_labeled_dataset.csv\n",
            "Saved: /content/drive/My Drive/universal_outputs/buy_volume_macd_rsi_v1/buy_volume_macd_rsi_v1_CVX_labeled_dataset.csv\n",
            "Saved: /content/drive/My Drive/universal_outputs/buy_volume_macd_rsi_v1/buy_volume_macd_rsi_v1_IBM_labeled_dataset.csv\n",
            "Running chunk 6...\n",
            "Processing GE\n",
            "Attempt 1: Downloading GE...\n"
          ]
        },
        {
          "output_type": "stream",
          "name": "stderr",
          "text": [
            "\r[*********************100%***********************]  1 of 1 completed\n"
          ]
        },
        {
          "output_type": "stream",
          "name": "stdout",
          "text": [
            "🔎 GE Sharpe: 3.21, Final Return: 1957206.00\n",
            "Processing SBUX\n",
            "Attempt 1: Downloading SBUX...\n"
          ]
        },
        {
          "output_type": "stream",
          "name": "stderr",
          "text": [
            "\r[*********************100%***********************]  1 of 1 completed\n"
          ]
        },
        {
          "output_type": "stream",
          "name": "stdout",
          "text": [
            "🔎 SBUX Sharpe: 2.11, Final Return: 471156.52\n",
            "Processing ORCL\n",
            "Attempt 1: Downloading ORCL...\n"
          ]
        },
        {
          "output_type": "stream",
          "name": "stderr",
          "text": [
            "\r[*********************100%***********************]  1 of 1 completed\n"
          ]
        },
        {
          "output_type": "stream",
          "name": "stdout",
          "text": [
            "🔎 ORCL Sharpe: 2.72, Final Return: 1985374.59\n",
            "Saved: /content/drive/My Drive/universal_outputs/buy_volume_macd_rsi_v1/buy_volume_macd_rsi_v1_GE_labeled_dataset.csv\n",
            "Saved: /content/drive/My Drive/universal_outputs/buy_volume_macd_rsi_v1/buy_volume_macd_rsi_v1_SBUX_labeled_dataset.csv\n",
            "Saved: /content/drive/My Drive/universal_outputs/buy_volume_macd_rsi_v1/buy_volume_macd_rsi_v1_ORCL_labeled_dataset.csv\n",
            "Combined dataset saved: /content/drive/My Drive/universal_outputs/buy_volume_macd_rsi_v1/combined_dataset_20250405_0139.csv\n",
            "Zipped results uploaded to Google Drive\n",
            "Filtered tickers saved to: /content/drive/My Drive/universal_outputs/buy_volume_macd_rsi_v1/filtered_tickers.csv\n",
            " Summary log created at: /content/drive/My Drive/universal_outputs/buy_volume_macd_rsi_v1/summary_20250405_0139.txt\n",
            "CONFIG saved to: /content/drive/My Drive/universal_outputs/buy_volume_macd_rsi_v1/config.json\n"
          ]
        }
      ]
    },
    {
      "cell_type": "code",
      "source": [
        "plt.figure(figsize=(10, 4))\n",
        "plt.plot(df['Datetime'], df['Equity_Curve'], label=f\"{ticker} Equity\")\n",
        "plt.title(f\"{ticker} Strategy Performance\")\n",
        "plt.xlabel(\"Date\")\n",
        "plt.ylabel(\"Equity Value\")\n",
        "plt.grid(True)\n",
        "plt.legend()\n",
        "plt.tight_layout()\n",
        "plt.show()\n"
      ],
      "metadata": {
        "colab": {
          "base_uri": "https://localhost:8080/",
          "height": 407
        },
        "id": "G7DfAoUqn1Dx",
        "outputId": "5d45fe9d-cc52-4827-8b69-732c6f0109fc"
      },
      "execution_count": 71,
      "outputs": [
        {
          "output_type": "display_data",
          "data": {
            "text/plain": [
              "<Figure size 1000x400 with 1 Axes>"
            ],
            "image/png": "[encoded data removed]"
          },
          "metadata": {}
        }
      ]
    }
  ]
}